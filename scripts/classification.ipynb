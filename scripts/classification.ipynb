{
 "cells": [
  {
   "cell_type": "code",
   "execution_count": 16,
   "id": "57f85f9b-9f36-4fa2-8b42-598d67551525",
   "metadata": {
    "id": "-iBg_1g_3ri4"
   },
   "outputs": [],
   "source": [
    "# import library\n",
    "from scipy.io import loadmat\n",
    "import numpy as np\n",
    "import seaborn as sns\n",
    "import pandas as pd\n",
    "from matplotlib import pyplot as plt\n",
    "\n",
    "from warpped.collection import parse_chronnectome, get_mean_chronnectome, get_number_of_visit, warp_knn\n",
    "# import gloabl variables\n",
    "from warpped.global_variables import * "
   ]
  },
  {
   "cell_type": "code",
   "execution_count": 17,
   "id": "3596b34f-35a1-4709-a0f3-3e578329fce2",
   "metadata": {
    "colab": {
     "base_uri": "https://localhost:8080/",
     "height": 35
    },
    "executionInfo": {
     "elapsed": 16,
     "status": "ok",
     "timestamp": 1649957754726,
     "user": {
      "displayName": "Jianzhang Ni",
      "userId": "18109982546966884557"
     },
     "user_tz": -60
    },
    "id": "MTDOepwc4lAS",
    "outputId": "ee6ea533-4a9e-45a3-abe5-aaaa5926fb92"
   },
   "outputs": [
    {
     "data": {
      "text/plain": [
       "'/home/jzni/dissertation/analysis/output/hmminfo/hmminfo_k16_rep_2.mat'"
      ]
     },
     "execution_count": 17,
     "metadata": {},
     "output_type": "execute_result"
    }
   ],
   "source": [
    "# The selected model should be contained in global_variables, if wanna try different parameter then uncomment bleow \n",
    "# K_state=12; rep_num = 2\n",
    "\n",
    "hmm_file = base+f'chronotype_k{K_state}_rep_{rep_num}.mat'\n",
    "hmminfo_file = base+f'hmminfo/hmminfo_k{K_state}_rep_{rep_num}.mat'\n",
    "hmminfo_file"
   ]
  },
  {
   "cell_type": "code",
   "execution_count": 18,
   "id": "f3525952-efc0-4220-a97a-cb93850874dc",
   "metadata": {
    "id": "71454215-4004-47fd-98ac-8ca609e54cfe"
   },
   "outputs": [],
   "source": [
    "hmm = loadmat(hmm_file)\n",
    "hmm_info = loadmat(hmminfo_file)"
   ]
  },
  {
   "cell_type": "code",
   "execution_count": 19,
   "id": "5a6c18fa-48a4-4245-bfe1-95f94080d8c4",
   "metadata": {},
   "outputs": [],
   "source": [
    "# Parse HMM info\n",
    "state_order = np.squeeze(hmm_info['ord']) # the order of state for fo_corr and ordered_p\n",
    "fo_corr = pd.DataFrame(hmm_info['fo_matrix'], columns=state_order, index=state_order)\n",
    "ordered_p = pd.DataFrame(hmm_info['ordered_p'], columns=state_order, index=state_order)\n",
    "\n",
    "## hmms = hmm_info['hmms']  # contains the subject specific hmm\n",
    "# Parse chronnectome info\n",
    "## info based on veterbi path \n",
    "raw_fo, lifetime, intervals = parse_chronnectome(hmm_info[hmminfo_source], model_selection=False)\n"
   ]
  },
  {
   "cell_type": "markdown",
   "id": "ee2ec82a-53fd-4b59-b03a-5c177118e760",
   "metadata": {
    "id": "EBrhm_47SXQ7",
    "tags": []
   },
   "source": [
    "## Load Data"
   ]
  },
  {
   "cell_type": "code",
   "execution_count": 20,
   "id": "54e0705b-9b13-434c-b317-1bf7c73ce0c9",
   "metadata": {
    "id": "wjq0XkD5JWjR"
   },
   "outputs": [],
   "source": [
    "performance = pd.read_csv(f'{behav_dir}performance_proc.csv')\n",
    "physio = pd.read_csv(f'{behav_dir}physio_proc.csv')\n",
    "acti = pd.read_csv(f'{behav_dir}actigraph_proc.csv')\n",
    "scales = pd.read_csv(f'{behav_dir}questionnaire_proc.csv')\n"
   ]
  },
  {
   "cell_type": "code",
   "execution_count": 21,
   "id": "b6515c60-6a73-43b0-a502-55a782988ce4",
   "metadata": {
    "colab": {
     "base_uri": "https://localhost:8080/",
     "height": 205
    },
    "executionInfo": {
     "elapsed": 6,
     "status": "ok",
     "timestamp": 1649957758250,
     "user": {
      "displayName": "Jianzhang Ni",
      "userId": "18109982546966884557"
     },
     "user_tz": -60
    },
    "id": "LfsolE8_SY7L",
    "outputId": "90db6ea1-f629-4b76-cea9-9ea72ce8d69a"
   },
   "outputs": [
    {
     "data": {
      "text/html": [
       "<div>\n",
       "<style scoped>\n",
       "    .dataframe tbody tr th:only-of-type {\n",
       "        vertical-align: middle;\n",
       "    }\n",
       "\n",
       "    .dataframe tbody tr th {\n",
       "        vertical-align: top;\n",
       "    }\n",
       "\n",
       "    .dataframe thead th {\n",
       "        text-align: right;\n",
       "    }\n",
       "</style>\n",
       "<table border=\"1\" class=\"dataframe\">\n",
       "  <thead>\n",
       "    <tr style=\"text-align: right;\">\n",
       "      <th></th>\n",
       "      <th>state1_visits</th>\n",
       "      <th>state2_visits</th>\n",
       "      <th>state3_visits</th>\n",
       "      <th>state4_visits</th>\n",
       "      <th>state5_visits</th>\n",
       "      <th>state6_visits</th>\n",
       "      <th>state7_visits</th>\n",
       "      <th>state8_visits</th>\n",
       "      <th>state9_visits</th>\n",
       "      <th>state10_visits</th>\n",
       "      <th>state11_visits</th>\n",
       "      <th>state12_visits</th>\n",
       "      <th>state13_visits</th>\n",
       "      <th>state14_visits</th>\n",
       "      <th>state15_visits</th>\n",
       "      <th>state16_visits</th>\n",
       "    </tr>\n",
       "  </thead>\n",
       "  <tbody>\n",
       "    <tr>\n",
       "      <th>0</th>\n",
       "      <td>6</td>\n",
       "      <td>3</td>\n",
       "      <td>13</td>\n",
       "      <td>4</td>\n",
       "      <td>10</td>\n",
       "      <td>9</td>\n",
       "      <td>7</td>\n",
       "      <td>6</td>\n",
       "      <td>2</td>\n",
       "      <td>6</td>\n",
       "      <td>6</td>\n",
       "      <td>10</td>\n",
       "      <td>9</td>\n",
       "      <td>5</td>\n",
       "      <td>3</td>\n",
       "      <td>3</td>\n",
       "    </tr>\n",
       "    <tr>\n",
       "      <th>1</th>\n",
       "      <td>9</td>\n",
       "      <td>9</td>\n",
       "      <td>9</td>\n",
       "      <td>8</td>\n",
       "      <td>6</td>\n",
       "      <td>3</td>\n",
       "      <td>1</td>\n",
       "      <td>6</td>\n",
       "      <td>5</td>\n",
       "      <td>7</td>\n",
       "      <td>2</td>\n",
       "      <td>3</td>\n",
       "      <td>7</td>\n",
       "      <td>6</td>\n",
       "      <td>6</td>\n",
       "      <td>8</td>\n",
       "    </tr>\n",
       "    <tr>\n",
       "      <th>2</th>\n",
       "      <td>10</td>\n",
       "      <td>5</td>\n",
       "      <td>20</td>\n",
       "      <td>10</td>\n",
       "      <td>9</td>\n",
       "      <td>10</td>\n",
       "      <td>1</td>\n",
       "      <td>4</td>\n",
       "      <td>2</td>\n",
       "      <td>10</td>\n",
       "      <td>10</td>\n",
       "      <td>5</td>\n",
       "      <td>1</td>\n",
       "      <td>4</td>\n",
       "      <td>8</td>\n",
       "      <td>6</td>\n",
       "    </tr>\n",
       "    <tr>\n",
       "      <th>3</th>\n",
       "      <td>7</td>\n",
       "      <td>3</td>\n",
       "      <td>14</td>\n",
       "      <td>6</td>\n",
       "      <td>2</td>\n",
       "      <td>3</td>\n",
       "      <td>1</td>\n",
       "      <td>9</td>\n",
       "      <td>4</td>\n",
       "      <td>9</td>\n",
       "      <td>15</td>\n",
       "      <td>5</td>\n",
       "      <td>8</td>\n",
       "      <td>7</td>\n",
       "      <td>8</td>\n",
       "      <td>2</td>\n",
       "    </tr>\n",
       "    <tr>\n",
       "      <th>4</th>\n",
       "      <td>12</td>\n",
       "      <td>8</td>\n",
       "      <td>11</td>\n",
       "      <td>10</td>\n",
       "      <td>16</td>\n",
       "      <td>6</td>\n",
       "      <td>0</td>\n",
       "      <td>5</td>\n",
       "      <td>1</td>\n",
       "      <td>10</td>\n",
       "      <td>5</td>\n",
       "      <td>3</td>\n",
       "      <td>5</td>\n",
       "      <td>6</td>\n",
       "      <td>7</td>\n",
       "      <td>2</td>\n",
       "    </tr>\n",
       "  </tbody>\n",
       "</table>\n",
       "</div>"
      ],
      "text/plain": [
       "  state1_visits state2_visits state3_visits state4_visits state5_visits  \\\n",
       "0             6             3            13             4            10   \n",
       "1             9             9             9             8             6   \n",
       "2            10             5            20            10             9   \n",
       "3             7             3            14             6             2   \n",
       "4            12             8            11            10            16   \n",
       "\n",
       "  state6_visits state7_visits state8_visits state9_visits state10_visits  \\\n",
       "0             9             7             6             2              6   \n",
       "1             3             1             6             5              7   \n",
       "2            10             1             4             2             10   \n",
       "3             3             1             9             4              9   \n",
       "4             6             0             5             1             10   \n",
       "\n",
       "  state11_visits state12_visits state13_visits state14_visits state15_visits  \\\n",
       "0              6             10              9              5              3   \n",
       "1              2              3              7              6              6   \n",
       "2             10              5              1              4              8   \n",
       "3             15              5              8              7              8   \n",
       "4              5              3              5              6              7   \n",
       "\n",
       "  state16_visits  \n",
       "0              3  \n",
       "1              8  \n",
       "2              6  \n",
       "3              2  \n",
       "4              2  "
      ]
     },
     "execution_count": 21,
     "metadata": {},
     "output_type": "execute_result"
    }
   ],
   "source": [
    "fo_df =  pd.DataFrame(raw_fo, columns=[f'state{i}_fo' for i in range(1, K_state+1)])\n",
    "lifetime_df = pd.DataFrame(get_mean_chronnectome(lifetime ), columns=[f'state{i}_life' for i in range(1, K_state+1)])\n",
    "interval_df = pd.DataFrame(get_mean_chronnectome(intervals), columns=[f'state{i}_intervals' for i in range(1, K_state+1)])\n",
    "visits_df = get_number_of_visit(lifetime)\n",
    "visits_df.head()"
   ]
  },
  {
   "cell_type": "code",
   "execution_count": 22,
   "id": "f9869a4d-ffe1-49df-b4c9-88b414cfa4f9",
   "metadata": {},
   "outputs": [
    {
     "data": {
      "text/html": [
       "<div>\n",
       "<style scoped>\n",
       "    .dataframe tbody tr th:only-of-type {\n",
       "        vertical-align: middle;\n",
       "    }\n",
       "\n",
       "    .dataframe tbody tr th {\n",
       "        vertical-align: top;\n",
       "    }\n",
       "\n",
       "    .dataframe thead th {\n",
       "        text-align: right;\n",
       "    }\n",
       "</style>\n",
       "<table border=\"1\" class=\"dataframe\">\n",
       "  <thead>\n",
       "    <tr style=\"text-align: right;\">\n",
       "      <th></th>\n",
       "      <th>state1_fo</th>\n",
       "      <th>state2_fo</th>\n",
       "      <th>state3_fo</th>\n",
       "      <th>state4_fo</th>\n",
       "      <th>state5_fo</th>\n",
       "      <th>state6_fo</th>\n",
       "      <th>state7_fo</th>\n",
       "      <th>state8_fo</th>\n",
       "      <th>state9_fo</th>\n",
       "      <th>state10_fo</th>\n",
       "      <th>...</th>\n",
       "      <th>state7_visits</th>\n",
       "      <th>state8_visits</th>\n",
       "      <th>state9_visits</th>\n",
       "      <th>state10_visits</th>\n",
       "      <th>state11_visits</th>\n",
       "      <th>state12_visits</th>\n",
       "      <th>state13_visits</th>\n",
       "      <th>state14_visits</th>\n",
       "      <th>state15_visits</th>\n",
       "      <th>state16_visits</th>\n",
       "    </tr>\n",
       "  </thead>\n",
       "  <tbody>\n",
       "    <tr>\n",
       "      <th>0</th>\n",
       "      <td>0.05</td>\n",
       "      <td>0.03</td>\n",
       "      <td>0.12</td>\n",
       "      <td>0.03</td>\n",
       "      <td>0.12</td>\n",
       "      <td>0.12</td>\n",
       "      <td>0.09</td>\n",
       "      <td>0.06</td>\n",
       "      <td>0.02</td>\n",
       "      <td>0.05</td>\n",
       "      <td>...</td>\n",
       "      <td>7.0</td>\n",
       "      <td>6.0</td>\n",
       "      <td>2.0</td>\n",
       "      <td>6.0</td>\n",
       "      <td>6.0</td>\n",
       "      <td>10.0</td>\n",
       "      <td>9.0</td>\n",
       "      <td>5.0</td>\n",
       "      <td>3.0</td>\n",
       "      <td>3.0</td>\n",
       "    </tr>\n",
       "    <tr>\n",
       "      <th>1</th>\n",
       "      <td>0.10</td>\n",
       "      <td>0.12</td>\n",
       "      <td>0.06</td>\n",
       "      <td>0.10</td>\n",
       "      <td>0.06</td>\n",
       "      <td>0.03</td>\n",
       "      <td>0.00</td>\n",
       "      <td>0.08</td>\n",
       "      <td>0.07</td>\n",
       "      <td>0.06</td>\n",
       "      <td>...</td>\n",
       "      <td>1.0</td>\n",
       "      <td>6.0</td>\n",
       "      <td>5.0</td>\n",
       "      <td>7.0</td>\n",
       "      <td>2.0</td>\n",
       "      <td>3.0</td>\n",
       "      <td>7.0</td>\n",
       "      <td>6.0</td>\n",
       "      <td>6.0</td>\n",
       "      <td>8.0</td>\n",
       "    </tr>\n",
       "    <tr>\n",
       "      <th>2</th>\n",
       "      <td>0.08</td>\n",
       "      <td>0.04</td>\n",
       "      <td>0.11</td>\n",
       "      <td>0.10</td>\n",
       "      <td>0.08</td>\n",
       "      <td>0.08</td>\n",
       "      <td>0.01</td>\n",
       "      <td>0.03</td>\n",
       "      <td>0.03</td>\n",
       "      <td>0.10</td>\n",
       "      <td>...</td>\n",
       "      <td>1.0</td>\n",
       "      <td>4.0</td>\n",
       "      <td>2.0</td>\n",
       "      <td>10.0</td>\n",
       "      <td>10.0</td>\n",
       "      <td>5.0</td>\n",
       "      <td>1.0</td>\n",
       "      <td>4.0</td>\n",
       "      <td>8.0</td>\n",
       "      <td>6.0</td>\n",
       "    </tr>\n",
       "    <tr>\n",
       "      <th>3</th>\n",
       "      <td>0.08</td>\n",
       "      <td>0.04</td>\n",
       "      <td>0.12</td>\n",
       "      <td>0.06</td>\n",
       "      <td>0.02</td>\n",
       "      <td>0.03</td>\n",
       "      <td>0.01</td>\n",
       "      <td>0.08</td>\n",
       "      <td>0.02</td>\n",
       "      <td>0.08</td>\n",
       "      <td>...</td>\n",
       "      <td>1.0</td>\n",
       "      <td>9.0</td>\n",
       "      <td>4.0</td>\n",
       "      <td>9.0</td>\n",
       "      <td>15.0</td>\n",
       "      <td>5.0</td>\n",
       "      <td>8.0</td>\n",
       "      <td>7.0</td>\n",
       "      <td>8.0</td>\n",
       "      <td>2.0</td>\n",
       "    </tr>\n",
       "    <tr>\n",
       "      <th>4</th>\n",
       "      <td>0.12</td>\n",
       "      <td>0.09</td>\n",
       "      <td>0.07</td>\n",
       "      <td>0.11</td>\n",
       "      <td>0.14</td>\n",
       "      <td>0.05</td>\n",
       "      <td>0.00</td>\n",
       "      <td>0.03</td>\n",
       "      <td>0.01</td>\n",
       "      <td>0.10</td>\n",
       "      <td>...</td>\n",
       "      <td>0.0</td>\n",
       "      <td>5.0</td>\n",
       "      <td>1.0</td>\n",
       "      <td>10.0</td>\n",
       "      <td>5.0</td>\n",
       "      <td>3.0</td>\n",
       "      <td>5.0</td>\n",
       "      <td>6.0</td>\n",
       "      <td>7.0</td>\n",
       "      <td>2.0</td>\n",
       "    </tr>\n",
       "    <tr>\n",
       "      <th>...</th>\n",
       "      <td>...</td>\n",
       "      <td>...</td>\n",
       "      <td>...</td>\n",
       "      <td>...</td>\n",
       "      <td>...</td>\n",
       "      <td>...</td>\n",
       "      <td>...</td>\n",
       "      <td>...</td>\n",
       "      <td>...</td>\n",
       "      <td>...</td>\n",
       "      <td>...</td>\n",
       "      <td>...</td>\n",
       "      <td>...</td>\n",
       "      <td>...</td>\n",
       "      <td>...</td>\n",
       "      <td>...</td>\n",
       "      <td>...</td>\n",
       "      <td>...</td>\n",
       "      <td>...</td>\n",
       "      <td>...</td>\n",
       "      <td>...</td>\n",
       "    </tr>\n",
       "    <tr>\n",
       "      <th>106</th>\n",
       "      <td>0.10</td>\n",
       "      <td>0.06</td>\n",
       "      <td>0.16</td>\n",
       "      <td>0.07</td>\n",
       "      <td>0.09</td>\n",
       "      <td>0.03</td>\n",
       "      <td>0.00</td>\n",
       "      <td>0.02</td>\n",
       "      <td>0.06</td>\n",
       "      <td>0.08</td>\n",
       "      <td>...</td>\n",
       "      <td>0.0</td>\n",
       "      <td>3.0</td>\n",
       "      <td>7.0</td>\n",
       "      <td>7.0</td>\n",
       "      <td>7.0</td>\n",
       "      <td>9.0</td>\n",
       "      <td>3.0</td>\n",
       "      <td>6.0</td>\n",
       "      <td>5.0</td>\n",
       "      <td>5.0</td>\n",
       "    </tr>\n",
       "    <tr>\n",
       "      <th>107</th>\n",
       "      <td>0.07</td>\n",
       "      <td>0.08</td>\n",
       "      <td>0.11</td>\n",
       "      <td>0.11</td>\n",
       "      <td>0.11</td>\n",
       "      <td>0.08</td>\n",
       "      <td>0.00</td>\n",
       "      <td>0.04</td>\n",
       "      <td>0.08</td>\n",
       "      <td>0.09</td>\n",
       "      <td>...</td>\n",
       "      <td>1.0</td>\n",
       "      <td>4.0</td>\n",
       "      <td>6.0</td>\n",
       "      <td>7.0</td>\n",
       "      <td>4.0</td>\n",
       "      <td>3.0</td>\n",
       "      <td>0.0</td>\n",
       "      <td>1.0</td>\n",
       "      <td>6.0</td>\n",
       "      <td>7.0</td>\n",
       "    </tr>\n",
       "    <tr>\n",
       "      <th>108</th>\n",
       "      <td>0.11</td>\n",
       "      <td>0.02</td>\n",
       "      <td>0.10</td>\n",
       "      <td>0.07</td>\n",
       "      <td>0.11</td>\n",
       "      <td>0.05</td>\n",
       "      <td>0.10</td>\n",
       "      <td>0.04</td>\n",
       "      <td>0.01</td>\n",
       "      <td>0.06</td>\n",
       "      <td>...</td>\n",
       "      <td>8.0</td>\n",
       "      <td>6.0</td>\n",
       "      <td>2.0</td>\n",
       "      <td>4.0</td>\n",
       "      <td>5.0</td>\n",
       "      <td>3.0</td>\n",
       "      <td>7.0</td>\n",
       "      <td>5.0</td>\n",
       "      <td>6.0</td>\n",
       "      <td>6.0</td>\n",
       "    </tr>\n",
       "    <tr>\n",
       "      <th>109</th>\n",
       "      <td>0.09</td>\n",
       "      <td>0.06</td>\n",
       "      <td>0.12</td>\n",
       "      <td>0.05</td>\n",
       "      <td>0.04</td>\n",
       "      <td>0.06</td>\n",
       "      <td>0.00</td>\n",
       "      <td>0.00</td>\n",
       "      <td>0.05</td>\n",
       "      <td>0.16</td>\n",
       "      <td>...</td>\n",
       "      <td>0.0</td>\n",
       "      <td>1.0</td>\n",
       "      <td>6.0</td>\n",
       "      <td>12.0</td>\n",
       "      <td>2.0</td>\n",
       "      <td>5.0</td>\n",
       "      <td>4.0</td>\n",
       "      <td>6.0</td>\n",
       "      <td>7.0</td>\n",
       "      <td>7.0</td>\n",
       "    </tr>\n",
       "    <tr>\n",
       "      <th>110</th>\n",
       "      <td>0.02</td>\n",
       "      <td>0.05</td>\n",
       "      <td>0.15</td>\n",
       "      <td>0.02</td>\n",
       "      <td>0.03</td>\n",
       "      <td>0.08</td>\n",
       "      <td>0.12</td>\n",
       "      <td>0.10</td>\n",
       "      <td>0.01</td>\n",
       "      <td>0.03</td>\n",
       "      <td>...</td>\n",
       "      <td>13.0</td>\n",
       "      <td>10.0</td>\n",
       "      <td>1.0</td>\n",
       "      <td>3.0</td>\n",
       "      <td>6.0</td>\n",
       "      <td>4.0</td>\n",
       "      <td>14.0</td>\n",
       "      <td>6.0</td>\n",
       "      <td>5.0</td>\n",
       "      <td>4.0</td>\n",
       "    </tr>\n",
       "  </tbody>\n",
       "</table>\n",
       "<p>111 rows × 64 columns</p>\n",
       "</div>"
      ],
      "text/plain": [
       "     state1_fo  state2_fo  state3_fo  state4_fo  state5_fo  state6_fo  \\\n",
       "0         0.05       0.03       0.12       0.03       0.12       0.12   \n",
       "1         0.10       0.12       0.06       0.10       0.06       0.03   \n",
       "2         0.08       0.04       0.11       0.10       0.08       0.08   \n",
       "3         0.08       0.04       0.12       0.06       0.02       0.03   \n",
       "4         0.12       0.09       0.07       0.11       0.14       0.05   \n",
       "..         ...        ...        ...        ...        ...        ...   \n",
       "106       0.10       0.06       0.16       0.07       0.09       0.03   \n",
       "107       0.07       0.08       0.11       0.11       0.11       0.08   \n",
       "108       0.11       0.02       0.10       0.07       0.11       0.05   \n",
       "109       0.09       0.06       0.12       0.05       0.04       0.06   \n",
       "110       0.02       0.05       0.15       0.02       0.03       0.08   \n",
       "\n",
       "     state7_fo  state8_fo  state9_fo  state10_fo  ...  state7_visits  \\\n",
       "0         0.09       0.06       0.02        0.05  ...            7.0   \n",
       "1         0.00       0.08       0.07        0.06  ...            1.0   \n",
       "2         0.01       0.03       0.03        0.10  ...            1.0   \n",
       "3         0.01       0.08       0.02        0.08  ...            1.0   \n",
       "4         0.00       0.03       0.01        0.10  ...            0.0   \n",
       "..         ...        ...        ...         ...  ...            ...   \n",
       "106       0.00       0.02       0.06        0.08  ...            0.0   \n",
       "107       0.00       0.04       0.08        0.09  ...            1.0   \n",
       "108       0.10       0.04       0.01        0.06  ...            8.0   \n",
       "109       0.00       0.00       0.05        0.16  ...            0.0   \n",
       "110       0.12       0.10       0.01        0.03  ...           13.0   \n",
       "\n",
       "     state8_visits  state9_visits  state10_visits  state11_visits  \\\n",
       "0              6.0            2.0             6.0             6.0   \n",
       "1              6.0            5.0             7.0             2.0   \n",
       "2              4.0            2.0            10.0            10.0   \n",
       "3              9.0            4.0             9.0            15.0   \n",
       "4              5.0            1.0            10.0             5.0   \n",
       "..             ...            ...             ...             ...   \n",
       "106            3.0            7.0             7.0             7.0   \n",
       "107            4.0            6.0             7.0             4.0   \n",
       "108            6.0            2.0             4.0             5.0   \n",
       "109            1.0            6.0            12.0             2.0   \n",
       "110           10.0            1.0             3.0             6.0   \n",
       "\n",
       "     state12_visits  state13_visits  state14_visits  state15_visits  \\\n",
       "0              10.0             9.0             5.0             3.0   \n",
       "1               3.0             7.0             6.0             6.0   \n",
       "2               5.0             1.0             4.0             8.0   \n",
       "3               5.0             8.0             7.0             8.0   \n",
       "4               3.0             5.0             6.0             7.0   \n",
       "..              ...             ...             ...             ...   \n",
       "106             9.0             3.0             6.0             5.0   \n",
       "107             3.0             0.0             1.0             6.0   \n",
       "108             3.0             7.0             5.0             6.0   \n",
       "109             5.0             4.0             6.0             7.0   \n",
       "110             4.0            14.0             6.0             5.0   \n",
       "\n",
       "     state16_visits  \n",
       "0               3.0  \n",
       "1               8.0  \n",
       "2               6.0  \n",
       "3               2.0  \n",
       "4               2.0  \n",
       "..              ...  \n",
       "106             5.0  \n",
       "107             7.0  \n",
       "108             6.0  \n",
       "109             7.0  \n",
       "110             4.0  \n",
       "\n",
       "[111 rows x 64 columns]"
      ]
     },
     "execution_count": 22,
     "metadata": {},
     "output_type": "execute_result"
    }
   ],
   "source": [
    "chronnectome_df = pd.concat([fo_df,lifetime_df, interval_df, visits_df], axis=1).applymap(lambda x: round(float(x),2))\n",
    "chronnectome_df"
   ]
  },
  {
   "cell_type": "code",
   "execution_count": 23,
   "id": "ac7975dc-87ad-4a5e-9bb0-24639bee7db1",
   "metadata": {
    "colab": {
     "base_uri": "https://localhost:8080/",
     "height": 290
    },
    "executionInfo": {
     "elapsed": 693,
     "status": "ok",
     "timestamp": 1649957758938,
     "user": {
      "displayName": "Jianzhang Ni",
      "userId": "18109982546966884557"
     },
     "user_tz": -60
    },
    "id": "205A6ozJSbVi",
    "outputId": "f69f89b2-df44-43a2-a1a7-ede193c41635"
   },
   "outputs": [
    {
     "data": {
      "text/plain": [
       "<AxesSubplot:>"
      ]
     },
     "execution_count": 23,
     "metadata": {},
     "output_type": "execute_result"
    },
    {
     "data": {
      "image/png": "[encoded data removed]",
      "text/plain": [
       "<Figure size 720x432 with 2 Axes>"
      ]
     },
     "metadata": {
      "needs_background": "light"
     },
     "output_type": "display_data"
    }
   ],
   "source": [
    "# FO matrix\n",
    "plt.figure(figsize=(10,6))\n",
    "sns.heatmap(chronnectome_df.corr(),cmap='RdBu_r')"
   ]
  },
  {
   "cell_type": "markdown",
   "id": "e9daef29-821b-4de5-a357-505cce02e96e",
   "metadata": {
    "id": "-evh3cMgSJrg"
   },
   "source": [
    "## Label Encoding\n"
   ]
  },
  {
   "cell_type": "code",
   "execution_count": 24,
   "id": "a5b605de-41b2-455a-8036-e9dfa52488c3",
   "metadata": {
    "colab": {
     "base_uri": "https://localhost:8080/"
    },
    "executionInfo": {
     "elapsed": 10,
     "status": "ok",
     "timestamp": 1649957758939,
     "user": {
      "displayName": "Jianzhang Ni",
      "userId": "18109982546966884557"
     },
     "user_tz": -60
    },
    "id": "Z0_ihyAtQuvg",
    "outputId": "69e82d62-4358-4d29-eb46-161be0094607"
   },
   "outputs": [
    {
     "data": {
      "text/plain": [
       "array([1., 1., 1., 1., 1., 1., 1., 1., 1., 1., 1., 1., 1., 1., 1., 0., 0.,\n",
       "       0., 0., 0., 0., 0., 0., 0., 0., 0., 0., 0., 0., 0., 0., 0., 0., 0.,\n",
       "       0., 0., 0., 1., 1., 1., 1., 1., 1., 1., 1., 1., 1., 1., 1., 1., 1.,\n",
       "       1., 0., 0., 0., 0., 0., 0., 0., 0., 0., 0., 0., 0., 0., 0., 0., 0.,\n",
       "       0., 0., 0., 0., 0., 0., 1., 1., 1., 1., 1., 1., 1., 1., 1., 1., 1.,\n",
       "       1., 1., 1., 1., 0., 0., 0., 0., 0., 0., 0., 0., 0., 0., 0., 0., 0.,\n",
       "       0., 0., 0., 0., 0., 0., 0., 0., 0.])"
      ]
     },
     "execution_count": 24,
     "metadata": {},
     "output_type": "execute_result"
    }
   ],
   "source": [
    "# Chronotype Encoding\n",
    "from sklearn.preprocessing import OneHotEncoder\n",
    "\n",
    "oe_style = OneHotEncoder()\n",
    "oe_results = oe_style.fit_transform(performance[['Type']])\n",
    "chrono_array = oe_results.toarray()[:,0]\n",
    "chrono_array"
   ]
  },
  {
   "cell_type": "code",
   "execution_count": 25,
   "id": "b5d14633-df60-4f8a-a0b8-856f5daae141",
   "metadata": {
    "colab": {
     "base_uri": "https://localhost:8080/"
    },
    "executionInfo": {
     "elapsed": 6,
     "status": "ok",
     "timestamp": 1649957758939,
     "user": {
      "displayName": "Jianzhang Ni",
      "userId": "18109982546966884557"
     },
     "user_tz": -60
    },
    "id": "t4ANGFJUsS02",
    "outputId": "472b4ed1-760e-4471-eb69-c9db9386ca12"
   },
   "outputs": [
    {
     "data": {
      "text/plain": [
       "array([0, 0, 0, 0, 0, 0, 0, 0, 0, 0, 0, 0, 0, 0, 0, 0, 0, 0, 0, 0, 0, 0,\n",
       "       0, 0, 0, 0, 0, 0, 0, 0, 0, 0, 0, 0, 0, 0, 0, 1, 1, 1, 1, 1, 1, 1,\n",
       "       1, 1, 1, 1, 1, 1, 1, 1, 1, 1, 1, 1, 1, 1, 1, 1, 1, 1, 1, 1, 1, 1,\n",
       "       1, 1, 1, 1, 1, 1, 1, 1, 2, 2, 2, 2, 2, 2, 2, 2, 2, 2, 2, 2, 2, 2,\n",
       "       2, 2, 2, 2, 2, 2, 2, 2, 2, 2, 2, 2, 2, 2, 2, 2, 2, 2, 2, 2, 2, 2,\n",
       "       2])"
      ]
     },
     "execution_count": 25,
     "metadata": {},
     "output_type": "execute_result"
    }
   ],
   "source": [
    "# Session Encoding \n",
    "# ... do this in a better way\n",
    "ses_list = []\n",
    "for ses in [0, 1, 2]:\n",
    "    ses_list += [ses for i in range(37)]\n",
    "ses_array = np.array(ses_list)\n",
    "ses_array"
   ]
  },
  {
   "cell_type": "markdown",
   "id": "428467ab-0d49-4090-91dc-82fe05122a61",
   "metadata": {
    "id": "j9irVOLCcPlf"
   },
   "source": [
    "## KNN classifier"
   ]
  },
  {
   "cell_type": "code",
   "execution_count": 26,
   "id": "2138e941-6917-4e23-8892-0673aabe8c53",
   "metadata": {
    "colab": {
     "base_uri": "https://localhost:8080/",
     "height": 423
    },
    "executionInfo": {
     "elapsed": 391,
     "status": "ok",
     "timestamp": 1649957759325,
     "user": {
      "displayName": "Jianzhang Ni",
      "userId": "18109982546966884557"
     },
     "user_tz": -60
    },
    "id": "Jhuv-uZkRCzK",
    "outputId": "de037442-9789-4756-e1d5-249e37995d84"
   },
   "outputs": [],
   "source": [
    "# run PCA on FO Matrix, compress FO to 2D\n",
    "from sklearn import decomposition\n",
    "from sklearn.preprocessing import StandardScaler\n",
    "\n",
    "pca = decomposition.PCA(n_components=2)\n",
    "chronnectome_df_reduced = pca.fit_transform(chronnectome_df)\n",
    "dim1 = chronnectome_df_reduced[:,0]; dim2 = chronnectome_df_reduced[:,1]\n"
   ]
  },
  {
   "cell_type": "code",
   "execution_count": 27,
   "id": "027df1ce-479e-4b9b-8842-a4c5f8f209c9",
   "metadata": {},
   "outputs": [
    {
     "data": {
      "text/html": [
       "<div>\n",
       "<style scoped>\n",
       "    .dataframe tbody tr th:only-of-type {\n",
       "        vertical-align: middle;\n",
       "    }\n",
       "\n",
       "    .dataframe tbody tr th {\n",
       "        vertical-align: top;\n",
       "    }\n",
       "\n",
       "    .dataframe thead th {\n",
       "        text-align: right;\n",
       "    }\n",
       "</style>\n",
       "<table border=\"1\" class=\"dataframe\">\n",
       "  <thead>\n",
       "    <tr style=\"text-align: right;\">\n",
       "      <th></th>\n",
       "      <th>dim1</th>\n",
       "      <th>dim2</th>\n",
       "      <th>chro_type</th>\n",
       "      <th>time</th>\n",
       "    </tr>\n",
       "  </thead>\n",
       "  <tbody>\n",
       "    <tr>\n",
       "      <th>0</th>\n",
       "      <td>2.918873</td>\n",
       "      <td>0.654508</td>\n",
       "      <td>1.0</td>\n",
       "      <td>0</td>\n",
       "    </tr>\n",
       "    <tr>\n",
       "      <th>1</th>\n",
       "      <td>0.071772</td>\n",
       "      <td>-0.292962</td>\n",
       "      <td>1.0</td>\n",
       "      <td>0</td>\n",
       "    </tr>\n",
       "    <tr>\n",
       "      <th>2</th>\n",
       "      <td>3.714892</td>\n",
       "      <td>0.757117</td>\n",
       "      <td>1.0</td>\n",
       "      <td>0</td>\n",
       "    </tr>\n",
       "    <tr>\n",
       "      <th>3</th>\n",
       "      <td>-0.273256</td>\n",
       "      <td>-0.289392</td>\n",
       "      <td>1.0</td>\n",
       "      <td>0</td>\n",
       "    </tr>\n",
       "    <tr>\n",
       "      <th>4</th>\n",
       "      <td>-0.766330</td>\n",
       "      <td>0.736715</td>\n",
       "      <td>1.0</td>\n",
       "      <td>0</td>\n",
       "    </tr>\n",
       "    <tr>\n",
       "      <th>...</th>\n",
       "      <td>...</td>\n",
       "      <td>...</td>\n",
       "      <td>...</td>\n",
       "      <td>...</td>\n",
       "    </tr>\n",
       "    <tr>\n",
       "      <th>106</th>\n",
       "      <td>-0.194906</td>\n",
       "      <td>1.080028</td>\n",
       "      <td>0.0</td>\n",
       "      <td>2</td>\n",
       "    </tr>\n",
       "    <tr>\n",
       "      <th>107</th>\n",
       "      <td>0.175532</td>\n",
       "      <td>-0.056648</td>\n",
       "      <td>0.0</td>\n",
       "      <td>2</td>\n",
       "    </tr>\n",
       "    <tr>\n",
       "      <th>108</th>\n",
       "      <td>0.366878</td>\n",
       "      <td>0.613616</td>\n",
       "      <td>0.0</td>\n",
       "      <td>2</td>\n",
       "    </tr>\n",
       "    <tr>\n",
       "      <th>109</th>\n",
       "      <td>-0.278143</td>\n",
       "      <td>0.742102</td>\n",
       "      <td>0.0</td>\n",
       "      <td>2</td>\n",
       "    </tr>\n",
       "    <tr>\n",
       "      <th>110</th>\n",
       "      <td>-0.557960</td>\n",
       "      <td>-0.103131</td>\n",
       "      <td>0.0</td>\n",
       "      <td>2</td>\n",
       "    </tr>\n",
       "  </tbody>\n",
       "</table>\n",
       "<p>111 rows × 4 columns</p>\n",
       "</div>"
      ],
      "text/plain": [
       "         dim1      dim2  chro_type  time\n",
       "0    2.918873  0.654508        1.0     0\n",
       "1    0.071772 -0.292962        1.0     0\n",
       "2    3.714892  0.757117        1.0     0\n",
       "3   -0.273256 -0.289392        1.0     0\n",
       "4   -0.766330  0.736715        1.0     0\n",
       "..        ...       ...        ...   ...\n",
       "106 -0.194906  1.080028        0.0     2\n",
       "107  0.175532 -0.056648        0.0     2\n",
       "108  0.366878  0.613616        0.0     2\n",
       "109 -0.278143  0.742102        0.0     2\n",
       "110 -0.557960 -0.103131        0.0     2\n",
       "\n",
       "[111 rows x 4 columns]"
      ]
     },
     "execution_count": 27,
     "metadata": {},
     "output_type": "execute_result"
    }
   ],
   "source": [
    "cluster_df = pd.DataFrame([])\n",
    "cluster_df['dim1'] = (dim1 - dim1.mean())/dim1.std()\n",
    "cluster_df['dim2'] = (dim2 - dim2.mean())/dim2.std()\n",
    "cluster_df['chro_type'] =  chrono_array \n",
    "cluster_df['time'] = ses_array\n",
    "cluster_df"
   ]
  },
  {
   "cell_type": "code",
   "execution_count": 28,
   "id": "9a693c2c-a7fc-47ff-ac96-ad834d42ce1b",
   "metadata": {
    "id": "SKKH657FSz2e"
   },
   "outputs": [],
   "source": [
    "X = cluster_df[['dim1', 'dim2']].values\n",
    "n_neighbors = 3"
   ]
  },
  {
   "cell_type": "code",
   "execution_count": 29,
   "id": "1078f0c5-b2fa-431f-a0bb-e92f0f77025e",
   "metadata": {
    "cellView": "form",
    "colab": {
     "base_uri": "https://localhost:8080/",
     "height": 803
    },
    "executionInfo": {
     "elapsed": 7518,
     "status": "ok",
     "timestamp": 1649957766841,
     "user": {
      "displayName": "Jianzhang Ni",
      "userId": "18109982546966884557"
     },
     "user_tz": -60
    },
    "id": "jAG7Kh3aUOaU",
    "outputId": "8842d6cd-1c59-4031-8e14-13ad3a53cddd"
   },
   "outputs": [
    {
     "data": {
      "image/png": "[encoded data removed]",
      "text/plain": [
       "<Figure size 576x432 with 1 Axes>"
      ]
     },
     "metadata": {
      "needs_background": "light"
     },
     "output_type": "display_data"
    },
    {
     "data": {
      "image/png": "[encoded data removed]",
      "text/plain": [
       "<Figure size 576x432 with 1 Axes>"
      ]
     },
     "metadata": {
      "needs_background": "light"
     },
     "output_type": "display_data"
    }
   ],
   "source": [
    "#KNN (N=3) Target=Chronotype\n",
    "y = cluster_df.chro_type\n",
    "\n",
    "# Create color maps\n",
    "from matplotlib.colors import ListedColormap\n",
    "cmap_light = ListedColormap([\"orange\", \"cornflowerblue\"])\n",
    "cmap_bold = [\"darkorange\", \"darkblue\"]\n",
    "\n",
    "warp_knn(X,y,n_neighbors, cmap_light, cmap_bold)\n",
    "# E type as 1, L as 0\n"
   ]
  },
  {
   "cell_type": "code",
   "execution_count": 30,
   "id": "4a416c62-6d49-4b01-9ab8-c7e6cf3f6491",
   "metadata": {},
   "outputs": [
    {
     "data": {
      "image/png": "[encoded data removed]",
      "text/plain": [
       "<Figure size 576x432 with 1 Axes>"
      ]
     },
     "metadata": {
      "needs_background": "light"
     },
     "output_type": "display_data"
    },
    {
     "data": {
      "image/png": "[encoded data removed]",
      "text/plain": [
       "<Figure size 576x432 with 1 Axes>"
      ]
     },
     "metadata": {
      "needs_background": "light"
     },
     "output_type": "display_data"
    }
   ],
   "source": [
    "#KNN (N=3) Target=Time of day\n",
    "y = cluster_df.time\n",
    "\n",
    "from matplotlib.colors import ListedColormap\n",
    "# Create color maps\n",
    "cmap_light = ListedColormap([\"orange\",\"red\", \"cornflowerblue\"])\n",
    "cmap_bold = [\"darkorange\", \"red\",\"darkblue\"]\n",
    "\n",
    "warp_knn(X,y,n_neighbors, cmap_light, cmap_bold)\n",
    "# 0 M ; 1 A; 2 E"
   ]
  },
  {
   "cell_type": "code",
   "execution_count": null,
   "id": "ce615248-5572-4ec2-94e6-013258336ef7",
   "metadata": {},
   "outputs": [],
   "source": []
  },
  {
   "cell_type": "code",
   "execution_count": null,
   "id": "4daacbf6-fc30-4184-8ac3-b55747aa8fcf",
   "metadata": {},
   "outputs": [],
   "source": []
  },
  {
   "cell_type": "code",
   "execution_count": null,
   "id": "05355c87-a198-429f-9416-d6dda1a329f7",
   "metadata": {},
   "outputs": [],
   "source": []
  }
 ],
 "metadata": {
  "kernelspec": {
   "display_name": "Python 3 (ipykernel)",
   "language": "python",
   "name": "python3"
  },
  "language_info": {
   "codemirror_mode": {
    "name": "ipython",
    "version": 3
   },
   "file_extension": ".py",
   "mimetype": "text/x-python",
   "name": "python",
   "nbconvert_exporter": "python",
   "pygments_lexer": "ipython3",
   "version": "3.7.13"
  }
 },
 "nbformat": 4,
 "nbformat_minor": 5
}
