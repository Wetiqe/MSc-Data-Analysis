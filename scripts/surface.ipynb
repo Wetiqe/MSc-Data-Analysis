{
 "cells": [
  {
   "cell_type": "code",
   "execution_count": 5,
   "id": "ea93c80d-54de-4bd5-a6fe-cb7db26f6b88",
   "metadata": {},
   "outputs": [],
   "source": [
    "surfer_ref = '~/freesurfer/subjects/fsaverage/mri/brain.mgz'"
   ]
  },
  {
   "cell_type": "code",
   "execution_count": 7,
   "id": "a61ef22e-a92d-4a6f-80dd-bd05b80169d0",
   "metadata": {},
   "outputs": [
    {
     "name": "stdout",
     "output_type": "stream",
     "text": [
      "mri_convert /home/jzni/freesurfer/subjects/fsaverage/mri/brain.mgz /home/jzni/freesurfer/subjects/fsaverage/mri/brain.nii.gz \n",
      "reading from /home/jzni/freesurfer/subjects/fsaverage/mri/brain.mgz...\n",
      "TR=0.00, TE=0.00, TI=0.00, flip angle=0.00\n",
      "i_ras = (-1, 0, 0)\n",
      "j_ras = (0, 0, -1)\n",
      "k_ras = (0, 1, 0)\n",
      "writing to /home/jzni/freesurfer/subjects/fsaverage/mri/brain.nii.gz...\n"
     ]
    }
   ],
   "source": [
    "!mri_convert {surfer_ref} ~/freesurfer/subjects/fsaverage/mri/brain.nii.gz"
   ]
  },
  {
   "cell_type": "code",
   "execution_count": 10,
   "id": "6aea5131-dcc8-46e3-b494-8e7044fd2651",
   "metadata": {},
   "outputs": [
    {
     "name": "stdout",
     "output_type": "stream",
     "text": [
      "Could not open matrix file standard2highres.mat\n",
      "matrix multiplication: incompatible matrix dimensions: 4x4 and 0x0\n"
     ]
    }
   ],
   "source": [
    "!flirt -in ../surface/statemap_K10rep2.nii.gz \\\n",
    "-ref ~/freesurfer/subjects/fsaverage/mri/brain.nii.gz \\\n",
    "-applyxfm -init standard2highres.mat -o tal_state_maps.nii"
   ]
  },
  {
   "cell_type": "code",
   "execution_count": 12,
   "id": "9c6e0d7c-9de1-40d8-bfe5-f4f1c9259d49",
   "metadata": {},
   "outputs": [
    {
     "name": "stdout",
     "output_type": "stream",
     "text": [
      "srcvol = ../surface/tal_state_maps.nii.gz\n",
      "srcreg unspecified\n",
      "srcregold = 0\n",
      "srcwarp unspecified\n",
      "surf = white\n",
      "hemi = lh\n",
      "reshape = 0\n",
      "interp = nearest\n",
      "float2int = round\n",
      "GetProjMax = 0\n",
      "ERROR: SUBJECTS_DIR not defined in environment\n"
     ]
    }
   ],
   "source": [
    "!mri_vol2surf --src ../surface/tal_state_maps.nii.gz --regheader fsaverage --out lh.output.mgz --hemi lh\n"
   ]
  },
  {
   "cell_type": "code",
   "execution_count": 1,
   "id": "6ad550c2-150c-4938-b7f5-9737f1e1bcee",
   "metadata": {},
   "outputs": [
    {
     "name": "stdout",
     "output_type": "stream",
     "text": [
      "/home/jzni/dissertation/analysis/scripts\n"
     ]
    }
   ],
   "source": [
    "!pwd"
   ]
  },
  {
   "cell_type": "code",
   "execution_count": 1,
   "id": "88b08404-5730-40b3-87b9-352e9752cda5",
   "metadata": {},
   "outputs": [],
   "source": [
    "!export QT_API=pyqt\n",
    "!export ETS_TOOLKIT=qt4\n",
    "%gui qt"
   ]
  },
  {
   "cell_type": "code",
   "execution_count": 2,
   "id": "fc521d52-1e2f-4fd2-9a9f-4c49a7233c80",
   "metadata": {},
   "outputs": [],
   "source": [
    "import os\n",
    "from surfer import Brain, project_volume_data"
   ]
  },
  {
   "cell_type": "code",
   "execution_count": 3,
   "id": "b461b68e-34fb-4ec2-8f69-78856e4a3578",
   "metadata": {},
   "outputs": [],
   "source": [
    "!source /home/jzni/freesurfer/SetUpFreeSurfer.sh"
   ]
  },
  {
   "cell_type": "code",
   "execution_count": 4,
   "id": "98f4488b-84d2-4f47-8b08-705763bb17ee",
   "metadata": {},
   "outputs": [],
   "source": [
    "overlay_file=\"/home/jzni/FBI/replication/analysis/3rd_level.gfeat/cope1.feat/thresh_zstat1.nii.gz\""
   ]
  },
  {
   "cell_type": "code",
   "execution_count": 5,
   "id": "dcb736db-1587-459a-a6f0-64852df79072",
   "metadata": {},
   "outputs": [],
   "source": [
    "reg_file = os.path.join(os.environ[\"FREESURFER_HOME\"],\"average/mni152.register.dat\")"
   ]
  },
  {
   "cell_type": "code",
   "execution_count": 6,
   "id": "fa986264-bee1-47f3-ba85-e6d443c92c3e",
   "metadata": {},
   "outputs": [],
   "source": [
    "# zstat=project_volume_data(overlay_file, \"lh\", reg_file)\n",
    "zstat=project_volume_data(overlay_file, \"lh\", subject_id=\"fsaverage\",smooth_fwhm=0.5)"
   ]
  },
  {
   "cell_type": "code",
   "execution_count": 7,
   "id": "e5a108bf-15ef-40a3-8736-c81fba4218e8",
   "metadata": {},
   "outputs": [],
   "source": [
    "brain = Brain(\"fsaverage\",\"lh\",\"inflated\",subjects_dir='/home/jzni/freesurfer/subjects')"
   ]
  },
  {
   "cell_type": "code",
   "execution_count": 8,
   "id": "02ba5a81-99ad-4d2c-982c-e81b6b7a89b1",
   "metadata": {},
   "outputs": [],
   "source": [
    "brain.add_overlay(zstat,min=1, max=7)"
   ]
  },
  {
   "cell_type": "code",
   "execution_count": 9,
   "id": "0bf2d94f-5c3c-4f83-b151-389080269dd1",
   "metadata": {},
   "outputs": [
    {
     "data": {
      "text/plain": [
       "((180.0, 90.0, 432.1112365722656, array([0., 0., 0.])), 90.0)"
      ]
     },
     "execution_count": 9,
     "metadata": {},
     "output_type": "execute_result"
    }
   ],
   "source": [
    "brain.show_view()"
   ]
  },
  {
   "cell_type": "code",
   "execution_count": 10,
   "id": "23247dbb-ef70-4d47-9e05-24c9dc19e94b",
   "metadata": {},
   "outputs": [],
   "source": [
    "# brain.save_image(\"left_back.png\")"
   ]
  },
  {
   "cell_type": "code",
   "execution_count": null,
   "id": "dacb234d-bb65-4db9-9e03-5b192a62cb16",
   "metadata": {},
   "outputs": [],
   "source": []
  },
  {
   "cell_type": "code",
   "execution_count": null,
   "id": "b2fa61d0-9231-48b0-b88b-40e82614324a",
   "metadata": {},
   "outputs": [],
   "source": []
  }
 ],
 "metadata": {
  "kernelspec": {
   "display_name": "Python 3 (ipykernel)",
   "language": "python",
   "name": "python3"
  },
  "language_info": {
   "codemirror_mode": {
    "name": "ipython",
    "version": 3
   },
   "file_extension": ".py",
   "mimetype": "text/x-python",
   "name": "python",
   "nbconvert_exporter": "python",
   "pygments_lexer": "ipython3",
   "version": "3.8.12"
  },
  "widgets": {
   "application/vnd.jupyter.widget-state+json": {
    "state": {},
    "version_major": 2,
    "version_minor": 0
   }
  }
 },
 "nbformat": 4,
 "nbformat_minor": 5
}
