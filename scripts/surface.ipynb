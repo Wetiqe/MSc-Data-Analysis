{
 "cells": [
  {
   "cell_type": "markdown",
   "id": "5dbd820b-d202-4bc0-bf87-555baed94990",
   "metadata": {},
   "source": [
    "# Project Volume Data onto Surface"
   ]
  },
  {
   "cell_type": "code",
   "execution_count": 15,
   "id": "fc521d52-1e2f-4fd2-9a9f-4c49a7233c80",
   "metadata": {},
   "outputs": [],
   "source": [
    "import os\n",
    "from surfer import Brain, project_volume_data\n",
    "\n",
    "from warpped.global_variables import K_state"
   ]
  },
  {
   "cell_type": "code",
   "execution_count": 16,
   "id": "88b08404-5730-40b3-87b9-352e9752cda5",
   "metadata": {},
   "outputs": [],
   "source": [
    "!export QT_API=pyqt\n",
    "!export ETS_TOOLKIT=qt4\n",
    "%gui qt"
   ]
  },
  {
   "cell_type": "markdown",
   "id": "32e660dd-1e4a-4abe-b231-ab5145ffe50d",
   "metadata": {},
   "source": [
    "views can be one of 'lateral', 'medial', 'rostral','caudal', 'dorsal', 'ventral', 'frontal', 'parietal'"
   ]
  },
  {
   "cell_type": "code",
   "execution_count": null,
   "id": "dacb234d-bb65-4db9-9e03-5b192a62cb16",
   "metadata": {},
   "outputs": [],
   "source": [
    "reg_file = os.path.join(os.environ[\"FREESURFER_HOME\"],\"average/mni152.register.dat\")\n",
    "for state in range(K_state):\n",
    "    overlay_file=f\"../surface/K{K_state}/vol000{state}.nii.gz\"\n",
    "    zstat=project_volume_data(overlay_file, \"lh\", reg_file)\n",
    "    brain = Brain(\"fsaverage\",\"split\",\"inflated\",size=(1920,1080),background='white', \n",
    "                  views=['lateral', 'medial'], subjects_dir='/home/jzni/freesurfer/subjects')\n",
    "    brain.add_overlay(zstat, hemi='lh', min=0.25, max=1.25)\n",
    "    zstat=project_volume_data(overlay_file, \"rh\", reg_file)\n",
    "    brain.add_overlay(zstat, hemi='rh', min=0.25, max=1.25)\n",
    "    brain.save_image(f\"../surface/K{K_state}/state{state+1}.png\",mode='rgba')\n",
    "\n"
   ]
  },
  {
   "cell_type": "markdown",
   "id": "d481fa65-5f62-44d3-9dd9-975e07eb8ab2",
   "metadata": {
    "tags": []
   },
   "source": [
    "# Archived "
   ]
  },
  {
   "cell_type": "markdown",
   "id": "54e6291d-186a-421a-ac86-86bb8793a468",
   "metadata": {},
   "source": [
    "## Freesurfer"
   ]
  },
  {
   "cell_type": "code",
   "execution_count": null,
   "id": "aec64270-b945-4fd4-95b3-b1f49c94a5be",
   "metadata": {},
   "outputs": [],
   "source": [
    "!flirt -in ../surface/statemap_K10rep2.nii.gz \\\n",
    "-ref tal_brain_reorient.nii.gz \\\n",
    "-omat standard2highres.mat"
   ]
  },
  {
   "cell_type": "code",
   "execution_count": null,
   "id": "d4f75ce3-9f20-403e-84a6-cf57fe83361d",
   "metadata": {},
   "outputs": [],
   "source": [
    "!flirt -in ../surface/statemap_K10rep2.nii.gz \\\n",
    "-ref ~/freesurfer/subjects/fsaverage/mri/brain.nii.gz \\\n",
    "-applyxfm -init test.mat -o tal_state_maps.nii"
   ]
  },
  {
   "cell_type": "code",
   "execution_count": null,
   "id": "95d6475e-a96c-4f10-af07-2f192d74daf4",
   "metadata": {},
   "outputs": [],
   "source": [
    "!flirt -in /home/jzni/FSL/fsl/data/standard/MNI152_T1_2mm_brain -ref tal_brain_reorient.nii.gz -omat standard2highres.mat"
   ]
  },
  {
   "cell_type": "code",
   "execution_count": null,
   "id": "6aea5131-dcc8-46e3-b494-8e7044fd2651",
   "metadata": {},
   "outputs": [],
   "source": [
    "!flirt -in ../surface/statemap_K10rep2.nii.gz \\\n",
    "-ref tal_brain_reorient.nii.gz \\\n",
    "-applyxfm -init standard2highres.mat -o tal_state_maps.nii"
   ]
  },
  {
   "cell_type": "code",
   "execution_count": null,
   "id": "9c6e0d7c-9de1-40d8-bfe5-f4f1c9259d49",
   "metadata": {},
   "outputs": [],
   "source": [
    "!source ~/freesurfer/FreeSurferEnv.sh ;\\\n",
    "mri_vol2surf --src tal_state_maps.nii.gz --regheader fsaverage --out lh.output.mgz --hemi lh\n"
   ]
  },
  {
   "cell_type": "markdown",
   "id": "7538c95b-3248-49ee-ac3e-eb1198b124d9",
   "metadata": {},
   "source": [
    "## PySurfer"
   ]
  },
  {
   "cell_type": "code",
   "execution_count": null,
   "id": "fa986264-bee1-47f3-ba85-e6d443c92c3e",
   "metadata": {},
   "outputs": [],
   "source": [
    "# zstat=project_volume_data(overlay_file, \"lh\", reg_file)\n",
    "# zstat=project_volume_data(overlay_file, \"lh\", subject_id=\"fsaverage\",smooth_fwhm=0.5)"
   ]
  },
  {
   "cell_type": "code",
   "execution_count": null,
   "id": "0bf2d94f-5c3c-4f83-b151-389080269dd1",
   "metadata": {},
   "outputs": [],
   "source": [
    "brain.show_view()"
   ]
  },
  {
   "cell_type": "code",
   "execution_count": null,
   "id": "bfe396b0-0d1e-432b-bf25-b135558360d9",
   "metadata": {},
   "outputs": [],
   "source": []
  }
 ],
 "metadata": {
  "kernelspec": {
   "display_name": "Python 3 (ipykernel)",
   "language": "python",
   "name": "python3"
  },
  "language_info": {
   "codemirror_mode": {
    "name": "ipython",
    "version": 3
   },
   "file_extension": ".py",
   "mimetype": "text/x-python",
   "name": "python",
   "nbconvert_exporter": "python",
   "pygments_lexer": "ipython3",
   "version": "3.8.12"
  },
  "widgets": {
   "application/vnd.jupyter.widget-state+json": {
    "state": {},
    "version_major": 2,
    "version_minor": 0
   }
  }
 },
 "nbformat": 4,
 "nbformat_minor": 5
}
