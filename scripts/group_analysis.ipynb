{
 "cells": [
  {
   "cell_type": "markdown",
   "id": "ab58d39e-8576-4728-a8e5-f71522912b4e",
   "metadata": {},
   "source": [
    "# Group Analysis"
   ]
  },
  {
   "cell_type": "markdown",
   "id": "5df04532-20dc-4ea2-a4c7-f1dcd9939c4d",
   "metadata": {},
   "source": [
    "# Setup"
   ]
  },
  {
   "cell_type": "code",
   "execution_count": 1,
   "id": "e53b2bcd-115e-45bd-8b05-83abe823eba3",
   "metadata": {
    "id": "-iBg_1g_3ri4"
   },
   "outputs": [],
   "source": [
    "# import library\n",
    "from scipy.io import loadmat\n",
    "import numpy as np\n",
    "import seaborn as sns\n",
    "import pandas as pd\n",
    "import pingouin as pg\n",
    "from matplotlib import pyplot as plt\n",
    "\n",
    "from warpped.collection import parse_chronnectome, get_mean_chronnectome, get_number_of_visit\n",
    "# import gloabl variables\n",
    "from warpped.global_variables import * \n",
    "from warpped.figures import fig_set"
   ]
  },
  {
   "cell_type": "markdown",
   "id": "c28db12d-6c91-4f95-8181-e14349dce259",
   "metadata": {},
   "source": [
    "# Load HMM Result"
   ]
  },
  {
   "cell_type": "code",
   "execution_count": 2,
   "id": "246af0c3-ecde-4856-9b4c-4081715fd28c",
   "metadata": {
    "colab": {
     "base_uri": "https://localhost:8080/",
     "height": 35
    },
    "executionInfo": {
     "elapsed": 16,
     "status": "ok",
     "timestamp": 1649957754726,
     "user": {
      "displayName": "Jianzhang Ni",
      "userId": "18109982546966884557"
     },
     "user_tz": -60
    },
    "id": "MTDOepwc4lAS",
    "outputId": "ee6ea533-4a9e-45a3-abe5-aaaa5926fb92"
   },
   "outputs": [
    {
     "data": {
      "text/plain": [
       "'/home/jzni/dissertation/analysis/output/hmminfo/hmminfo_k5_rep_3.mat'"
      ]
     },
     "execution_count": 2,
     "metadata": {},
     "output_type": "execute_result"
    }
   ],
   "source": [
    "# The selected model should be contained in global_variables, if wanna try different parameter then uncomment bleow \n",
    "# K_state=12; rep_num = 2\n",
    "\n",
    "hmm_file = base+f'chronotype_k{K_state}_rep_{rep_num}.mat'\n",
    "hmminfo_file = base+f'hmminfo/hmminfo_k{K_state}_rep_{rep_num}.mat'\n",
    "hmminfo_file"
   ]
  },
  {
   "cell_type": "code",
   "execution_count": 3,
   "id": "e7d16972-3e0e-4c87-9106-628786b1edc9",
   "metadata": {
    "id": "71454215-4004-47fd-98ac-8ca609e54cfe"
   },
   "outputs": [],
   "source": [
    "hmm = loadmat(hmm_file)\n",
    "hmm_info = loadmat(hmminfo_file)"
   ]
  },
  {
   "cell_type": "code",
   "execution_count": 4,
   "id": "a050e840-e0c3-4b1e-bc9f-f9f277bb4d2d",
   "metadata": {},
   "outputs": [],
   "source": [
    "# Parse HMM info\n",
    "state_order = np.squeeze(hmm_info['ord']) # the order of state for fo_corr and ordered_p\n",
    "fo_corr = pd.DataFrame(hmm_info['fo_matrix'], columns=state_order, index=state_order)\n",
    "ordered_p = pd.DataFrame(hmm_info['ordered_p'], columns=state_order, index=state_order)\n",
    "\n",
    "## hmms = hmm_info['hmms']  # contains the subject specific hmm\n",
    "# Parse chronnectome info\n",
    "## info based on veterbi path \n",
    "raw_fo, lifetime, intervals = parse_chronnectome(hmm_info[hmminfo_source], model_selection=False)\n"
   ]
  },
  {
   "cell_type": "markdown",
   "id": "a560515b-3f9c-4c1d-8912-3c945fc061d1",
   "metadata": {
    "id": "EBrhm_47SXQ7",
    "tags": []
   },
   "source": [
    "## Load Behaviour Data"
   ]
  },
  {
   "cell_type": "code",
   "execution_count": 5,
   "id": "7a254e6a-d046-4d88-8d99-34acf0a3fb71",
   "metadata": {
    "id": "wjq0XkD5JWjR"
   },
   "outputs": [],
   "source": [
    "performance = pd.read_csv(f'{behav_dir}performance_proc.csv')\n",
    "physio = pd.read_csv(f'{behav_dir}physio_proc.csv')\n",
    "acti = pd.read_csv(f'{behav_dir}actigraph_proc.csv')\n",
    "scales = pd.read_csv(f'{behav_dir}questionnaire_proc.csv')\n"
   ]
  },
  {
   "cell_type": "code",
   "execution_count": 6,
   "id": "433bca61-21ea-4ff0-b09d-617bad654cfe",
   "metadata": {
    "colab": {
     "base_uri": "https://localhost:8080/",
     "height": 205
    },
    "executionInfo": {
     "elapsed": 6,
     "status": "ok",
     "timestamp": 1649957758250,
     "user": {
      "displayName": "Jianzhang Ni",
      "userId": "18109982546966884557"
     },
     "user_tz": -60
    },
    "id": "LfsolE8_SY7L",
    "outputId": "90db6ea1-f629-4b76-cea9-9ea72ce8d69a"
   },
   "outputs": [
    {
     "data": {
      "text/html": [
       "<div>\n",
       "<style scoped>\n",
       "    .dataframe tbody tr th:only-of-type {\n",
       "        vertical-align: middle;\n",
       "    }\n",
       "\n",
       "    .dataframe tbody tr th {\n",
       "        vertical-align: top;\n",
       "    }\n",
       "\n",
       "    .dataframe thead th {\n",
       "        text-align: right;\n",
       "    }\n",
       "</style>\n",
       "<table border=\"1\" class=\"dataframe\">\n",
       "  <thead>\n",
       "    <tr style=\"text-align: right;\">\n",
       "      <th></th>\n",
       "      <th>state1_visits</th>\n",
       "      <th>state2_visits</th>\n",
       "      <th>state3_visits</th>\n",
       "      <th>state4_visits</th>\n",
       "      <th>state5_visits</th>\n",
       "    </tr>\n",
       "  </thead>\n",
       "  <tbody>\n",
       "    <tr>\n",
       "      <th>0</th>\n",
       "      <td>14</td>\n",
       "      <td>12</td>\n",
       "      <td>11</td>\n",
       "      <td>14</td>\n",
       "      <td>22</td>\n",
       "    </tr>\n",
       "    <tr>\n",
       "      <th>1</th>\n",
       "      <td>18</td>\n",
       "      <td>14</td>\n",
       "      <td>19</td>\n",
       "      <td>10</td>\n",
       "      <td>12</td>\n",
       "    </tr>\n",
       "    <tr>\n",
       "      <th>2</th>\n",
       "      <td>23</td>\n",
       "      <td>17</td>\n",
       "      <td>18</td>\n",
       "      <td>17</td>\n",
       "      <td>9</td>\n",
       "    </tr>\n",
       "    <tr>\n",
       "      <th>3</th>\n",
       "      <td>13</td>\n",
       "      <td>16</td>\n",
       "      <td>14</td>\n",
       "      <td>10</td>\n",
       "      <td>16</td>\n",
       "    </tr>\n",
       "    <tr>\n",
       "      <th>4</th>\n",
       "      <td>21</td>\n",
       "      <td>12</td>\n",
       "      <td>14</td>\n",
       "      <td>16</td>\n",
       "      <td>12</td>\n",
       "    </tr>\n",
       "  </tbody>\n",
       "</table>\n",
       "</div>"
      ],
      "text/plain": [
       "  state1_visits state2_visits state3_visits state4_visits state5_visits\n",
       "0            14            12            11            14            22\n",
       "1            18            14            19            10            12\n",
       "2            23            17            18            17             9\n",
       "3            13            16            14            10            16\n",
       "4            21            12            14            16            12"
      ]
     },
     "execution_count": 6,
     "metadata": {},
     "output_type": "execute_result"
    }
   ],
   "source": [
    "fo_df =  pd.DataFrame(raw_fo, columns=[f'state{i}_fo' for i in range(1, K_state+1)])\n",
    "lifetime_df = pd.DataFrame(get_mean_chronnectome(lifetime ), columns=[f'state{i}_life' for i in range(1, K_state+1)])\n",
    "interval_df = pd.DataFrame(get_mean_chronnectome(intervals), columns=[f'state{i}_intervals' for i in range(1, K_state+1)])\n",
    "visits_df = get_number_of_visit(lifetime)\n",
    "visits_df.head()"
   ]
  },
  {
   "cell_type": "code",
   "execution_count": 7,
   "id": "54820f5d-f1a4-4ca1-8cd9-ef8163999ff0",
   "metadata": {},
   "outputs": [
    {
     "data": {
      "text/html": [
       "<div>\n",
       "<style scoped>\n",
       "    .dataframe tbody tr th:only-of-type {\n",
       "        vertical-align: middle;\n",
       "    }\n",
       "\n",
       "    .dataframe tbody tr th {\n",
       "        vertical-align: top;\n",
       "    }\n",
       "\n",
       "    .dataframe thead th {\n",
       "        text-align: right;\n",
       "    }\n",
       "</style>\n",
       "<table border=\"1\" class=\"dataframe\">\n",
       "  <thead>\n",
       "    <tr style=\"text-align: right;\">\n",
       "      <th></th>\n",
       "      <th>state1_fo</th>\n",
       "      <th>state2_fo</th>\n",
       "      <th>state3_fo</th>\n",
       "      <th>state4_fo</th>\n",
       "      <th>state5_fo</th>\n",
       "      <th>state1_life</th>\n",
       "      <th>state2_life</th>\n",
       "      <th>state3_life</th>\n",
       "      <th>state4_life</th>\n",
       "      <th>state5_life</th>\n",
       "      <th>state1_intervals</th>\n",
       "      <th>state2_intervals</th>\n",
       "      <th>state3_intervals</th>\n",
       "      <th>state4_intervals</th>\n",
       "      <th>state5_intervals</th>\n",
       "      <th>state1_visits</th>\n",
       "      <th>state2_visits</th>\n",
       "      <th>state3_visits</th>\n",
       "      <th>state4_visits</th>\n",
       "      <th>state5_visits</th>\n",
       "    </tr>\n",
       "  </thead>\n",
       "  <tbody>\n",
       "    <tr>\n",
       "      <th>0</th>\n",
       "      <td>0.21</td>\n",
       "      <td>0.13</td>\n",
       "      <td>0.14</td>\n",
       "      <td>0.22</td>\n",
       "      <td>0.30</td>\n",
       "      <td>6.64</td>\n",
       "      <td>4.83</td>\n",
       "      <td>5.55</td>\n",
       "      <td>7.21</td>\n",
       "      <td>6.23</td>\n",
       "      <td>23.38</td>\n",
       "      <td>18.09</td>\n",
       "      <td>37.50</td>\n",
       "      <td>22.62</td>\n",
       "      <td>14.76</td>\n",
       "      <td>14.0</td>\n",
       "      <td>12.0</td>\n",
       "      <td>11.0</td>\n",
       "      <td>14.0</td>\n",
       "      <td>22.0</td>\n",
       "    </tr>\n",
       "    <tr>\n",
       "      <th>1</th>\n",
       "      <td>0.29</td>\n",
       "      <td>0.20</td>\n",
       "      <td>0.21</td>\n",
       "      <td>0.15</td>\n",
       "      <td>0.15</td>\n",
       "      <td>7.28</td>\n",
       "      <td>6.50</td>\n",
       "      <td>4.95</td>\n",
       "      <td>6.60</td>\n",
       "      <td>5.67</td>\n",
       "      <td>16.88</td>\n",
       "      <td>23.31</td>\n",
       "      <td>18.83</td>\n",
       "      <td>32.78</td>\n",
       "      <td>34.36</td>\n",
       "      <td>18.0</td>\n",
       "      <td>14.0</td>\n",
       "      <td>19.0</td>\n",
       "      <td>10.0</td>\n",
       "      <td>12.0</td>\n",
       "    </tr>\n",
       "    <tr>\n",
       "      <th>2</th>\n",
       "      <td>0.28</td>\n",
       "      <td>0.21</td>\n",
       "      <td>0.24</td>\n",
       "      <td>0.17</td>\n",
       "      <td>0.10</td>\n",
       "      <td>5.48</td>\n",
       "      <td>5.53</td>\n",
       "      <td>6.06</td>\n",
       "      <td>4.53</td>\n",
       "      <td>4.89</td>\n",
       "      <td>12.77</td>\n",
       "      <td>20.06</td>\n",
       "      <td>19.65</td>\n",
       "      <td>21.88</td>\n",
       "      <td>44.38</td>\n",
       "      <td>23.0</td>\n",
       "      <td>17.0</td>\n",
       "      <td>18.0</td>\n",
       "      <td>17.0</td>\n",
       "      <td>9.0</td>\n",
       "    </tr>\n",
       "    <tr>\n",
       "      <th>3</th>\n",
       "      <td>0.17</td>\n",
       "      <td>0.18</td>\n",
       "      <td>0.18</td>\n",
       "      <td>0.17</td>\n",
       "      <td>0.30</td>\n",
       "      <td>5.92</td>\n",
       "      <td>5.12</td>\n",
       "      <td>5.93</td>\n",
       "      <td>7.50</td>\n",
       "      <td>8.31</td>\n",
       "      <td>30.25</td>\n",
       "      <td>23.60</td>\n",
       "      <td>27.77</td>\n",
       "      <td>37.67</td>\n",
       "      <td>20.73</td>\n",
       "      <td>13.0</td>\n",
       "      <td>16.0</td>\n",
       "      <td>14.0</td>\n",
       "      <td>10.0</td>\n",
       "      <td>16.0</td>\n",
       "    </tr>\n",
       "    <tr>\n",
       "      <th>4</th>\n",
       "      <td>0.35</td>\n",
       "      <td>0.14</td>\n",
       "      <td>0.22</td>\n",
       "      <td>0.15</td>\n",
       "      <td>0.14</td>\n",
       "      <td>7.57</td>\n",
       "      <td>5.25</td>\n",
       "      <td>6.93</td>\n",
       "      <td>4.25</td>\n",
       "      <td>5.25</td>\n",
       "      <td>13.85</td>\n",
       "      <td>31.00</td>\n",
       "      <td>25.31</td>\n",
       "      <td>20.40</td>\n",
       "      <td>34.91</td>\n",
       "      <td>21.0</td>\n",
       "      <td>12.0</td>\n",
       "      <td>14.0</td>\n",
       "      <td>16.0</td>\n",
       "      <td>12.0</td>\n",
       "    </tr>\n",
       "    <tr>\n",
       "      <th>...</th>\n",
       "      <td>...</td>\n",
       "      <td>...</td>\n",
       "      <td>...</td>\n",
       "      <td>...</td>\n",
       "      <td>...</td>\n",
       "      <td>...</td>\n",
       "      <td>...</td>\n",
       "      <td>...</td>\n",
       "      <td>...</td>\n",
       "      <td>...</td>\n",
       "      <td>...</td>\n",
       "      <td>...</td>\n",
       "      <td>...</td>\n",
       "      <td>...</td>\n",
       "      <td>...</td>\n",
       "      <td>...</td>\n",
       "      <td>...</td>\n",
       "      <td>...</td>\n",
       "      <td>...</td>\n",
       "      <td>...</td>\n",
       "    </tr>\n",
       "    <tr>\n",
       "      <th>106</th>\n",
       "      <td>0.32</td>\n",
       "      <td>0.19</td>\n",
       "      <td>0.16</td>\n",
       "      <td>0.25</td>\n",
       "      <td>0.07</td>\n",
       "      <td>8.00</td>\n",
       "      <td>7.25</td>\n",
       "      <td>5.69</td>\n",
       "      <td>6.33</td>\n",
       "      <td>4.43</td>\n",
       "      <td>14.88</td>\n",
       "      <td>30.82</td>\n",
       "      <td>25.83</td>\n",
       "      <td>18.35</td>\n",
       "      <td>62.17</td>\n",
       "      <td>18.0</td>\n",
       "      <td>12.0</td>\n",
       "      <td>13.0</td>\n",
       "      <td>18.0</td>\n",
       "      <td>7.0</td>\n",
       "    </tr>\n",
       "    <tr>\n",
       "      <th>107</th>\n",
       "      <td>0.23</td>\n",
       "      <td>0.09</td>\n",
       "      <td>0.27</td>\n",
       "      <td>0.28</td>\n",
       "      <td>0.12</td>\n",
       "      <td>7.00</td>\n",
       "      <td>4.00</td>\n",
       "      <td>6.47</td>\n",
       "      <td>6.68</td>\n",
       "      <td>4.58</td>\n",
       "      <td>23.36</td>\n",
       "      <td>36.00</td>\n",
       "      <td>17.94</td>\n",
       "      <td>15.67</td>\n",
       "      <td>34.18</td>\n",
       "      <td>15.0</td>\n",
       "      <td>10.0</td>\n",
       "      <td>19.0</td>\n",
       "      <td>19.0</td>\n",
       "      <td>12.0</td>\n",
       "    </tr>\n",
       "    <tr>\n",
       "      <th>108</th>\n",
       "      <td>0.23</td>\n",
       "      <td>0.16</td>\n",
       "      <td>0.18</td>\n",
       "      <td>0.16</td>\n",
       "      <td>0.27</td>\n",
       "      <td>6.18</td>\n",
       "      <td>5.92</td>\n",
       "      <td>4.05</td>\n",
       "      <td>6.55</td>\n",
       "      <td>5.76</td>\n",
       "      <td>19.75</td>\n",
       "      <td>33.45</td>\n",
       "      <td>17.26</td>\n",
       "      <td>31.00</td>\n",
       "      <td>15.45</td>\n",
       "      <td>17.0</td>\n",
       "      <td>12.0</td>\n",
       "      <td>20.0</td>\n",
       "      <td>11.0</td>\n",
       "      <td>21.0</td>\n",
       "    </tr>\n",
       "    <tr>\n",
       "      <th>109</th>\n",
       "      <td>0.34</td>\n",
       "      <td>0.13</td>\n",
       "      <td>0.21</td>\n",
       "      <td>0.22</td>\n",
       "      <td>0.11</td>\n",
       "      <td>9.44</td>\n",
       "      <td>5.18</td>\n",
       "      <td>5.22</td>\n",
       "      <td>7.00</td>\n",
       "      <td>5.00</td>\n",
       "      <td>17.53</td>\n",
       "      <td>35.40</td>\n",
       "      <td>20.47</td>\n",
       "      <td>23.77</td>\n",
       "      <td>44.44</td>\n",
       "      <td>16.0</td>\n",
       "      <td>11.0</td>\n",
       "      <td>18.0</td>\n",
       "      <td>14.0</td>\n",
       "      <td>10.0</td>\n",
       "    </tr>\n",
       "    <tr>\n",
       "      <th>110</th>\n",
       "      <td>0.19</td>\n",
       "      <td>0.21</td>\n",
       "      <td>0.08</td>\n",
       "      <td>0.16</td>\n",
       "      <td>0.35</td>\n",
       "      <td>6.21</td>\n",
       "      <td>7.23</td>\n",
       "      <td>5.43</td>\n",
       "      <td>6.73</td>\n",
       "      <td>7.85</td>\n",
       "      <td>25.08</td>\n",
       "      <td>25.67</td>\n",
       "      <td>68.33</td>\n",
       "      <td>27.20</td>\n",
       "      <td>15.11</td>\n",
       "      <td>14.0</td>\n",
       "      <td>13.0</td>\n",
       "      <td>7.0</td>\n",
       "      <td>11.0</td>\n",
       "      <td>20.0</td>\n",
       "    </tr>\n",
       "  </tbody>\n",
       "</table>\n",
       "<p>111 rows × 20 columns</p>\n",
       "</div>"
      ],
      "text/plain": [
       "     state1_fo  state2_fo  state3_fo  state4_fo  state5_fo  state1_life  \\\n",
       "0         0.21       0.13       0.14       0.22       0.30         6.64   \n",
       "1         0.29       0.20       0.21       0.15       0.15         7.28   \n",
       "2         0.28       0.21       0.24       0.17       0.10         5.48   \n",
       "3         0.17       0.18       0.18       0.17       0.30         5.92   \n",
       "4         0.35       0.14       0.22       0.15       0.14         7.57   \n",
       "..         ...        ...        ...        ...        ...          ...   \n",
       "106       0.32       0.19       0.16       0.25       0.07         8.00   \n",
       "107       0.23       0.09       0.27       0.28       0.12         7.00   \n",
       "108       0.23       0.16       0.18       0.16       0.27         6.18   \n",
       "109       0.34       0.13       0.21       0.22       0.11         9.44   \n",
       "110       0.19       0.21       0.08       0.16       0.35         6.21   \n",
       "\n",
       "     state2_life  state3_life  state4_life  state5_life  state1_intervals  \\\n",
       "0           4.83         5.55         7.21         6.23             23.38   \n",
       "1           6.50         4.95         6.60         5.67             16.88   \n",
       "2           5.53         6.06         4.53         4.89             12.77   \n",
       "3           5.12         5.93         7.50         8.31             30.25   \n",
       "4           5.25         6.93         4.25         5.25             13.85   \n",
       "..           ...          ...          ...          ...               ...   \n",
       "106         7.25         5.69         6.33         4.43             14.88   \n",
       "107         4.00         6.47         6.68         4.58             23.36   \n",
       "108         5.92         4.05         6.55         5.76             19.75   \n",
       "109         5.18         5.22         7.00         5.00             17.53   \n",
       "110         7.23         5.43         6.73         7.85             25.08   \n",
       "\n",
       "     state2_intervals  state3_intervals  state4_intervals  state5_intervals  \\\n",
       "0               18.09             37.50             22.62             14.76   \n",
       "1               23.31             18.83             32.78             34.36   \n",
       "2               20.06             19.65             21.88             44.38   \n",
       "3               23.60             27.77             37.67             20.73   \n",
       "4               31.00             25.31             20.40             34.91   \n",
       "..                ...               ...               ...               ...   \n",
       "106             30.82             25.83             18.35             62.17   \n",
       "107             36.00             17.94             15.67             34.18   \n",
       "108             33.45             17.26             31.00             15.45   \n",
       "109             35.40             20.47             23.77             44.44   \n",
       "110             25.67             68.33             27.20             15.11   \n",
       "\n",
       "     state1_visits  state2_visits  state3_visits  state4_visits  state5_visits  \n",
       "0             14.0           12.0           11.0           14.0           22.0  \n",
       "1             18.0           14.0           19.0           10.0           12.0  \n",
       "2             23.0           17.0           18.0           17.0            9.0  \n",
       "3             13.0           16.0           14.0           10.0           16.0  \n",
       "4             21.0           12.0           14.0           16.0           12.0  \n",
       "..             ...            ...            ...            ...            ...  \n",
       "106           18.0           12.0           13.0           18.0            7.0  \n",
       "107           15.0           10.0           19.0           19.0           12.0  \n",
       "108           17.0           12.0           20.0           11.0           21.0  \n",
       "109           16.0           11.0           18.0           14.0           10.0  \n",
       "110           14.0           13.0            7.0           11.0           20.0  \n",
       "\n",
       "[111 rows x 20 columns]"
      ]
     },
     "execution_count": 7,
     "metadata": {},
     "output_type": "execute_result"
    }
   ],
   "source": [
    "chronnectome_df = pd.concat([fo_df,lifetime_df, interval_df, visits_df], axis=1).applymap(lambda x: round(float(x),2))\n",
    "chronnectome_df"
   ]
  },
  {
   "cell_type": "code",
   "execution_count": 8,
   "id": "787965db-74a0-47e8-871f-910c4442b373",
   "metadata": {
    "colab": {
     "base_uri": "https://localhost:8080/",
     "height": 290
    },
    "executionInfo": {
     "elapsed": 693,
     "status": "ok",
     "timestamp": 1649957758938,
     "user": {
      "displayName": "Jianzhang Ni",
      "userId": "18109982546966884557"
     },
     "user_tz": -60
    },
    "id": "205A6ozJSbVi",
    "outputId": "f69f89b2-df44-43a2-a1a7-ede193c41635"
   },
   "outputs": [
    {
     "data": {
      "text/plain": [
       "<AxesSubplot:>"
      ]
     },
     "execution_count": 8,
     "metadata": {},
     "output_type": "execute_result"
    },
    {
     "data": {
      "image/png": "[encoded data removed]",
      "text/plain": [
       "<Figure size 720x432 with 2 Axes>"
      ]
     },
     "metadata": {
      "needs_background": "light"
     },
     "output_type": "display_data"
    }
   ],
   "source": [
    "# FO matrix\n",
    "plt.figure(figsize=(10,6))\n",
    "sns.heatmap(chronnectome_df.corr(),cmap='RdBu_r')"
   ]
  },
  {
   "cell_type": "markdown",
   "id": "18eb7f0a-04c8-435b-8a5a-fe51f3cbcde2",
   "metadata": {
    "id": "-evh3cMgSJrg"
   },
   "source": [
    "## Label Encoding\n"
   ]
  },
  {
   "cell_type": "code",
   "execution_count": 9,
   "id": "b3d40c43-4dbd-431f-b702-c30cee11c07d",
   "metadata": {
    "colab": {
     "base_uri": "https://localhost:8080/"
    },
    "executionInfo": {
     "elapsed": 10,
     "status": "ok",
     "timestamp": 1649957758939,
     "user": {
      "displayName": "Jianzhang Ni",
      "userId": "18109982546966884557"
     },
     "user_tz": -60
    },
    "id": "Z0_ihyAtQuvg",
    "outputId": "69e82d62-4358-4d29-eb46-161be0094607"
   },
   "outputs": [
    {
     "data": {
      "text/plain": [
       "array([1., 1., 1., 1., 1., 1., 1., 1., 1., 1., 1., 1., 1., 1., 1., 0., 0.,\n",
       "       0., 0., 0., 0., 0., 0., 0., 0., 0., 0., 0., 0., 0., 0., 0., 0., 0.,\n",
       "       0., 0., 0., 1., 1., 1., 1., 1., 1., 1., 1., 1., 1., 1., 1., 1., 1.,\n",
       "       1., 0., 0., 0., 0., 0., 0., 0., 0., 0., 0., 0., 0., 0., 0., 0., 0.,\n",
       "       0., 0., 0., 0., 0., 0., 1., 1., 1., 1., 1., 1., 1., 1., 1., 1., 1.,\n",
       "       1., 1., 1., 1., 0., 0., 0., 0., 0., 0., 0., 0., 0., 0., 0., 0., 0.,\n",
       "       0., 0., 0., 0., 0., 0., 0., 0., 0.])"
      ]
     },
     "execution_count": 9,
     "metadata": {},
     "output_type": "execute_result"
    }
   ],
   "source": [
    "# Chronotype Encoding\n",
    "from sklearn.preprocessing import OneHotEncoder\n",
    "\n",
    "oe_style = OneHotEncoder()\n",
    "oe_results = oe_style.fit_transform(performance[['Type']])\n",
    "chrono_array = oe_results.toarray()[:,0]\n",
    "chrono_array"
   ]
  },
  {
   "cell_type": "code",
   "execution_count": 10,
   "id": "30b87503-4c49-4bce-a216-1a38cf93ace0",
   "metadata": {
    "colab": {
     "base_uri": "https://localhost:8080/"
    },
    "executionInfo": {
     "elapsed": 6,
     "status": "ok",
     "timestamp": 1649957758939,
     "user": {
      "displayName": "Jianzhang Ni",
      "userId": "18109982546966884557"
     },
     "user_tz": -60
    },
    "id": "t4ANGFJUsS02",
    "outputId": "472b4ed1-760e-4471-eb69-c9db9386ca12"
   },
   "outputs": [
    {
     "data": {
      "text/plain": [
       "array([0, 0, 0, 0, 0, 0, 0, 0, 0, 0, 0, 0, 0, 0, 0, 0, 0, 0, 0, 0, 0, 0,\n",
       "       0, 0, 0, 0, 0, 0, 0, 0, 0, 0, 0, 0, 0, 0, 0, 1, 1, 1, 1, 1, 1, 1,\n",
       "       1, 1, 1, 1, 1, 1, 1, 1, 1, 1, 1, 1, 1, 1, 1, 1, 1, 1, 1, 1, 1, 1,\n",
       "       1, 1, 1, 1, 1, 1, 1, 1, 2, 2, 2, 2, 2, 2, 2, 2, 2, 2, 2, 2, 2, 2,\n",
       "       2, 2, 2, 2, 2, 2, 2, 2, 2, 2, 2, 2, 2, 2, 2, 2, 2, 2, 2, 2, 2, 2,\n",
       "       2])"
      ]
     },
     "execution_count": 10,
     "metadata": {},
     "output_type": "execute_result"
    }
   ],
   "source": [
    "# Session Encoding \n",
    "# ... do this in a better way\n",
    "ses_list = []\n",
    "for ses in [0, 1, 2]:\n",
    "    ses_list += [ses for i in range(37)]\n",
    "ses_array = np.array(ses_list)\n",
    "ses_array"
   ]
  },
  {
   "cell_type": "markdown",
   "id": "a9f4bb4c-01fc-446e-b8ae-0fff52b49e44",
   "metadata": {},
   "source": [
    "# Group Analysis"
   ]
  },
  {
   "cell_type": "code",
   "execution_count": 11,
   "id": "d9cc59d5-e572-49fa-9771-fe4ddb2ef245",
   "metadata": {},
   "outputs": [],
   "source": [
    "fo = fo_df.copy()\n",
    "fo['chrono']=chrono_array; fo['time']=ses_array\n"
   ]
  },
  {
   "cell_type": "code",
   "execution_count": 12,
   "id": "2d29c552-7113-4e2f-b371-58546f4322b4",
   "metadata": {},
   "outputs": [
    {
     "data": {
      "text/html": [
       "<div>\n",
       "<style scoped>\n",
       "    .dataframe tbody tr th:only-of-type {\n",
       "        vertical-align: middle;\n",
       "    }\n",
       "\n",
       "    .dataframe tbody tr th {\n",
       "        vertical-align: top;\n",
       "    }\n",
       "\n",
       "    .dataframe thead th {\n",
       "        text-align: right;\n",
       "    }\n",
       "</style>\n",
       "<table border=\"1\" class=\"dataframe\">\n",
       "  <thead>\n",
       "    <tr style=\"text-align: right;\">\n",
       "      <th></th>\n",
       "      <th>state1_fo</th>\n",
       "      <th>state2_fo</th>\n",
       "      <th>state3_fo</th>\n",
       "      <th>state4_fo</th>\n",
       "      <th>state5_fo</th>\n",
       "      <th>chrono</th>\n",
       "      <th>time</th>\n",
       "    </tr>\n",
       "  </thead>\n",
       "  <tbody>\n",
       "    <tr>\n",
       "      <th>0</th>\n",
       "      <td>0.206667</td>\n",
       "      <td>0.128889</td>\n",
       "      <td>0.135556</td>\n",
       "      <td>0.224444</td>\n",
       "      <td>0.304444</td>\n",
       "      <td>1.0</td>\n",
       "      <td>0</td>\n",
       "    </tr>\n",
       "    <tr>\n",
       "      <th>1</th>\n",
       "      <td>0.291111</td>\n",
       "      <td>0.202222</td>\n",
       "      <td>0.208889</td>\n",
       "      <td>0.146667</td>\n",
       "      <td>0.151111</td>\n",
       "      <td>1.0</td>\n",
       "      <td>0</td>\n",
       "    </tr>\n",
       "    <tr>\n",
       "      <th>2</th>\n",
       "      <td>0.280000</td>\n",
       "      <td>0.208889</td>\n",
       "      <td>0.242222</td>\n",
       "      <td>0.171111</td>\n",
       "      <td>0.097778</td>\n",
       "      <td>1.0</td>\n",
       "      <td>0</td>\n",
       "    </tr>\n",
       "    <tr>\n",
       "      <th>3</th>\n",
       "      <td>0.171111</td>\n",
       "      <td>0.182222</td>\n",
       "      <td>0.184444</td>\n",
       "      <td>0.166667</td>\n",
       "      <td>0.295556</td>\n",
       "      <td>1.0</td>\n",
       "      <td>0</td>\n",
       "    </tr>\n",
       "    <tr>\n",
       "      <th>4</th>\n",
       "      <td>0.353333</td>\n",
       "      <td>0.140000</td>\n",
       "      <td>0.215556</td>\n",
       "      <td>0.151111</td>\n",
       "      <td>0.140000</td>\n",
       "      <td>1.0</td>\n",
       "      <td>0</td>\n",
       "    </tr>\n",
       "    <tr>\n",
       "      <th>...</th>\n",
       "      <td>...</td>\n",
       "      <td>...</td>\n",
       "      <td>...</td>\n",
       "      <td>...</td>\n",
       "      <td>...</td>\n",
       "      <td>...</td>\n",
       "      <td>...</td>\n",
       "    </tr>\n",
       "    <tr>\n",
       "      <th>106</th>\n",
       "      <td>0.320000</td>\n",
       "      <td>0.193333</td>\n",
       "      <td>0.164444</td>\n",
       "      <td>0.253333</td>\n",
       "      <td>0.068889</td>\n",
       "      <td>0.0</td>\n",
       "      <td>2</td>\n",
       "    </tr>\n",
       "    <tr>\n",
       "      <th>107</th>\n",
       "      <td>0.233333</td>\n",
       "      <td>0.088889</td>\n",
       "      <td>0.273333</td>\n",
       "      <td>0.282222</td>\n",
       "      <td>0.122222</td>\n",
       "      <td>0.0</td>\n",
       "      <td>2</td>\n",
       "    </tr>\n",
       "    <tr>\n",
       "      <th>108</th>\n",
       "      <td>0.233333</td>\n",
       "      <td>0.157778</td>\n",
       "      <td>0.180000</td>\n",
       "      <td>0.160000</td>\n",
       "      <td>0.268889</td>\n",
       "      <td>0.0</td>\n",
       "      <td>2</td>\n",
       "    </tr>\n",
       "    <tr>\n",
       "      <th>109</th>\n",
       "      <td>0.335556</td>\n",
       "      <td>0.126667</td>\n",
       "      <td>0.208889</td>\n",
       "      <td>0.217778</td>\n",
       "      <td>0.111111</td>\n",
       "      <td>0.0</td>\n",
       "      <td>2</td>\n",
       "    </tr>\n",
       "    <tr>\n",
       "      <th>110</th>\n",
       "      <td>0.193333</td>\n",
       "      <td>0.208889</td>\n",
       "      <td>0.084444</td>\n",
       "      <td>0.164444</td>\n",
       "      <td>0.348889</td>\n",
       "      <td>0.0</td>\n",
       "      <td>2</td>\n",
       "    </tr>\n",
       "  </tbody>\n",
       "</table>\n",
       "<p>111 rows × 7 columns</p>\n",
       "</div>"
      ],
      "text/plain": [
       "     state1_fo  state2_fo  state3_fo  state4_fo  state5_fo  chrono  time\n",
       "0     0.206667   0.128889   0.135556   0.224444   0.304444     1.0     0\n",
       "1     0.291111   0.202222   0.208889   0.146667   0.151111     1.0     0\n",
       "2     0.280000   0.208889   0.242222   0.171111   0.097778     1.0     0\n",
       "3     0.171111   0.182222   0.184444   0.166667   0.295556     1.0     0\n",
       "4     0.353333   0.140000   0.215556   0.151111   0.140000     1.0     0\n",
       "..         ...        ...        ...        ...        ...     ...   ...\n",
       "106   0.320000   0.193333   0.164444   0.253333   0.068889     0.0     2\n",
       "107   0.233333   0.088889   0.273333   0.282222   0.122222     0.0     2\n",
       "108   0.233333   0.157778   0.180000   0.160000   0.268889     0.0     2\n",
       "109   0.335556   0.126667   0.208889   0.217778   0.111111     0.0     2\n",
       "110   0.193333   0.208889   0.084444   0.164444   0.348889     0.0     2\n",
       "\n",
       "[111 rows x 7 columns]"
      ]
     },
     "execution_count": 12,
     "metadata": {},
     "output_type": "execute_result"
    }
   ],
   "source": [
    "fo"
   ]
  },
  {
   "cell_type": "markdown",
   "id": "3652dffe-8d2b-46bf-a806-a967e1db7ec2",
   "metadata": {
    "id": "awhPI3S9rCj1",
    "tags": []
   },
   "source": [
    "# Group analysis  \n"
   ]
  },
  {
   "cell_type": "code",
   "execution_count": 13,
   "id": "78d91fcc-bd37-4ac3-b444-cf0ce1935143",
   "metadata": {
    "id": "tH_NNJW7DsFC"
   },
   "outputs": [],
   "source": [
    "import scipy\n",
    "from scipy import stats \n",
    "\n",
    "random_state = 42"
   ]
  },
  {
   "cell_type": "code",
   "execution_count": 14,
   "id": "9abaa00c-3d15-4e58-81df-593488f25175",
   "metadata": {
    "id": "-sFt5yNzFr6T"
   },
   "outputs": [],
   "source": [
    "#@title Warp the mean comparison function\n",
    "def norm_test(group_list, alpha=0.05):\n",
    "    total_norm=True\n",
    "    for group in group_list:\n",
    "        total_norm = total_norm & (stats.shapiro(group)[1]>=0.05)\n",
    "        if total_norm == False:\n",
    "            return total_norm\n",
    "    return total_norm\n",
    "\n",
    "def compare_mean(df1,df2, K_state):\n",
    "    mean = []\n",
    "    for state_index in range(K_state):\n",
    "        g1=df1.iloc[:, state_index]; g2 = df2.iloc[:, state_index]\n",
    "        norm = norm_test([g1,g2])\n",
    "        equal_var = True if stats.levene(g1,g2)[1]>0.05 else False\n",
    "        if norm:\n",
    "            mean_comp = stats.ttest_ind(g1, g2, equal_var=equal_var)\n",
    "        else: \n",
    "            mean_comp = stats.mannwhitneyu(g1, g2)\n",
    "        mean.append([norm, equal_var, mean_comp[0], mean_comp[1]])\n",
    "    return pd.DataFrame(mean,index=[f\"State {i+1}\" for i in range(K_state)],\n",
    "             columns=['normality', 'equal variance', 'stat', 'p value'])\n"
   ]
  },
  {
   "cell_type": "markdown",
   "id": "137f800d-2b05-4a86-a5e3-8ef0b5ac7d96",
   "metadata": {
    "id": "fh8gSt18NGUO"
   },
   "source": [
    "## Two-way Anova"
   ]
  },
  {
   "cell_type": "code",
   "execution_count": 15,
   "id": "c48e8591-2798-4b4d-924c-b973f881e994",
   "metadata": {},
   "outputs": [
    {
     "data": {
      "text/html": [
       "<div>\n",
       "<style scoped>\n",
       "    .dataframe tbody tr th:only-of-type {\n",
       "        vertical-align: middle;\n",
       "    }\n",
       "\n",
       "    .dataframe tbody tr th {\n",
       "        vertical-align: top;\n",
       "    }\n",
       "\n",
       "    .dataframe thead th {\n",
       "        text-align: right;\n",
       "    }\n",
       "</style>\n",
       "<table border=\"1\" class=\"dataframe\">\n",
       "  <thead>\n",
       "    <tr style=\"text-align: right;\">\n",
       "      <th></th>\n",
       "      <th>state1_fo</th>\n",
       "      <th>state2_fo</th>\n",
       "      <th>state3_fo</th>\n",
       "      <th>state4_fo</th>\n",
       "      <th>state5_fo</th>\n",
       "      <th>chrono</th>\n",
       "      <th>time</th>\n",
       "    </tr>\n",
       "  </thead>\n",
       "  <tbody>\n",
       "    <tr>\n",
       "      <th>0</th>\n",
       "      <td>0.206667</td>\n",
       "      <td>0.128889</td>\n",
       "      <td>0.135556</td>\n",
       "      <td>0.224444</td>\n",
       "      <td>0.304444</td>\n",
       "      <td>1.0</td>\n",
       "      <td>0</td>\n",
       "    </tr>\n",
       "    <tr>\n",
       "      <th>1</th>\n",
       "      <td>0.291111</td>\n",
       "      <td>0.202222</td>\n",
       "      <td>0.208889</td>\n",
       "      <td>0.146667</td>\n",
       "      <td>0.151111</td>\n",
       "      <td>1.0</td>\n",
       "      <td>0</td>\n",
       "    </tr>\n",
       "    <tr>\n",
       "      <th>2</th>\n",
       "      <td>0.280000</td>\n",
       "      <td>0.208889</td>\n",
       "      <td>0.242222</td>\n",
       "      <td>0.171111</td>\n",
       "      <td>0.097778</td>\n",
       "      <td>1.0</td>\n",
       "      <td>0</td>\n",
       "    </tr>\n",
       "    <tr>\n",
       "      <th>3</th>\n",
       "      <td>0.171111</td>\n",
       "      <td>0.182222</td>\n",
       "      <td>0.184444</td>\n",
       "      <td>0.166667</td>\n",
       "      <td>0.295556</td>\n",
       "      <td>1.0</td>\n",
       "      <td>0</td>\n",
       "    </tr>\n",
       "    <tr>\n",
       "      <th>4</th>\n",
       "      <td>0.353333</td>\n",
       "      <td>0.140000</td>\n",
       "      <td>0.215556</td>\n",
       "      <td>0.151111</td>\n",
       "      <td>0.140000</td>\n",
       "      <td>1.0</td>\n",
       "      <td>0</td>\n",
       "    </tr>\n",
       "    <tr>\n",
       "      <th>...</th>\n",
       "      <td>...</td>\n",
       "      <td>...</td>\n",
       "      <td>...</td>\n",
       "      <td>...</td>\n",
       "      <td>...</td>\n",
       "      <td>...</td>\n",
       "      <td>...</td>\n",
       "    </tr>\n",
       "    <tr>\n",
       "      <th>106</th>\n",
       "      <td>0.320000</td>\n",
       "      <td>0.193333</td>\n",
       "      <td>0.164444</td>\n",
       "      <td>0.253333</td>\n",
       "      <td>0.068889</td>\n",
       "      <td>0.0</td>\n",
       "      <td>2</td>\n",
       "    </tr>\n",
       "    <tr>\n",
       "      <th>107</th>\n",
       "      <td>0.233333</td>\n",
       "      <td>0.088889</td>\n",
       "      <td>0.273333</td>\n",
       "      <td>0.282222</td>\n",
       "      <td>0.122222</td>\n",
       "      <td>0.0</td>\n",
       "      <td>2</td>\n",
       "    </tr>\n",
       "    <tr>\n",
       "      <th>108</th>\n",
       "      <td>0.233333</td>\n",
       "      <td>0.157778</td>\n",
       "      <td>0.180000</td>\n",
       "      <td>0.160000</td>\n",
       "      <td>0.268889</td>\n",
       "      <td>0.0</td>\n",
       "      <td>2</td>\n",
       "    </tr>\n",
       "    <tr>\n",
       "      <th>109</th>\n",
       "      <td>0.335556</td>\n",
       "      <td>0.126667</td>\n",
       "      <td>0.208889</td>\n",
       "      <td>0.217778</td>\n",
       "      <td>0.111111</td>\n",
       "      <td>0.0</td>\n",
       "      <td>2</td>\n",
       "    </tr>\n",
       "    <tr>\n",
       "      <th>110</th>\n",
       "      <td>0.193333</td>\n",
       "      <td>0.208889</td>\n",
       "      <td>0.084444</td>\n",
       "      <td>0.164444</td>\n",
       "      <td>0.348889</td>\n",
       "      <td>0.0</td>\n",
       "      <td>2</td>\n",
       "    </tr>\n",
       "  </tbody>\n",
       "</table>\n",
       "<p>111 rows × 7 columns</p>\n",
       "</div>"
      ],
      "text/plain": [
       "     state1_fo  state2_fo  state3_fo  state4_fo  state5_fo  chrono  time\n",
       "0     0.206667   0.128889   0.135556   0.224444   0.304444     1.0     0\n",
       "1     0.291111   0.202222   0.208889   0.146667   0.151111     1.0     0\n",
       "2     0.280000   0.208889   0.242222   0.171111   0.097778     1.0     0\n",
       "3     0.171111   0.182222   0.184444   0.166667   0.295556     1.0     0\n",
       "4     0.353333   0.140000   0.215556   0.151111   0.140000     1.0     0\n",
       "..         ...        ...        ...        ...        ...     ...   ...\n",
       "106   0.320000   0.193333   0.164444   0.253333   0.068889     0.0     2\n",
       "107   0.233333   0.088889   0.273333   0.282222   0.122222     0.0     2\n",
       "108   0.233333   0.157778   0.180000   0.160000   0.268889     0.0     2\n",
       "109   0.335556   0.126667   0.208889   0.217778   0.111111     0.0     2\n",
       "110   0.193333   0.208889   0.084444   0.164444   0.348889     0.0     2\n",
       "\n",
       "[111 rows x 7 columns]"
      ]
     },
     "execution_count": 15,
     "metadata": {},
     "output_type": "execute_result"
    }
   ],
   "source": [
    "fo"
   ]
  },
  {
   "cell_type": "code",
   "execution_count": 16,
   "id": "b89a61e2-71ec-4ae6-9c03-464ce1ad8c31",
   "metadata": {
    "colab": {
     "base_uri": "https://localhost:8080/"
    },
    "executionInfo": {
     "elapsed": 573,
     "status": "ok",
     "timestamp": 1649858085086,
     "user": {
      "displayName": "Jianzhang Ni",
      "userId": "18109982546966884557"
     },
     "user_tz": -60
    },
    "id": "D1jSiHX6ru4h",
    "outputId": "a2c0c782-7da2-4dbc-96b9-09cdac3c2e97"
   },
   "outputs": [],
   "source": [
    "#@title warp twoway_anova\n",
    "# Ordinary Least Squares (OLS) model\n",
    "import statsmodels.api as sm\n",
    "from statsmodels.formula.api import ols\n",
    "def twoway_anova(fo, K_state, n_rep=1000):\n",
    "    anova_tables = [] ; Fvalue_table=pd.DataFrame()\n",
    "    state_list = [ f'state{i}' for i in range(1, K_state+1)]\n",
    "    for state in state_list:\n",
    "        model = ols(f\"{state}_fo ~ C(chrono)+ C(time)+ C(chrono)*C(time)\", data=fo).fit()\n",
    "        anova_table = sm.stats.anova_lm(model, typ=2)\n",
    "        anova_tables.append(anova_table)\n",
    "        Fvalue_table[f\"{state}_F\"] = anova_table.loc[:,'F']\n",
    "        Fvalue_table[f\"{state}_p\"] = anova_table.loc[:,'PR(>F)']\n",
    "    \n",
    "    return Fvalue_table, anova_tables "
   ]
  },
  {
   "cell_type": "code",
   "execution_count": 17,
   "id": "b33b3a8c-e87f-4917-abbd-19304193fdf1",
   "metadata": {
    "cellView": "form",
    "id": "AGi7JRDwNI6t"
   },
   "outputs": [],
   "source": [
    "#@title Warp boxplot function\n",
    "def twoway_boxplot(fo, K_state, subplotformat='33',figsize1=(15,8), title=\"\"):\n",
    "    subplot_num= K_state\n",
    "    state_list = [ f'state{i}' for i in range(1, K_state+1)]\n",
    "    plt.figure(figsize=figsize1)  \n",
    "    for i in range(len(state_list)):\n",
    "        state = state_list[i]\n",
    "        ax = plt.subplot(int(f'{subplotformat}{i+1}'))\n",
    "        plt.tight_layout()\n",
    "        sns.boxplot(x=\"time\", y=f\"{state}_fo\", hue=\"chrono\", data=fo, palette=\"Set3\") "
   ]
  },
  {
   "cell_type": "code",
   "execution_count": 18,
   "id": "b35fe4df-de0d-44a5-88bb-7fd5224cdcca",
   "metadata": {
    "colab": {
     "base_uri": "https://localhost:8080/",
     "height": 175
    },
    "executionInfo": {
     "elapsed": 7,
     "status": "ok",
     "timestamp": 1649415256774,
     "user": {
      "displayName": "Jianzhang Ni",
      "userId": "18109982546966884557"
     },
     "user_tz": -60
    },
    "id": "InMFUxtNnruO",
    "outputId": "1e7542bc-28b9-4a24-b9ff-0621b5e28758"
   },
   "outputs": [
    {
     "data": {
      "text/html": [
       "<div>\n",
       "<style scoped>\n",
       "    .dataframe tbody tr th:only-of-type {\n",
       "        vertical-align: middle;\n",
       "    }\n",
       "\n",
       "    .dataframe tbody tr th {\n",
       "        vertical-align: top;\n",
       "    }\n",
       "\n",
       "    .dataframe thead th {\n",
       "        text-align: right;\n",
       "    }\n",
       "</style>\n",
       "<table border=\"1\" class=\"dataframe\">\n",
       "  <thead>\n",
       "    <tr style=\"text-align: right;\">\n",
       "      <th></th>\n",
       "      <th>state1_F</th>\n",
       "      <th>state1_p</th>\n",
       "      <th>state2_F</th>\n",
       "      <th>state2_p</th>\n",
       "      <th>state3_F</th>\n",
       "      <th>state3_p</th>\n",
       "      <th>state4_F</th>\n",
       "      <th>state4_p</th>\n",
       "      <th>state5_F</th>\n",
       "      <th>state5_p</th>\n",
       "    </tr>\n",
       "  </thead>\n",
       "  <tbody>\n",
       "    <tr>\n",
       "      <th>C(chrono)</th>\n",
       "      <td>0.292247</td>\n",
       "      <td>0.589929</td>\n",
       "      <td>0.052452</td>\n",
       "      <td>0.819296</td>\n",
       "      <td>1.177038</td>\n",
       "      <td>0.280444</td>\n",
       "      <td>0.048162</td>\n",
       "      <td>0.826719</td>\n",
       "      <td>0.332739</td>\n",
       "      <td>0.565285</td>\n",
       "    </tr>\n",
       "    <tr>\n",
       "      <th>C(time)</th>\n",
       "      <td>0.732141</td>\n",
       "      <td>0.483317</td>\n",
       "      <td>0.776990</td>\n",
       "      <td>0.462413</td>\n",
       "      <td>0.637748</td>\n",
       "      <td>0.530516</td>\n",
       "      <td>2.187568</td>\n",
       "      <td>0.117277</td>\n",
       "      <td>1.601856</td>\n",
       "      <td>0.206407</td>\n",
       "    </tr>\n",
       "    <tr>\n",
       "      <th>C(chrono):C(time)</th>\n",
       "      <td>0.132344</td>\n",
       "      <td>0.876186</td>\n",
       "      <td>1.046204</td>\n",
       "      <td>0.354901</td>\n",
       "      <td>0.011139</td>\n",
       "      <td>0.988924</td>\n",
       "      <td>0.512526</td>\n",
       "      <td>0.600471</td>\n",
       "      <td>0.693892</td>\n",
       "      <td>0.501904</td>\n",
       "    </tr>\n",
       "    <tr>\n",
       "      <th>Residual</th>\n",
       "      <td>NaN</td>\n",
       "      <td>NaN</td>\n",
       "      <td>NaN</td>\n",
       "      <td>NaN</td>\n",
       "      <td>NaN</td>\n",
       "      <td>NaN</td>\n",
       "      <td>NaN</td>\n",
       "      <td>NaN</td>\n",
       "      <td>NaN</td>\n",
       "      <td>NaN</td>\n",
       "    </tr>\n",
       "  </tbody>\n",
       "</table>\n",
       "</div>"
      ],
      "text/plain": [
       "                   state1_F  state1_p  state2_F  state2_p  state3_F  state3_p  \\\n",
       "C(chrono)          0.292247  0.589929  0.052452  0.819296  1.177038  0.280444   \n",
       "C(time)            0.732141  0.483317  0.776990  0.462413  0.637748  0.530516   \n",
       "C(chrono):C(time)  0.132344  0.876186  1.046204  0.354901  0.011139  0.988924   \n",
       "Residual                NaN       NaN       NaN       NaN       NaN       NaN   \n",
       "\n",
       "                   state4_F  state4_p  state5_F  state5_p  \n",
       "C(chrono)          0.048162  0.826719  0.332739  0.565285  \n",
       "C(time)            2.187568  0.117277  1.601856  0.206407  \n",
       "C(chrono):C(time)  0.512526  0.600471  0.693892  0.501904  \n",
       "Residual                NaN       NaN       NaN       NaN  "
      ]
     },
     "execution_count": 18,
     "metadata": {},
     "output_type": "execute_result"
    }
   ],
   "source": [
    "# Ordinary Least Squares (OLS) model\n",
    "# model = ols(f\"{state} ~ C(chronotype)+ C(time)+ C(chronotype)*C(time)\", data=fo).fit()\n",
    "\n",
    "Fvalue_table, anova_tables = twoway_anova(fo,K_state)\n",
    "Fvalue_table"
   ]
  },
  {
   "cell_type": "code",
   "execution_count": 19,
   "id": "a7654796-e131-4800-a3df-70fc382a92eb",
   "metadata": {
    "colab": {
     "base_uri": "https://localhost:8080/",
     "height": 581
    },
    "executionInfo": {
     "elapsed": 1976,
     "status": "ok",
     "timestamp": 1649415258745,
     "user": {
      "displayName": "Jianzhang Ni",
      "userId": "18109982546966884557"
     },
     "user_tz": -60
    },
    "id": "R9i8Fm2Rn95Q",
    "outputId": "12fe22e1-603b-4465-f372-5bce33948a23"
   },
   "outputs": [
    {
     "data": {
      "image/png": "[encoded data removed]",
      "text/plain": [
       "<Figure size 1080x576 with 5 Axes>"
      ]
     },
     "metadata": {
      "needs_background": "light"
     },
     "output_type": "display_data"
    }
   ],
   "source": [
    "twoway_boxplot(fo, K_state)"
   ]
  },
  {
   "cell_type": "code",
   "execution_count": 20,
   "id": "7d67c1d7-36a5-4d3f-b8ca-3e5fa8bba19a",
   "metadata": {},
   "outputs": [
    {
     "data": {
      "text/plain": [
       "Index(['state1_fo', 'state2_fo', 'state3_fo', 'state4_fo', 'state5_fo',\n",
       "       'chrono', 'time'],\n",
       "      dtype='object')"
      ]
     },
     "execution_count": 20,
     "metadata": {},
     "output_type": "execute_result"
    }
   ],
   "source": [
    "fo.columns"
   ]
  },
  {
   "cell_type": "markdown",
   "id": "6c382cc5-3946-4713-9541-3bce1fcd9d2f",
   "metadata": {
    "id": "7kFYLZljMC9K"
   },
   "source": [
    "## Chronotype"
   ]
  },
  {
   "cell_type": "code",
   "execution_count": 21,
   "id": "23726d08-a4bb-4557-954d-f78143eea522",
   "metadata": {
    "id": "rvc8mI64MHCS"
   },
   "outputs": [],
   "source": [
    "ECP = fo[fo['chrono']==1]; LCP = fo[fo['chrono']==0] "
   ]
  },
  {
   "cell_type": "code",
   "execution_count": 22,
   "id": "486dc264-06a6-4642-a4f9-c9eb512d904a",
   "metadata": {},
   "outputs": [],
   "source": [
    "def shift_plot(df1,df2,K_state, feature='fo'):\n",
    "    for state in range(1,K_state+1):\n",
    "        feature = f'state{state}_fo'\n",
    "        fig = pg.plot_shift(df1[feature], df2[feature])\n",
    "        plt.show()\n",
    "\n",
    "        \n",
    "        "
   ]
  },
  {
   "cell_type": "code",
   "execution_count": 23,
   "id": "d3205d01-759e-4253-a96b-9008246ffc31",
   "metadata": {},
   "outputs": [
    {
     "data": {
      "image/png": "[encoded data removed]",
      "text/plain": [
       "<Figure size 576x360 with 2 Axes>"
      ]
     },
     "metadata": {
      "needs_background": "light"
     },
     "output_type": "display_data"
    },
    {
     "data": {
      "image/png": "[encoded data removed]",
      "text/plain": [
       "<Figure size 576x360 with 2 Axes>"
      ]
     },
     "metadata": {
      "needs_background": "light"
     },
     "output_type": "display_data"
    },
    {
     "data": {
      "image/png": "[encoded data removed]",
      "text/plain": [
       "<Figure size 576x360 with 2 Axes>"
      ]
     },
     "metadata": {
      "needs_background": "light"
     },
     "output_type": "display_data"
    },
    {
     "data": {
      "image/png": "[encoded data removed]",
      "text/plain": [
       "<Figure size 576x360 with 2 Axes>"
      ]
     },
     "metadata": {
      "needs_background": "light"
     },
     "output_type": "display_data"
    },
    {
     "data": {
      "image/png": "[encoded data removed]",
      "text/plain": [
       "<Figure size 576x360 with 2 Axes>"
      ]
     },
     "metadata": {
      "needs_background": "light"
     },
     "output_type": "display_data"
    }
   ],
   "source": [
    "shift_plot(ECP,LCP,K_state)"
   ]
  },
  {
   "cell_type": "code",
   "execution_count": 24,
   "id": "f3dda097-595a-46de-97e9-8cfd787a3e05",
   "metadata": {
    "colab": {
     "base_uri": "https://localhost:8080/",
     "height": 206
    },
    "executionInfo": {
     "elapsed": 22,
     "status": "ok",
     "timestamp": 1649415258747,
     "user": {
      "displayName": "Jianzhang Ni",
      "userId": "18109982546966884557"
     },
     "user_tz": -60
    },
    "id": "qAaWwue6AbmW",
    "outputId": "720e57e8-ca6b-476f-8d3f-bf242a00727e"
   },
   "outputs": [
    {
     "data": {
      "text/html": [
       "<div>\n",
       "<style scoped>\n",
       "    .dataframe tbody tr th:only-of-type {\n",
       "        vertical-align: middle;\n",
       "    }\n",
       "\n",
       "    .dataframe tbody tr th {\n",
       "        vertical-align: top;\n",
       "    }\n",
       "\n",
       "    .dataframe thead th {\n",
       "        text-align: right;\n",
       "    }\n",
       "</style>\n",
       "<table border=\"1\" class=\"dataframe\">\n",
       "  <thead>\n",
       "    <tr style=\"text-align: right;\">\n",
       "      <th></th>\n",
       "      <th>normality</th>\n",
       "      <th>equal variance</th>\n",
       "      <th>stat</th>\n",
       "      <th>p value</th>\n",
       "    </tr>\n",
       "  </thead>\n",
       "  <tbody>\n",
       "    <tr>\n",
       "      <th>State 1</th>\n",
       "      <td>True</td>\n",
       "      <td>True</td>\n",
       "      <td>-0.546320</td>\n",
       "      <td>0.585962</td>\n",
       "    </tr>\n",
       "    <tr>\n",
       "      <th>State 2</th>\n",
       "      <td>True</td>\n",
       "      <td>True</td>\n",
       "      <td>0.229396</td>\n",
       "      <td>0.818991</td>\n",
       "    </tr>\n",
       "    <tr>\n",
       "      <th>State 3</th>\n",
       "      <td>False</td>\n",
       "      <td>True</td>\n",
       "      <td>1327.000000</td>\n",
       "      <td>0.344084</td>\n",
       "    </tr>\n",
       "    <tr>\n",
       "      <th>State 4</th>\n",
       "      <td>True</td>\n",
       "      <td>True</td>\n",
       "      <td>0.218062</td>\n",
       "      <td>0.827788</td>\n",
       "    </tr>\n",
       "    <tr>\n",
       "      <th>State 5</th>\n",
       "      <td>False</td>\n",
       "      <td>True</td>\n",
       "      <td>1642.000000</td>\n",
       "      <td>0.347174</td>\n",
       "    </tr>\n",
       "  </tbody>\n",
       "</table>\n",
       "</div>"
      ],
      "text/plain": [
       "         normality  equal variance         stat   p value\n",
       "State 1       True            True    -0.546320  0.585962\n",
       "State 2       True            True     0.229396  0.818991\n",
       "State 3      False            True  1327.000000  0.344084\n",
       "State 4       True            True     0.218062  0.827788\n",
       "State 5      False            True  1642.000000  0.347174"
      ]
     },
     "execution_count": 24,
     "metadata": {},
     "output_type": "execute_result"
    }
   ],
   "source": [
    "compare_mean(ECP,LCP, K_state)"
   ]
  },
  {
   "cell_type": "code",
   "execution_count": 27,
   "id": "47be859a-2d28-4f6a-80ca-7c6a17b0a08f",
   "metadata": {},
   "outputs": [
    {
     "data": {
      "text/html": [
       "<div>\n",
       "<style scoped>\n",
       "    .dataframe tbody tr th:only-of-type {\n",
       "        vertical-align: middle;\n",
       "    }\n",
       "\n",
       "    .dataframe tbody tr th {\n",
       "        vertical-align: top;\n",
       "    }\n",
       "\n",
       "    .dataframe thead th {\n",
       "        text-align: right;\n",
       "    }\n",
       "</style>\n",
       "<table border=\"1\" class=\"dataframe\">\n",
       "  <thead>\n",
       "    <tr style=\"text-align: right;\">\n",
       "      <th></th>\n",
       "      <th>state1_fo</th>\n",
       "      <th>state2_fo</th>\n",
       "      <th>state3_fo</th>\n",
       "      <th>state4_fo</th>\n",
       "      <th>state5_fo</th>\n",
       "      <th>chrono</th>\n",
       "      <th>time</th>\n",
       "    </tr>\n",
       "  </thead>\n",
       "  <tbody>\n",
       "    <tr>\n",
       "      <th>0</th>\n",
       "      <td>0.206667</td>\n",
       "      <td>0.128889</td>\n",
       "      <td>0.135556</td>\n",
       "      <td>0.224444</td>\n",
       "      <td>0.304444</td>\n",
       "      <td>1.0</td>\n",
       "      <td>0</td>\n",
       "    </tr>\n",
       "    <tr>\n",
       "      <th>1</th>\n",
       "      <td>0.291111</td>\n",
       "      <td>0.202222</td>\n",
       "      <td>0.208889</td>\n",
       "      <td>0.146667</td>\n",
       "      <td>0.151111</td>\n",
       "      <td>1.0</td>\n",
       "      <td>0</td>\n",
       "    </tr>\n",
       "    <tr>\n",
       "      <th>2</th>\n",
       "      <td>0.280000</td>\n",
       "      <td>0.208889</td>\n",
       "      <td>0.242222</td>\n",
       "      <td>0.171111</td>\n",
       "      <td>0.097778</td>\n",
       "      <td>1.0</td>\n",
       "      <td>0</td>\n",
       "    </tr>\n",
       "    <tr>\n",
       "      <th>3</th>\n",
       "      <td>0.171111</td>\n",
       "      <td>0.182222</td>\n",
       "      <td>0.184444</td>\n",
       "      <td>0.166667</td>\n",
       "      <td>0.295556</td>\n",
       "      <td>1.0</td>\n",
       "      <td>0</td>\n",
       "    </tr>\n",
       "    <tr>\n",
       "      <th>4</th>\n",
       "      <td>0.353333</td>\n",
       "      <td>0.140000</td>\n",
       "      <td>0.215556</td>\n",
       "      <td>0.151111</td>\n",
       "      <td>0.140000</td>\n",
       "      <td>1.0</td>\n",
       "      <td>0</td>\n",
       "    </tr>\n",
       "    <tr>\n",
       "      <th>...</th>\n",
       "      <td>...</td>\n",
       "      <td>...</td>\n",
       "      <td>...</td>\n",
       "      <td>...</td>\n",
       "      <td>...</td>\n",
       "      <td>...</td>\n",
       "      <td>...</td>\n",
       "    </tr>\n",
       "    <tr>\n",
       "      <th>106</th>\n",
       "      <td>0.320000</td>\n",
       "      <td>0.193333</td>\n",
       "      <td>0.164444</td>\n",
       "      <td>0.253333</td>\n",
       "      <td>0.068889</td>\n",
       "      <td>0.0</td>\n",
       "      <td>2</td>\n",
       "    </tr>\n",
       "    <tr>\n",
       "      <th>107</th>\n",
       "      <td>0.233333</td>\n",
       "      <td>0.088889</td>\n",
       "      <td>0.273333</td>\n",
       "      <td>0.282222</td>\n",
       "      <td>0.122222</td>\n",
       "      <td>0.0</td>\n",
       "      <td>2</td>\n",
       "    </tr>\n",
       "    <tr>\n",
       "      <th>108</th>\n",
       "      <td>0.233333</td>\n",
       "      <td>0.157778</td>\n",
       "      <td>0.180000</td>\n",
       "      <td>0.160000</td>\n",
       "      <td>0.268889</td>\n",
       "      <td>0.0</td>\n",
       "      <td>2</td>\n",
       "    </tr>\n",
       "    <tr>\n",
       "      <th>109</th>\n",
       "      <td>0.335556</td>\n",
       "      <td>0.126667</td>\n",
       "      <td>0.208889</td>\n",
       "      <td>0.217778</td>\n",
       "      <td>0.111111</td>\n",
       "      <td>0.0</td>\n",
       "      <td>2</td>\n",
       "    </tr>\n",
       "    <tr>\n",
       "      <th>110</th>\n",
       "      <td>0.193333</td>\n",
       "      <td>0.208889</td>\n",
       "      <td>0.084444</td>\n",
       "      <td>0.164444</td>\n",
       "      <td>0.348889</td>\n",
       "      <td>0.0</td>\n",
       "      <td>2</td>\n",
       "    </tr>\n",
       "  </tbody>\n",
       "</table>\n",
       "<p>111 rows × 7 columns</p>\n",
       "</div>"
      ],
      "text/plain": [
       "     state1_fo  state2_fo  state3_fo  state4_fo  state5_fo  chrono  time\n",
       "0     0.206667   0.128889   0.135556   0.224444   0.304444     1.0     0\n",
       "1     0.291111   0.202222   0.208889   0.146667   0.151111     1.0     0\n",
       "2     0.280000   0.208889   0.242222   0.171111   0.097778     1.0     0\n",
       "3     0.171111   0.182222   0.184444   0.166667   0.295556     1.0     0\n",
       "4     0.353333   0.140000   0.215556   0.151111   0.140000     1.0     0\n",
       "..         ...        ...        ...        ...        ...     ...   ...\n",
       "106   0.320000   0.193333   0.164444   0.253333   0.068889     0.0     2\n",
       "107   0.233333   0.088889   0.273333   0.282222   0.122222     0.0     2\n",
       "108   0.233333   0.157778   0.180000   0.160000   0.268889     0.0     2\n",
       "109   0.335556   0.126667   0.208889   0.217778   0.111111     0.0     2\n",
       "110   0.193333   0.208889   0.084444   0.164444   0.348889     0.0     2\n",
       "\n",
       "[111 rows x 7 columns]"
      ]
     },
     "execution_count": 27,
     "metadata": {},
     "output_type": "execute_result"
    }
   ],
   "source": [
    "fo"
   ]
  },
  {
   "cell_type": "code",
   "execution_count": 28,
   "id": "72408c33-1b69-4039-8d21-cf9975cf1ff2",
   "metadata": {
    "colab": {
     "base_uri": "https://localhost:8080/",
     "height": 394
    },
    "executionInfo": {
     "elapsed": 728,
     "status": "ok",
     "timestamp": 1649415276836,
     "user": {
      "displayName": "Jianzhang Ni",
      "userId": "18109982546966884557"
     },
     "user_tz": -60
    },
    "id": "peM4kt3lk1PD",
    "outputId": "491b7058-3814-4127-ef88-0fa548981323"
   },
   "outputs": [
    {
     "data": {
      "image/png": "[encoded data removed]",
      "text/plain": [
       "<Figure size 576x432 with 1 Axes>"
      ]
     },
     "metadata": {
      "needs_background": "light"
     },
     "output_type": "display_data"
    }
   ],
   "source": [
    "plt.figure(figsize=(8,6))\n",
    "ax = sns.boxplot(x='chrono', y='state1_fo', data=fo, color='#99c2a2')\n",
    "ax = sns.swarmplot(x='chrono', y='state1_fo', data=fo, color='#7d0013')\n",
    "\n",
    "plt.show()"
   ]
  },
  {
   "cell_type": "markdown",
   "id": "64e87688-c14e-43b9-938d-58addf51507b",
   "metadata": {
    "id": "wyKdzWuvMC0n"
   },
   "source": [
    "## Time of the day"
   ]
  },
  {
   "cell_type": "code",
   "execution_count": 29,
   "id": "5b1948e6-98d5-4969-9d18-83fb7b4422f2",
   "metadata": {
    "cellView": "form",
    "id": "RvXyutZjl2Zt"
   },
   "outputs": [],
   "source": [
    "#@title warp oneway_anova\n",
    "def oneway_anova(fo,K_state):\n",
    "    li = []\n",
    "    state_list = [ f'state{i}_fo' for i in range(1, K_state+1)]\n",
    "    for state in state_list:\n",
    "        m=fo[fo['time']==0][state]\n",
    "        a=fo[fo['time']==1][state]\n",
    "        e=fo[fo['time']==2][state]\n",
    "        li.append(stats.f_oneway(m,a,e))\n",
    "    return pd.DataFrame(li, index=state_list, columns=['F value', 'p value'])"
   ]
  },
  {
   "cell_type": "code",
   "execution_count": 30,
   "id": "28c0620a-1500-496b-96df-f5e99dc1b7b0",
   "metadata": {
    "colab": {
     "base_uri": "https://localhost:8080/",
     "height": 206
    },
    "executionInfo": {
     "elapsed": 4,
     "status": "ok",
     "timestamp": 1649415278870,
     "user": {
      "displayName": "Jianzhang Ni",
      "userId": "18109982546966884557"
     },
     "user_tz": -60
    },
    "id": "pJfbV6NBtiYC",
    "outputId": "5985b7f9-62b7-408c-c616-f38a8552c915"
   },
   "outputs": [
    {
     "data": {
      "text/html": [
       "<div>\n",
       "<style scoped>\n",
       "    .dataframe tbody tr th:only-of-type {\n",
       "        vertical-align: middle;\n",
       "    }\n",
       "\n",
       "    .dataframe tbody tr th {\n",
       "        vertical-align: top;\n",
       "    }\n",
       "\n",
       "    .dataframe thead th {\n",
       "        text-align: right;\n",
       "    }\n",
       "</style>\n",
       "<table border=\"1\" class=\"dataframe\">\n",
       "  <thead>\n",
       "    <tr style=\"text-align: right;\">\n",
       "      <th></th>\n",
       "      <th>F value</th>\n",
       "      <th>p value</th>\n",
       "    </tr>\n",
       "  </thead>\n",
       "  <tbody>\n",
       "    <tr>\n",
       "      <th>state1_fo</th>\n",
       "      <td>0.749086</td>\n",
       "      <td>0.475239</td>\n",
       "    </tr>\n",
       "    <tr>\n",
       "      <th>state2_fo</th>\n",
       "      <td>0.783191</td>\n",
       "      <td>0.459523</td>\n",
       "    </tr>\n",
       "    <tr>\n",
       "      <th>state3_fo</th>\n",
       "      <td>0.648561</td>\n",
       "      <td>0.524821</td>\n",
       "    </tr>\n",
       "    <tr>\n",
       "      <th>state4_fo</th>\n",
       "      <td>2.227305</td>\n",
       "      <td>0.112748</td>\n",
       "    </tr>\n",
       "    <tr>\n",
       "      <th>state5_fo</th>\n",
       "      <td>1.621060</td>\n",
       "      <td>0.202462</td>\n",
       "    </tr>\n",
       "  </tbody>\n",
       "</table>\n",
       "</div>"
      ],
      "text/plain": [
       "            F value   p value\n",
       "state1_fo  0.749086  0.475239\n",
       "state2_fo  0.783191  0.459523\n",
       "state3_fo  0.648561  0.524821\n",
       "state4_fo  2.227305  0.112748\n",
       "state5_fo  1.621060  0.202462"
      ]
     },
     "execution_count": 30,
     "metadata": {},
     "output_type": "execute_result"
    }
   ],
   "source": [
    "oneway_anova(fo, K_state)"
   ]
  },
  {
   "cell_type": "code",
   "execution_count": 31,
   "id": "ebf0fa9e-06ae-45b1-ad36-ad7d70297725",
   "metadata": {
    "id": "g4hTfIeJgADd"
   },
   "outputs": [],
   "source": [
    "M = ECP = fo[fo['time']==0]; A = fo[fo['time']==1]; E = fo[fo['time']==2] "
   ]
  },
  {
   "cell_type": "code",
   "execution_count": 32,
   "id": "59a30aeb-6d13-4548-9361-6aaa7057a549",
   "metadata": {
    "colab": {
     "base_uri": "https://localhost:8080/",
     "height": 206
    },
    "executionInfo": {
     "elapsed": 4,
     "status": "ok",
     "timestamp": 1649415279752,
     "user": {
      "displayName": "Jianzhang Ni",
      "userId": "18109982546966884557"
     },
     "user_tz": -60
    },
    "id": "eSO6YMpcOaNf",
    "outputId": "3b31fe3b-3e7e-4379-c30e-ead5f528e851"
   },
   "outputs": [
    {
     "data": {
      "text/html": [
       "<div>\n",
       "<style scoped>\n",
       "    .dataframe tbody tr th:only-of-type {\n",
       "        vertical-align: middle;\n",
       "    }\n",
       "\n",
       "    .dataframe tbody tr th {\n",
       "        vertical-align: top;\n",
       "    }\n",
       "\n",
       "    .dataframe thead th {\n",
       "        text-align: right;\n",
       "    }\n",
       "</style>\n",
       "<table border=\"1\" class=\"dataframe\">\n",
       "  <thead>\n",
       "    <tr style=\"text-align: right;\">\n",
       "      <th></th>\n",
       "      <th>normality</th>\n",
       "      <th>equal variance</th>\n",
       "      <th>stat</th>\n",
       "      <th>p value</th>\n",
       "    </tr>\n",
       "  </thead>\n",
       "  <tbody>\n",
       "    <tr>\n",
       "      <th>State 1</th>\n",
       "      <td>True</td>\n",
       "      <td>True</td>\n",
       "      <td>1.179701</td>\n",
       "      <td>0.242002</td>\n",
       "    </tr>\n",
       "    <tr>\n",
       "      <th>State 2</th>\n",
       "      <td>True</td>\n",
       "      <td>True</td>\n",
       "      <td>-0.521899</td>\n",
       "      <td>0.603342</td>\n",
       "    </tr>\n",
       "    <tr>\n",
       "      <th>State 3</th>\n",
       "      <td>True</td>\n",
       "      <td>True</td>\n",
       "      <td>0.930087</td>\n",
       "      <td>0.355434</td>\n",
       "    </tr>\n",
       "    <tr>\n",
       "      <th>State 4</th>\n",
       "      <td>True</td>\n",
       "      <td>True</td>\n",
       "      <td>1.821182</td>\n",
       "      <td>0.072734</td>\n",
       "    </tr>\n",
       "    <tr>\n",
       "      <th>State 5</th>\n",
       "      <td>False</td>\n",
       "      <td>True</td>\n",
       "      <td>501.000000</td>\n",
       "      <td>0.047863</td>\n",
       "    </tr>\n",
       "  </tbody>\n",
       "</table>\n",
       "</div>"
      ],
      "text/plain": [
       "         normality  equal variance        stat   p value\n",
       "State 1       True            True    1.179701  0.242002\n",
       "State 2       True            True   -0.521899  0.603342\n",
       "State 3       True            True    0.930087  0.355434\n",
       "State 4       True            True    1.821182  0.072734\n",
       "State 5      False            True  501.000000  0.047863"
      ]
     },
     "execution_count": 32,
     "metadata": {},
     "output_type": "execute_result"
    }
   ],
   "source": [
    "compare_mean(M,A, K_state)"
   ]
  },
  {
   "cell_type": "code",
   "execution_count": 33,
   "id": "6cc4a344-9474-42b7-a384-59c2c843b22d",
   "metadata": {
    "colab": {
     "base_uri": "https://localhost:8080/",
     "height": 206
    },
    "executionInfo": {
     "elapsed": 425,
     "status": "ok",
     "timestamp": 1649415281075,
     "user": {
      "displayName": "Jianzhang Ni",
      "userId": "18109982546966884557"
     },
     "user_tz": -60
    },
    "id": "EHhLhcLWOnu6",
    "outputId": "e28e9967-7ea4-4a49-f5b8-69bef9c8f68d"
   },
   "outputs": [
    {
     "data": {
      "text/html": [
       "<div>\n",
       "<style scoped>\n",
       "    .dataframe tbody tr th:only-of-type {\n",
       "        vertical-align: middle;\n",
       "    }\n",
       "\n",
       "    .dataframe tbody tr th {\n",
       "        vertical-align: top;\n",
       "    }\n",
       "\n",
       "    .dataframe thead th {\n",
       "        text-align: right;\n",
       "    }\n",
       "</style>\n",
       "<table border=\"1\" class=\"dataframe\">\n",
       "  <thead>\n",
       "    <tr style=\"text-align: right;\">\n",
       "      <th></th>\n",
       "      <th>normality</th>\n",
       "      <th>equal variance</th>\n",
       "      <th>stat</th>\n",
       "      <th>p value</th>\n",
       "    </tr>\n",
       "  </thead>\n",
       "  <tbody>\n",
       "    <tr>\n",
       "      <th>State 1</th>\n",
       "      <td>True</td>\n",
       "      <td>True</td>\n",
       "      <td>-0.637453</td>\n",
       "      <td>0.525852</td>\n",
       "    </tr>\n",
       "    <tr>\n",
       "      <th>State 2</th>\n",
       "      <td>True</td>\n",
       "      <td>True</td>\n",
       "      <td>1.410463</td>\n",
       "      <td>0.162709</td>\n",
       "    </tr>\n",
       "    <tr>\n",
       "      <th>State 3</th>\n",
       "      <td>True</td>\n",
       "      <td>True</td>\n",
       "      <td>-1.038104</td>\n",
       "      <td>0.302695</td>\n",
       "    </tr>\n",
       "    <tr>\n",
       "      <th>State 4</th>\n",
       "      <td>False</td>\n",
       "      <td>True</td>\n",
       "      <td>496.500000</td>\n",
       "      <td>0.042615</td>\n",
       "    </tr>\n",
       "    <tr>\n",
       "      <th>State 5</th>\n",
       "      <td>False</td>\n",
       "      <td>True</td>\n",
       "      <td>844.000000</td>\n",
       "      <td>0.085541</td>\n",
       "    </tr>\n",
       "  </tbody>\n",
       "</table>\n",
       "</div>"
      ],
      "text/plain": [
       "         normality  equal variance        stat   p value\n",
       "State 1       True            True   -0.637453  0.525852\n",
       "State 2       True            True    1.410463  0.162709\n",
       "State 3       True            True   -1.038104  0.302695\n",
       "State 4      False            True  496.500000  0.042615\n",
       "State 5      False            True  844.000000  0.085541"
      ]
     },
     "execution_count": 33,
     "metadata": {},
     "output_type": "execute_result"
    }
   ],
   "source": [
    "compare_mean(A, E, K_state)"
   ]
  },
  {
   "cell_type": "code",
   "execution_count": 34,
   "id": "37096a42-93cb-4b73-928c-e799d89ea0e3",
   "metadata": {
    "colab": {
     "base_uri": "https://localhost:8080/",
     "height": 206
    },
    "executionInfo": {
     "elapsed": 10,
     "status": "ok",
     "timestamp": 1649415281076,
     "user": {
      "displayName": "Jianzhang Ni",
      "userId": "18109982546966884557"
     },
     "user_tz": -60
    },
    "id": "Nr1pmxGBOojB",
    "outputId": "6347e0ca-2e4a-463b-bbdf-1abe73d1d652"
   },
   "outputs": [
    {
     "data": {
      "text/html": [
       "<div>\n",
       "<style scoped>\n",
       "    .dataframe tbody tr th:only-of-type {\n",
       "        vertical-align: middle;\n",
       "    }\n",
       "\n",
       "    .dataframe tbody tr th {\n",
       "        vertical-align: top;\n",
       "    }\n",
       "\n",
       "    .dataframe thead th {\n",
       "        text-align: right;\n",
       "    }\n",
       "</style>\n",
       "<table border=\"1\" class=\"dataframe\">\n",
       "  <thead>\n",
       "    <tr style=\"text-align: right;\">\n",
       "      <th></th>\n",
       "      <th>normality</th>\n",
       "      <th>equal variance</th>\n",
       "      <th>stat</th>\n",
       "      <th>p value</th>\n",
       "    </tr>\n",
       "  </thead>\n",
       "  <tbody>\n",
       "    <tr>\n",
       "      <th>State 1</th>\n",
       "      <td>True</td>\n",
       "      <td>True</td>\n",
       "      <td>0.612077</td>\n",
       "      <td>0.542415</td>\n",
       "    </tr>\n",
       "    <tr>\n",
       "      <th>State 2</th>\n",
       "      <td>True</td>\n",
       "      <td>True</td>\n",
       "      <td>0.663279</td>\n",
       "      <td>0.509270</td>\n",
       "    </tr>\n",
       "    <tr>\n",
       "      <th>State 3</th>\n",
       "      <td>True</td>\n",
       "      <td>True</td>\n",
       "      <td>-0.166619</td>\n",
       "      <td>0.868137</td>\n",
       "    </tr>\n",
       "    <tr>\n",
       "      <th>State 4</th>\n",
       "      <td>False</td>\n",
       "      <td>True</td>\n",
       "      <td>683.500000</td>\n",
       "      <td>0.995686</td>\n",
       "    </tr>\n",
       "    <tr>\n",
       "      <th>State 5</th>\n",
       "      <td>False</td>\n",
       "      <td>True</td>\n",
       "      <td>694.000000</td>\n",
       "      <td>0.922482</td>\n",
       "    </tr>\n",
       "  </tbody>\n",
       "</table>\n",
       "</div>"
      ],
      "text/plain": [
       "         normality  equal variance        stat   p value\n",
       "State 1       True            True    0.612077  0.542415\n",
       "State 2       True            True    0.663279  0.509270\n",
       "State 3       True            True   -0.166619  0.868137\n",
       "State 4      False            True  683.500000  0.995686\n",
       "State 5      False            True  694.000000  0.922482"
      ]
     },
     "execution_count": 34,
     "metadata": {},
     "output_type": "execute_result"
    }
   ],
   "source": [
    "compare_mean(M,E, K_state)"
   ]
  },
  {
   "cell_type": "code",
   "execution_count": 35,
   "id": "cf9b28e1-1920-482f-bf65-6bfe4f4eed16",
   "metadata": {},
   "outputs": [
    {
     "data": {
      "text/html": [
       "<div>\n",
       "<style scoped>\n",
       "    .dataframe tbody tr th:only-of-type {\n",
       "        vertical-align: middle;\n",
       "    }\n",
       "\n",
       "    .dataframe tbody tr th {\n",
       "        vertical-align: top;\n",
       "    }\n",
       "\n",
       "    .dataframe thead th {\n",
       "        text-align: right;\n",
       "    }\n",
       "</style>\n",
       "<table border=\"1\" class=\"dataframe\">\n",
       "  <thead>\n",
       "    <tr style=\"text-align: right;\">\n",
       "      <th></th>\n",
       "      <th>state1_visits</th>\n",
       "      <th>state2_visits</th>\n",
       "      <th>state3_visits</th>\n",
       "      <th>state4_visits</th>\n",
       "      <th>state5_visits</th>\n",
       "    </tr>\n",
       "  </thead>\n",
       "  <tbody>\n",
       "    <tr>\n",
       "      <th>0</th>\n",
       "      <td>14</td>\n",
       "      <td>12</td>\n",
       "      <td>11</td>\n",
       "      <td>14</td>\n",
       "      <td>22</td>\n",
       "    </tr>\n",
       "    <tr>\n",
       "      <th>1</th>\n",
       "      <td>18</td>\n",
       "      <td>14</td>\n",
       "      <td>19</td>\n",
       "      <td>10</td>\n",
       "      <td>12</td>\n",
       "    </tr>\n",
       "    <tr>\n",
       "      <th>2</th>\n",
       "      <td>23</td>\n",
       "      <td>17</td>\n",
       "      <td>18</td>\n",
       "      <td>17</td>\n",
       "      <td>9</td>\n",
       "    </tr>\n",
       "    <tr>\n",
       "      <th>3</th>\n",
       "      <td>13</td>\n",
       "      <td>16</td>\n",
       "      <td>14</td>\n",
       "      <td>10</td>\n",
       "      <td>16</td>\n",
       "    </tr>\n",
       "    <tr>\n",
       "      <th>4</th>\n",
       "      <td>21</td>\n",
       "      <td>12</td>\n",
       "      <td>14</td>\n",
       "      <td>16</td>\n",
       "      <td>12</td>\n",
       "    </tr>\n",
       "    <tr>\n",
       "      <th>...</th>\n",
       "      <td>...</td>\n",
       "      <td>...</td>\n",
       "      <td>...</td>\n",
       "      <td>...</td>\n",
       "      <td>...</td>\n",
       "    </tr>\n",
       "    <tr>\n",
       "      <th>106</th>\n",
       "      <td>18</td>\n",
       "      <td>12</td>\n",
       "      <td>13</td>\n",
       "      <td>18</td>\n",
       "      <td>7</td>\n",
       "    </tr>\n",
       "    <tr>\n",
       "      <th>107</th>\n",
       "      <td>15</td>\n",
       "      <td>10</td>\n",
       "      <td>19</td>\n",
       "      <td>19</td>\n",
       "      <td>12</td>\n",
       "    </tr>\n",
       "    <tr>\n",
       "      <th>108</th>\n",
       "      <td>17</td>\n",
       "      <td>12</td>\n",
       "      <td>20</td>\n",
       "      <td>11</td>\n",
       "      <td>21</td>\n",
       "    </tr>\n",
       "    <tr>\n",
       "      <th>109</th>\n",
       "      <td>16</td>\n",
       "      <td>11</td>\n",
       "      <td>18</td>\n",
       "      <td>14</td>\n",
       "      <td>10</td>\n",
       "    </tr>\n",
       "    <tr>\n",
       "      <th>110</th>\n",
       "      <td>14</td>\n",
       "      <td>13</td>\n",
       "      <td>7</td>\n",
       "      <td>11</td>\n",
       "      <td>20</td>\n",
       "    </tr>\n",
       "  </tbody>\n",
       "</table>\n",
       "<p>111 rows × 5 columns</p>\n",
       "</div>"
      ],
      "text/plain": [
       "    state1_visits state2_visits state3_visits state4_visits state5_visits\n",
       "0              14            12            11            14            22\n",
       "1              18            14            19            10            12\n",
       "2              23            17            18            17             9\n",
       "3              13            16            14            10            16\n",
       "4              21            12            14            16            12\n",
       "..            ...           ...           ...           ...           ...\n",
       "106            18            12            13            18             7\n",
       "107            15            10            19            19            12\n",
       "108            17            12            20            11            21\n",
       "109            16            11            18            14            10\n",
       "110            14            13             7            11            20\n",
       "\n",
       "[111 rows x 5 columns]"
      ]
     },
     "execution_count": 35,
     "metadata": {},
     "output_type": "execute_result"
    }
   ],
   "source": [
    "get_number_of_visit(lifetime)"
   ]
  },
  {
   "cell_type": "code",
   "execution_count": null,
   "id": "1d10156b-40e0-4f96-8a78-e4fde1051f45",
   "metadata": {},
   "outputs": [],
   "source": []
  }
 ],
 "metadata": {
  "kernelspec": {
   "display_name": "AutoML",
   "language": "python",
   "name": "atuoml"
  },
  "language_info": {
   "codemirror_mode": {
    "name": "ipython",
    "version": 3
   },
   "file_extension": ".py",
   "mimetype": "text/x-python",
   "name": "python",
   "nbconvert_exporter": "python",
   "pygments_lexer": "ipython3",
   "version": "3.8.12"
  },
  "widgets": {
   "application/vnd.jupyter.widget-state+json": {
    "state": {},
    "version_major": 2,
    "version_minor": 0
   }
  }
 },
 "nbformat": 4,
 "nbformat_minor": 5
}
