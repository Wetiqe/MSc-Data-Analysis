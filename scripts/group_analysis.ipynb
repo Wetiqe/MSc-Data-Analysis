{
 "cells": [
  {
   "cell_type": "markdown",
   "id": "ab58d39e-8576-4728-a8e5-f71522912b4e",
   "metadata": {},
   "source": [
    "# Group Analysis"
   ]
  },
  {
   "cell_type": "markdown",
   "id": "5df04532-20dc-4ea2-a4c7-f1dcd9939c4d",
   "metadata": {},
   "source": [
    "# Setup"
   ]
  },
  {
   "cell_type": "code",
   "execution_count": 1,
   "id": "e53b2bcd-115e-45bd-8b05-83abe823eba3",
   "metadata": {
    "id": "-iBg_1g_3ri4"
   },
   "outputs": [],
   "source": [
    "# import library\n",
    "from scipy.io import loadmat\n",
    "import numpy as np\n",
    "import seaborn as sns\n",
    "import pandas as pd\n",
    "from matplotlib import pyplot as plt\n",
    "\n",
    "from warpped.collection import parse_chronnectome, get_mean_chronnectome, get_number_of_visit\n",
    "# import gloabl variables\n",
    "from warpped.global_variables import * \n",
    "from warpped.figures import fig_set"
   ]
  },
  {
   "cell_type": "markdown",
   "id": "c28db12d-6c91-4f95-8181-e14349dce259",
   "metadata": {},
   "source": [
    "# Load HMM Result"
   ]
  },
  {
   "cell_type": "code",
   "execution_count": 2,
   "id": "246af0c3-ecde-4856-9b4c-4081715fd28c",
   "metadata": {
    "colab": {
     "base_uri": "https://localhost:8080/",
     "height": 35
    },
    "executionInfo": {
     "elapsed": 16,
     "status": "ok",
     "timestamp": 1649957754726,
     "user": {
      "displayName": "Jianzhang Ni",
      "userId": "18109982546966884557"
     },
     "user_tz": -60
    },
    "id": "MTDOepwc4lAS",
    "outputId": "ee6ea533-4a9e-45a3-abe5-aaaa5926fb92"
   },
   "outputs": [
    {
     "data": {
      "text/plain": [
       "'/home/jzni/dissertation/analysis/output/hmminfo/hmminfo_k10_rep_2.mat'"
      ]
     },
     "execution_count": 2,
     "metadata": {},
     "output_type": "execute_result"
    }
   ],
   "source": [
    "# The selected model should be contained in global_variables, if wanna try different parameter then uncomment bleow \n",
    "# K_state=12; rep_num = 2\n",
    "\n",
    "hmm_file = base+f'chronotype_k{K_state}_rep_{rep_num}.mat'\n",
    "hmminfo_file = base+f'hmminfo/hmminfo_k{K_state}_rep_{rep_num}.mat'\n",
    "hmminfo_file"
   ]
  },
  {
   "cell_type": "code",
   "execution_count": 3,
   "id": "e7d16972-3e0e-4c87-9106-628786b1edc9",
   "metadata": {
    "id": "71454215-4004-47fd-98ac-8ca609e54cfe"
   },
   "outputs": [],
   "source": [
    "hmm = loadmat(hmm_file)\n",
    "hmm_info = loadmat(hmminfo_file)"
   ]
  },
  {
   "cell_type": "code",
   "execution_count": 4,
   "id": "a050e840-e0c3-4b1e-bc9f-f9f277bb4d2d",
   "metadata": {},
   "outputs": [],
   "source": [
    "# Parse HMM info\n",
    "state_order = np.squeeze(hmm_info['ord']) # the order of state for fo_corr and ordered_p\n",
    "fo_corr = pd.DataFrame(hmm_info['fo_matrix'], columns=state_order, index=state_order)\n",
    "ordered_p = pd.DataFrame(hmm_info['ordered_p'], columns=state_order, index=state_order)\n",
    "\n",
    "## hmms = hmm_info['hmms']  # contains the subject specific hmm\n",
    "# Parse chronnectome info\n",
    "## info based on veterbi path \n",
    "raw_fo, lifetime, intervals = parse_chronnectome(hmm_info[hmminfo_source], model_selection=False)\n"
   ]
  },
  {
   "cell_type": "markdown",
   "id": "a560515b-3f9c-4c1d-8912-3c945fc061d1",
   "metadata": {
    "id": "EBrhm_47SXQ7",
    "tags": []
   },
   "source": [
    "## Load Behaviour Data"
   ]
  },
  {
   "cell_type": "code",
   "execution_count": 5,
   "id": "7a254e6a-d046-4d88-8d99-34acf0a3fb71",
   "metadata": {
    "id": "wjq0XkD5JWjR"
   },
   "outputs": [],
   "source": [
    "performance = pd.read_csv(f'{behav_dir}performance_proc.csv')\n",
    "physio = pd.read_csv(f'{behav_dir}physio_proc.csv')\n",
    "acti = pd.read_csv(f'{behav_dir}actigraph_proc.csv')\n",
    "scales = pd.read_csv(f'{behav_dir}questionnaire_proc.csv')\n"
   ]
  },
  {
   "cell_type": "code",
   "execution_count": 6,
   "id": "433bca61-21ea-4ff0-b09d-617bad654cfe",
   "metadata": {
    "colab": {
     "base_uri": "https://localhost:8080/",
     "height": 205
    },
    "executionInfo": {
     "elapsed": 6,
     "status": "ok",
     "timestamp": 1649957758250,
     "user": {
      "displayName": "Jianzhang Ni",
      "userId": "18109982546966884557"
     },
     "user_tz": -60
    },
    "id": "LfsolE8_SY7L",
    "outputId": "90db6ea1-f629-4b76-cea9-9ea72ce8d69a"
   },
   "outputs": [
    {
     "data": {
      "text/html": [
       "<div>\n",
       "<style scoped>\n",
       "    .dataframe tbody tr th:only-of-type {\n",
       "        vertical-align: middle;\n",
       "    }\n",
       "\n",
       "    .dataframe tbody tr th {\n",
       "        vertical-align: top;\n",
       "    }\n",
       "\n",
       "    .dataframe thead th {\n",
       "        text-align: right;\n",
       "    }\n",
       "</style>\n",
       "<table border=\"1\" class=\"dataframe\">\n",
       "  <thead>\n",
       "    <tr style=\"text-align: right;\">\n",
       "      <th></th>\n",
       "      <th>state1_visits</th>\n",
       "      <th>state2_visits</th>\n",
       "      <th>state3_visits</th>\n",
       "      <th>state4_visits</th>\n",
       "      <th>state5_visits</th>\n",
       "      <th>state6_visits</th>\n",
       "      <th>state7_visits</th>\n",
       "      <th>state8_visits</th>\n",
       "      <th>state9_visits</th>\n",
       "      <th>state10_visits</th>\n",
       "    </tr>\n",
       "  </thead>\n",
       "  <tbody>\n",
       "    <tr>\n",
       "      <th>0</th>\n",
       "      <td>11</td>\n",
       "      <td>11</td>\n",
       "      <td>7</td>\n",
       "      <td>7</td>\n",
       "      <td>9</td>\n",
       "      <td>13</td>\n",
       "      <td>8</td>\n",
       "      <td>14</td>\n",
       "      <td>7</td>\n",
       "      <td>6</td>\n",
       "    </tr>\n",
       "    <tr>\n",
       "      <th>1</th>\n",
       "      <td>9</td>\n",
       "      <td>11</td>\n",
       "      <td>9</td>\n",
       "      <td>11</td>\n",
       "      <td>11</td>\n",
       "      <td>11</td>\n",
       "      <td>6</td>\n",
       "      <td>13</td>\n",
       "      <td>10</td>\n",
       "      <td>6</td>\n",
       "    </tr>\n",
       "    <tr>\n",
       "      <th>2</th>\n",
       "      <td>9</td>\n",
       "      <td>11</td>\n",
       "      <td>4</td>\n",
       "      <td>11</td>\n",
       "      <td>11</td>\n",
       "      <td>2</td>\n",
       "      <td>7</td>\n",
       "      <td>28</td>\n",
       "      <td>11</td>\n",
       "      <td>10</td>\n",
       "    </tr>\n",
       "    <tr>\n",
       "      <th>3</th>\n",
       "      <td>8</td>\n",
       "      <td>15</td>\n",
       "      <td>5</td>\n",
       "      <td>9</td>\n",
       "      <td>0</td>\n",
       "      <td>11</td>\n",
       "      <td>8</td>\n",
       "      <td>12</td>\n",
       "      <td>9</td>\n",
       "      <td>14</td>\n",
       "    </tr>\n",
       "    <tr>\n",
       "      <th>4</th>\n",
       "      <td>11</td>\n",
       "      <td>4</td>\n",
       "      <td>5</td>\n",
       "      <td>13</td>\n",
       "      <td>12</td>\n",
       "      <td>10</td>\n",
       "      <td>6</td>\n",
       "      <td>14</td>\n",
       "      <td>18</td>\n",
       "      <td>12</td>\n",
       "    </tr>\n",
       "  </tbody>\n",
       "</table>\n",
       "</div>"
      ],
      "text/plain": [
       "  state1_visits state2_visits state3_visits state4_visits state5_visits  \\\n",
       "0            11            11             7             7             9   \n",
       "1             9            11             9            11            11   \n",
       "2             9            11             4            11            11   \n",
       "3             8            15             5             9             0   \n",
       "4            11             4             5            13            12   \n",
       "\n",
       "  state6_visits state7_visits state8_visits state9_visits state10_visits  \n",
       "0            13             8            14             7              6  \n",
       "1            11             6            13            10              6  \n",
       "2             2             7            28            11             10  \n",
       "3            11             8            12             9             14  \n",
       "4            10             6            14            18             12  "
      ]
     },
     "execution_count": 6,
     "metadata": {},
     "output_type": "execute_result"
    }
   ],
   "source": [
    "fo_df =  pd.DataFrame(raw_fo, columns=[f'state{i}_fo' for i in range(1, K_state+1)])\n",
    "lifetime_df = pd.DataFrame(get_mean_chronnectome(lifetime ), columns=[f'state{i}_life' for i in range(1, K_state+1)])\n",
    "interval_df = pd.DataFrame(get_mean_chronnectome(intervals), columns=[f'state{i}_intervals' for i in range(1, K_state+1)])\n",
    "visits_df = get_number_of_visit(lifetime)\n",
    "visits_df.head()"
   ]
  },
  {
   "cell_type": "code",
   "execution_count": 7,
   "id": "54820f5d-f1a4-4ca1-8cd9-ef8163999ff0",
   "metadata": {},
   "outputs": [
    {
     "data": {
      "text/html": [
       "<div>\n",
       "<style scoped>\n",
       "    .dataframe tbody tr th:only-of-type {\n",
       "        vertical-align: middle;\n",
       "    }\n",
       "\n",
       "    .dataframe tbody tr th {\n",
       "        vertical-align: top;\n",
       "    }\n",
       "\n",
       "    .dataframe thead th {\n",
       "        text-align: right;\n",
       "    }\n",
       "</style>\n",
       "<table border=\"1\" class=\"dataframe\">\n",
       "  <thead>\n",
       "    <tr style=\"text-align: right;\">\n",
       "      <th></th>\n",
       "      <th>state1_fo</th>\n",
       "      <th>state2_fo</th>\n",
       "      <th>state3_fo</th>\n",
       "      <th>state4_fo</th>\n",
       "      <th>state5_fo</th>\n",
       "      <th>state6_fo</th>\n",
       "      <th>state7_fo</th>\n",
       "      <th>state8_fo</th>\n",
       "      <th>state9_fo</th>\n",
       "      <th>state10_fo</th>\n",
       "      <th>...</th>\n",
       "      <th>state1_visits</th>\n",
       "      <th>state2_visits</th>\n",
       "      <th>state3_visits</th>\n",
       "      <th>state4_visits</th>\n",
       "      <th>state5_visits</th>\n",
       "      <th>state6_visits</th>\n",
       "      <th>state7_visits</th>\n",
       "      <th>state8_visits</th>\n",
       "      <th>state9_visits</th>\n",
       "      <th>state10_visits</th>\n",
       "    </tr>\n",
       "  </thead>\n",
       "  <tbody>\n",
       "    <tr>\n",
       "      <th>0</th>\n",
       "      <td>0.16</td>\n",
       "      <td>0.09</td>\n",
       "      <td>0.10</td>\n",
       "      <td>0.07</td>\n",
       "      <td>0.14</td>\n",
       "      <td>0.12</td>\n",
       "      <td>0.08</td>\n",
       "      <td>0.14</td>\n",
       "      <td>0.07</td>\n",
       "      <td>0.04</td>\n",
       "      <td>...</td>\n",
       "      <td>11.0</td>\n",
       "      <td>11.0</td>\n",
       "      <td>7.0</td>\n",
       "      <td>7.0</td>\n",
       "      <td>9.0</td>\n",
       "      <td>13.0</td>\n",
       "      <td>8.0</td>\n",
       "      <td>14.0</td>\n",
       "      <td>7.0</td>\n",
       "      <td>6.0</td>\n",
       "    </tr>\n",
       "    <tr>\n",
       "      <th>1</th>\n",
       "      <td>0.09</td>\n",
       "      <td>0.09</td>\n",
       "      <td>0.08</td>\n",
       "      <td>0.11</td>\n",
       "      <td>0.13</td>\n",
       "      <td>0.11</td>\n",
       "      <td>0.08</td>\n",
       "      <td>0.09</td>\n",
       "      <td>0.12</td>\n",
       "      <td>0.10</td>\n",
       "      <td>...</td>\n",
       "      <td>9.0</td>\n",
       "      <td>11.0</td>\n",
       "      <td>9.0</td>\n",
       "      <td>11.0</td>\n",
       "      <td>11.0</td>\n",
       "      <td>11.0</td>\n",
       "      <td>6.0</td>\n",
       "      <td>13.0</td>\n",
       "      <td>10.0</td>\n",
       "      <td>6.0</td>\n",
       "    </tr>\n",
       "    <tr>\n",
       "      <th>2</th>\n",
       "      <td>0.09</td>\n",
       "      <td>0.11</td>\n",
       "      <td>0.04</td>\n",
       "      <td>0.10</td>\n",
       "      <td>0.10</td>\n",
       "      <td>0.02</td>\n",
       "      <td>0.06</td>\n",
       "      <td>0.22</td>\n",
       "      <td>0.14</td>\n",
       "      <td>0.12</td>\n",
       "      <td>...</td>\n",
       "      <td>9.0</td>\n",
       "      <td>11.0</td>\n",
       "      <td>4.0</td>\n",
       "      <td>11.0</td>\n",
       "      <td>11.0</td>\n",
       "      <td>2.0</td>\n",
       "      <td>7.0</td>\n",
       "      <td>28.0</td>\n",
       "      <td>11.0</td>\n",
       "      <td>10.0</td>\n",
       "    </tr>\n",
       "    <tr>\n",
       "      <th>3</th>\n",
       "      <td>0.10</td>\n",
       "      <td>0.16</td>\n",
       "      <td>0.04</td>\n",
       "      <td>0.10</td>\n",
       "      <td>0.00</td>\n",
       "      <td>0.11</td>\n",
       "      <td>0.10</td>\n",
       "      <td>0.16</td>\n",
       "      <td>0.10</td>\n",
       "      <td>0.13</td>\n",
       "      <td>...</td>\n",
       "      <td>8.0</td>\n",
       "      <td>15.0</td>\n",
       "      <td>5.0</td>\n",
       "      <td>9.0</td>\n",
       "      <td>0.0</td>\n",
       "      <td>11.0</td>\n",
       "      <td>8.0</td>\n",
       "      <td>12.0</td>\n",
       "      <td>9.0</td>\n",
       "      <td>14.0</td>\n",
       "    </tr>\n",
       "    <tr>\n",
       "      <th>4</th>\n",
       "      <td>0.10</td>\n",
       "      <td>0.04</td>\n",
       "      <td>0.04</td>\n",
       "      <td>0.12</td>\n",
       "      <td>0.11</td>\n",
       "      <td>0.10</td>\n",
       "      <td>0.07</td>\n",
       "      <td>0.11</td>\n",
       "      <td>0.17</td>\n",
       "      <td>0.14</td>\n",
       "      <td>...</td>\n",
       "      <td>11.0</td>\n",
       "      <td>4.0</td>\n",
       "      <td>5.0</td>\n",
       "      <td>13.0</td>\n",
       "      <td>12.0</td>\n",
       "      <td>10.0</td>\n",
       "      <td>6.0</td>\n",
       "      <td>14.0</td>\n",
       "      <td>18.0</td>\n",
       "      <td>12.0</td>\n",
       "    </tr>\n",
       "    <tr>\n",
       "      <th>...</th>\n",
       "      <td>...</td>\n",
       "      <td>...</td>\n",
       "      <td>...</td>\n",
       "      <td>...</td>\n",
       "      <td>...</td>\n",
       "      <td>...</td>\n",
       "      <td>...</td>\n",
       "      <td>...</td>\n",
       "      <td>...</td>\n",
       "      <td>...</td>\n",
       "      <td>...</td>\n",
       "      <td>...</td>\n",
       "      <td>...</td>\n",
       "      <td>...</td>\n",
       "      <td>...</td>\n",
       "      <td>...</td>\n",
       "      <td>...</td>\n",
       "      <td>...</td>\n",
       "      <td>...</td>\n",
       "      <td>...</td>\n",
       "      <td>...</td>\n",
       "    </tr>\n",
       "    <tr>\n",
       "      <th>106</th>\n",
       "      <td>0.08</td>\n",
       "      <td>0.13</td>\n",
       "      <td>0.02</td>\n",
       "      <td>0.12</td>\n",
       "      <td>0.12</td>\n",
       "      <td>0.06</td>\n",
       "      <td>0.05</td>\n",
       "      <td>0.15</td>\n",
       "      <td>0.14</td>\n",
       "      <td>0.14</td>\n",
       "      <td>...</td>\n",
       "      <td>9.0</td>\n",
       "      <td>10.0</td>\n",
       "      <td>2.0</td>\n",
       "      <td>11.0</td>\n",
       "      <td>8.0</td>\n",
       "      <td>6.0</td>\n",
       "      <td>6.0</td>\n",
       "      <td>14.0</td>\n",
       "      <td>15.0</td>\n",
       "      <td>14.0</td>\n",
       "    </tr>\n",
       "    <tr>\n",
       "      <th>107</th>\n",
       "      <td>0.14</td>\n",
       "      <td>0.06</td>\n",
       "      <td>0.01</td>\n",
       "      <td>0.15</td>\n",
       "      <td>0.11</td>\n",
       "      <td>0.01</td>\n",
       "      <td>0.04</td>\n",
       "      <td>0.17</td>\n",
       "      <td>0.13</td>\n",
       "      <td>0.18</td>\n",
       "      <td>...</td>\n",
       "      <td>11.0</td>\n",
       "      <td>6.0</td>\n",
       "      <td>2.0</td>\n",
       "      <td>14.0</td>\n",
       "      <td>8.0</td>\n",
       "      <td>1.0</td>\n",
       "      <td>4.0</td>\n",
       "      <td>17.0</td>\n",
       "      <td>12.0</td>\n",
       "      <td>14.0</td>\n",
       "    </tr>\n",
       "    <tr>\n",
       "      <th>108</th>\n",
       "      <td>0.10</td>\n",
       "      <td>0.07</td>\n",
       "      <td>0.07</td>\n",
       "      <td>0.14</td>\n",
       "      <td>0.16</td>\n",
       "      <td>0.14</td>\n",
       "      <td>0.08</td>\n",
       "      <td>0.10</td>\n",
       "      <td>0.07</td>\n",
       "      <td>0.06</td>\n",
       "      <td>...</td>\n",
       "      <td>8.0</td>\n",
       "      <td>7.0</td>\n",
       "      <td>5.0</td>\n",
       "      <td>15.0</td>\n",
       "      <td>14.0</td>\n",
       "      <td>12.0</td>\n",
       "      <td>8.0</td>\n",
       "      <td>13.0</td>\n",
       "      <td>6.0</td>\n",
       "      <td>5.0</td>\n",
       "    </tr>\n",
       "    <tr>\n",
       "      <th>109</th>\n",
       "      <td>0.12</td>\n",
       "      <td>0.01</td>\n",
       "      <td>0.02</td>\n",
       "      <td>0.10</td>\n",
       "      <td>0.22</td>\n",
       "      <td>0.08</td>\n",
       "      <td>0.08</td>\n",
       "      <td>0.11</td>\n",
       "      <td>0.13</td>\n",
       "      <td>0.12</td>\n",
       "      <td>...</td>\n",
       "      <td>10.0</td>\n",
       "      <td>1.0</td>\n",
       "      <td>3.0</td>\n",
       "      <td>10.0</td>\n",
       "      <td>14.0</td>\n",
       "      <td>7.0</td>\n",
       "      <td>8.0</td>\n",
       "      <td>13.0</td>\n",
       "      <td>10.0</td>\n",
       "      <td>11.0</td>\n",
       "    </tr>\n",
       "    <tr>\n",
       "      <th>110</th>\n",
       "      <td>0.11</td>\n",
       "      <td>0.05</td>\n",
       "      <td>0.14</td>\n",
       "      <td>0.02</td>\n",
       "      <td>0.04</td>\n",
       "      <td>0.14</td>\n",
       "      <td>0.12</td>\n",
       "      <td>0.16</td>\n",
       "      <td>0.07</td>\n",
       "      <td>0.14</td>\n",
       "      <td>...</td>\n",
       "      <td>7.0</td>\n",
       "      <td>6.0</td>\n",
       "      <td>13.0</td>\n",
       "      <td>3.0</td>\n",
       "      <td>5.0</td>\n",
       "      <td>15.0</td>\n",
       "      <td>11.0</td>\n",
       "      <td>12.0</td>\n",
       "      <td>7.0</td>\n",
       "      <td>12.0</td>\n",
       "    </tr>\n",
       "  </tbody>\n",
       "</table>\n",
       "<p>111 rows × 40 columns</p>\n",
       "</div>"
      ],
      "text/plain": [
       "     state1_fo  state2_fo  state3_fo  state4_fo  state5_fo  state6_fo  \\\n",
       "0         0.16       0.09       0.10       0.07       0.14       0.12   \n",
       "1         0.09       0.09       0.08       0.11       0.13       0.11   \n",
       "2         0.09       0.11       0.04       0.10       0.10       0.02   \n",
       "3         0.10       0.16       0.04       0.10       0.00       0.11   \n",
       "4         0.10       0.04       0.04       0.12       0.11       0.10   \n",
       "..         ...        ...        ...        ...        ...        ...   \n",
       "106       0.08       0.13       0.02       0.12       0.12       0.06   \n",
       "107       0.14       0.06       0.01       0.15       0.11       0.01   \n",
       "108       0.10       0.07       0.07       0.14       0.16       0.14   \n",
       "109       0.12       0.01       0.02       0.10       0.22       0.08   \n",
       "110       0.11       0.05       0.14       0.02       0.04       0.14   \n",
       "\n",
       "     state7_fo  state8_fo  state9_fo  state10_fo  ...  state1_visits  \\\n",
       "0         0.08       0.14       0.07        0.04  ...           11.0   \n",
       "1         0.08       0.09       0.12        0.10  ...            9.0   \n",
       "2         0.06       0.22       0.14        0.12  ...            9.0   \n",
       "3         0.10       0.16       0.10        0.13  ...            8.0   \n",
       "4         0.07       0.11       0.17        0.14  ...           11.0   \n",
       "..         ...        ...        ...         ...  ...            ...   \n",
       "106       0.05       0.15       0.14        0.14  ...            9.0   \n",
       "107       0.04       0.17       0.13        0.18  ...           11.0   \n",
       "108       0.08       0.10       0.07        0.06  ...            8.0   \n",
       "109       0.08       0.11       0.13        0.12  ...           10.0   \n",
       "110       0.12       0.16       0.07        0.14  ...            7.0   \n",
       "\n",
       "     state2_visits  state3_visits  state4_visits  state5_visits  \\\n",
       "0             11.0            7.0            7.0            9.0   \n",
       "1             11.0            9.0           11.0           11.0   \n",
       "2             11.0            4.0           11.0           11.0   \n",
       "3             15.0            5.0            9.0            0.0   \n",
       "4              4.0            5.0           13.0           12.0   \n",
       "..             ...            ...            ...            ...   \n",
       "106           10.0            2.0           11.0            8.0   \n",
       "107            6.0            2.0           14.0            8.0   \n",
       "108            7.0            5.0           15.0           14.0   \n",
       "109            1.0            3.0           10.0           14.0   \n",
       "110            6.0           13.0            3.0            5.0   \n",
       "\n",
       "     state6_visits  state7_visits  state8_visits  state9_visits  \\\n",
       "0             13.0            8.0           14.0            7.0   \n",
       "1             11.0            6.0           13.0           10.0   \n",
       "2              2.0            7.0           28.0           11.0   \n",
       "3             11.0            8.0           12.0            9.0   \n",
       "4             10.0            6.0           14.0           18.0   \n",
       "..             ...            ...            ...            ...   \n",
       "106            6.0            6.0           14.0           15.0   \n",
       "107            1.0            4.0           17.0           12.0   \n",
       "108           12.0            8.0           13.0            6.0   \n",
       "109            7.0            8.0           13.0           10.0   \n",
       "110           15.0           11.0           12.0            7.0   \n",
       "\n",
       "     state10_visits  \n",
       "0               6.0  \n",
       "1               6.0  \n",
       "2              10.0  \n",
       "3              14.0  \n",
       "4              12.0  \n",
       "..              ...  \n",
       "106            14.0  \n",
       "107            14.0  \n",
       "108             5.0  \n",
       "109            11.0  \n",
       "110            12.0  \n",
       "\n",
       "[111 rows x 40 columns]"
      ]
     },
     "execution_count": 7,
     "metadata": {},
     "output_type": "execute_result"
    }
   ],
   "source": [
    "chronnectome_df = pd.concat([fo_df,lifetime_df, interval_df, visits_df], axis=1).applymap(lambda x: round(float(x),2))\n",
    "chronnectome_df"
   ]
  },
  {
   "cell_type": "code",
   "execution_count": 8,
   "id": "787965db-74a0-47e8-871f-910c4442b373",
   "metadata": {
    "colab": {
     "base_uri": "https://localhost:8080/",
     "height": 290
    },
    "executionInfo": {
     "elapsed": 693,
     "status": "ok",
     "timestamp": 1649957758938,
     "user": {
      "displayName": "Jianzhang Ni",
      "userId": "18109982546966884557"
     },
     "user_tz": -60
    },
    "id": "205A6ozJSbVi",
    "outputId": "f69f89b2-df44-43a2-a1a7-ede193c41635"
   },
   "outputs": [
    {
     "data": {
      "text/plain": [
       "<AxesSubplot:>"
      ]
     },
     "execution_count": 8,
     "metadata": {},
     "output_type": "execute_result"
    },
    {
     "data": {
      "image/png": "[encoded data removed]",
      "text/plain": [
       "<Figure size 720x432 with 2 Axes>"
      ]
     },
     "metadata": {
      "needs_background": "light"
     },
     "output_type": "display_data"
    }
   ],
   "source": [
    "# FO matrix\n",
    "plt.figure(figsize=(10,6))\n",
    "sns.heatmap(chronnectome_df.corr(),cmap='RdBu_r')"
   ]
  },
  {
   "cell_type": "markdown",
   "id": "18eb7f0a-04c8-435b-8a5a-fe51f3cbcde2",
   "metadata": {
    "id": "-evh3cMgSJrg"
   },
   "source": [
    "## Label Encoding\n"
   ]
  },
  {
   "cell_type": "code",
   "execution_count": 9,
   "id": "b3d40c43-4dbd-431f-b702-c30cee11c07d",
   "metadata": {
    "colab": {
     "base_uri": "https://localhost:8080/"
    },
    "executionInfo": {
     "elapsed": 10,
     "status": "ok",
     "timestamp": 1649957758939,
     "user": {
      "displayName": "Jianzhang Ni",
      "userId": "18109982546966884557"
     },
     "user_tz": -60
    },
    "id": "Z0_ihyAtQuvg",
    "outputId": "69e82d62-4358-4d29-eb46-161be0094607"
   },
   "outputs": [
    {
     "data": {
      "text/plain": [
       "array([1., 1., 1., 1., 1., 1., 1., 1., 1., 1., 1., 1., 1., 1., 1., 0., 0.,\n",
       "       0., 0., 0., 0., 0., 0., 0., 0., 0., 0., 0., 0., 0., 0., 0., 0., 0.,\n",
       "       0., 0., 0., 1., 1., 1., 1., 1., 1., 1., 1., 1., 1., 1., 1., 1., 1.,\n",
       "       1., 0., 0., 0., 0., 0., 0., 0., 0., 0., 0., 0., 0., 0., 0., 0., 0.,\n",
       "       0., 0., 0., 0., 0., 0., 1., 1., 1., 1., 1., 1., 1., 1., 1., 1., 1.,\n",
       "       1., 1., 1., 1., 0., 0., 0., 0., 0., 0., 0., 0., 0., 0., 0., 0., 0.,\n",
       "       0., 0., 0., 0., 0., 0., 0., 0., 0.])"
      ]
     },
     "execution_count": 9,
     "metadata": {},
     "output_type": "execute_result"
    }
   ],
   "source": [
    "# Chronotype Encoding\n",
    "from sklearn.preprocessing import OneHotEncoder\n",
    "\n",
    "oe_style = OneHotEncoder()\n",
    "oe_results = oe_style.fit_transform(performance[['Type']])\n",
    "chrono_array = oe_results.toarray()[:,0]\n",
    "chrono_array"
   ]
  },
  {
   "cell_type": "code",
   "execution_count": 10,
   "id": "30b87503-4c49-4bce-a216-1a38cf93ace0",
   "metadata": {
    "colab": {
     "base_uri": "https://localhost:8080/"
    },
    "executionInfo": {
     "elapsed": 6,
     "status": "ok",
     "timestamp": 1649957758939,
     "user": {
      "displayName": "Jianzhang Ni",
      "userId": "18109982546966884557"
     },
     "user_tz": -60
    },
    "id": "t4ANGFJUsS02",
    "outputId": "472b4ed1-760e-4471-eb69-c9db9386ca12"
   },
   "outputs": [
    {
     "data": {
      "text/plain": [
       "array([0, 0, 0, 0, 0, 0, 0, 0, 0, 0, 0, 0, 0, 0, 0, 0, 0, 0, 0, 0, 0, 0,\n",
       "       0, 0, 0, 0, 0, 0, 0, 0, 0, 0, 0, 0, 0, 0, 0, 1, 1, 1, 1, 1, 1, 1,\n",
       "       1, 1, 1, 1, 1, 1, 1, 1, 1, 1, 1, 1, 1, 1, 1, 1, 1, 1, 1, 1, 1, 1,\n",
       "       1, 1, 1, 1, 1, 1, 1, 1, 2, 2, 2, 2, 2, 2, 2, 2, 2, 2, 2, 2, 2, 2,\n",
       "       2, 2, 2, 2, 2, 2, 2, 2, 2, 2, 2, 2, 2, 2, 2, 2, 2, 2, 2, 2, 2, 2,\n",
       "       2])"
      ]
     },
     "execution_count": 10,
     "metadata": {},
     "output_type": "execute_result"
    }
   ],
   "source": [
    "# Session Encoding \n",
    "# ... do this in a better way\n",
    "ses_list = []\n",
    "for ses in [0, 1, 2]:\n",
    "    ses_list += [ses for i in range(37)]\n",
    "ses_array = np.array(ses_list)\n",
    "ses_array"
   ]
  },
  {
   "cell_type": "markdown",
   "id": "a9f4bb4c-01fc-446e-b8ae-0fff52b49e44",
   "metadata": {},
   "source": [
    "# Group Analysis"
   ]
  },
  {
   "cell_type": "code",
   "execution_count": 11,
   "id": "d9cc59d5-e572-49fa-9771-fe4ddb2ef245",
   "metadata": {},
   "outputs": [],
   "source": [
    "fo = fo_df.copy()\n",
    "fo['chrono']=chrono_array; fo['time']=ses_array\n"
   ]
  },
  {
   "cell_type": "code",
   "execution_count": 12,
   "id": "2d29c552-7113-4e2f-b371-58546f4322b4",
   "metadata": {},
   "outputs": [
    {
     "data": {
      "text/html": [
       "<div>\n",
       "<style scoped>\n",
       "    .dataframe tbody tr th:only-of-type {\n",
       "        vertical-align: middle;\n",
       "    }\n",
       "\n",
       "    .dataframe tbody tr th {\n",
       "        vertical-align: top;\n",
       "    }\n",
       "\n",
       "    .dataframe thead th {\n",
       "        text-align: right;\n",
       "    }\n",
       "</style>\n",
       "<table border=\"1\" class=\"dataframe\">\n",
       "  <thead>\n",
       "    <tr style=\"text-align: right;\">\n",
       "      <th></th>\n",
       "      <th>state1_fo</th>\n",
       "      <th>state2_fo</th>\n",
       "      <th>state3_fo</th>\n",
       "      <th>state4_fo</th>\n",
       "      <th>state5_fo</th>\n",
       "      <th>state6_fo</th>\n",
       "      <th>state7_fo</th>\n",
       "      <th>state8_fo</th>\n",
       "      <th>state9_fo</th>\n",
       "      <th>state10_fo</th>\n",
       "      <th>chrono</th>\n",
       "      <th>time</th>\n",
       "    </tr>\n",
       "  </thead>\n",
       "  <tbody>\n",
       "    <tr>\n",
       "      <th>0</th>\n",
       "      <td>0.157778</td>\n",
       "      <td>0.088889</td>\n",
       "      <td>0.104444</td>\n",
       "      <td>0.066667</td>\n",
       "      <td>0.135556</td>\n",
       "      <td>0.120000</td>\n",
       "      <td>0.075556</td>\n",
       "      <td>0.144444</td>\n",
       "      <td>0.068889</td>\n",
       "      <td>0.037778</td>\n",
       "      <td>1.0</td>\n",
       "      <td>0</td>\n",
       "    </tr>\n",
       "    <tr>\n",
       "      <th>1</th>\n",
       "      <td>0.091111</td>\n",
       "      <td>0.086667</td>\n",
       "      <td>0.080000</td>\n",
       "      <td>0.113333</td>\n",
       "      <td>0.133333</td>\n",
       "      <td>0.113333</td>\n",
       "      <td>0.082222</td>\n",
       "      <td>0.086667</td>\n",
       "      <td>0.117778</td>\n",
       "      <td>0.095556</td>\n",
       "      <td>1.0</td>\n",
       "      <td>0</td>\n",
       "    </tr>\n",
       "    <tr>\n",
       "      <th>2</th>\n",
       "      <td>0.093333</td>\n",
       "      <td>0.111111</td>\n",
       "      <td>0.037778</td>\n",
       "      <td>0.095556</td>\n",
       "      <td>0.104444</td>\n",
       "      <td>0.017778</td>\n",
       "      <td>0.057778</td>\n",
       "      <td>0.224444</td>\n",
       "      <td>0.135556</td>\n",
       "      <td>0.122222</td>\n",
       "      <td>1.0</td>\n",
       "      <td>0</td>\n",
       "    </tr>\n",
       "    <tr>\n",
       "      <th>3</th>\n",
       "      <td>0.102222</td>\n",
       "      <td>0.160000</td>\n",
       "      <td>0.037778</td>\n",
       "      <td>0.097778</td>\n",
       "      <td>0.000000</td>\n",
       "      <td>0.113333</td>\n",
       "      <td>0.102222</td>\n",
       "      <td>0.157778</td>\n",
       "      <td>0.097778</td>\n",
       "      <td>0.131111</td>\n",
       "      <td>1.0</td>\n",
       "      <td>0</td>\n",
       "    </tr>\n",
       "    <tr>\n",
       "      <th>4</th>\n",
       "      <td>0.097778</td>\n",
       "      <td>0.042222</td>\n",
       "      <td>0.037778</td>\n",
       "      <td>0.117778</td>\n",
       "      <td>0.113333</td>\n",
       "      <td>0.102222</td>\n",
       "      <td>0.071111</td>\n",
       "      <td>0.108889</td>\n",
       "      <td>0.173333</td>\n",
       "      <td>0.135556</td>\n",
       "      <td>1.0</td>\n",
       "      <td>0</td>\n",
       "    </tr>\n",
       "    <tr>\n",
       "      <th>...</th>\n",
       "      <td>...</td>\n",
       "      <td>...</td>\n",
       "      <td>...</td>\n",
       "      <td>...</td>\n",
       "      <td>...</td>\n",
       "      <td>...</td>\n",
       "      <td>...</td>\n",
       "      <td>...</td>\n",
       "      <td>...</td>\n",
       "      <td>...</td>\n",
       "      <td>...</td>\n",
       "      <td>...</td>\n",
       "    </tr>\n",
       "    <tr>\n",
       "      <th>106</th>\n",
       "      <td>0.077778</td>\n",
       "      <td>0.131111</td>\n",
       "      <td>0.015556</td>\n",
       "      <td>0.120000</td>\n",
       "      <td>0.120000</td>\n",
       "      <td>0.060000</td>\n",
       "      <td>0.046667</td>\n",
       "      <td>0.148889</td>\n",
       "      <td>0.142222</td>\n",
       "      <td>0.137778</td>\n",
       "      <td>0.0</td>\n",
       "      <td>2</td>\n",
       "    </tr>\n",
       "    <tr>\n",
       "      <th>107</th>\n",
       "      <td>0.142222</td>\n",
       "      <td>0.060000</td>\n",
       "      <td>0.011111</td>\n",
       "      <td>0.148889</td>\n",
       "      <td>0.113333</td>\n",
       "      <td>0.008889</td>\n",
       "      <td>0.040000</td>\n",
       "      <td>0.168889</td>\n",
       "      <td>0.131111</td>\n",
       "      <td>0.175556</td>\n",
       "      <td>0.0</td>\n",
       "      <td>2</td>\n",
       "    </tr>\n",
       "    <tr>\n",
       "      <th>108</th>\n",
       "      <td>0.100000</td>\n",
       "      <td>0.066667</td>\n",
       "      <td>0.073333</td>\n",
       "      <td>0.135556</td>\n",
       "      <td>0.164444</td>\n",
       "      <td>0.144444</td>\n",
       "      <td>0.084444</td>\n",
       "      <td>0.102222</td>\n",
       "      <td>0.073333</td>\n",
       "      <td>0.055556</td>\n",
       "      <td>0.0</td>\n",
       "      <td>2</td>\n",
       "    </tr>\n",
       "    <tr>\n",
       "      <th>109</th>\n",
       "      <td>0.122222</td>\n",
       "      <td>0.008889</td>\n",
       "      <td>0.024444</td>\n",
       "      <td>0.097778</td>\n",
       "      <td>0.224444</td>\n",
       "      <td>0.077778</td>\n",
       "      <td>0.077778</td>\n",
       "      <td>0.113333</td>\n",
       "      <td>0.128889</td>\n",
       "      <td>0.124444</td>\n",
       "      <td>0.0</td>\n",
       "      <td>2</td>\n",
       "    </tr>\n",
       "    <tr>\n",
       "      <th>110</th>\n",
       "      <td>0.113333</td>\n",
       "      <td>0.048889</td>\n",
       "      <td>0.140000</td>\n",
       "      <td>0.024444</td>\n",
       "      <td>0.040000</td>\n",
       "      <td>0.144444</td>\n",
       "      <td>0.120000</td>\n",
       "      <td>0.160000</td>\n",
       "      <td>0.071111</td>\n",
       "      <td>0.137778</td>\n",
       "      <td>0.0</td>\n",
       "      <td>2</td>\n",
       "    </tr>\n",
       "  </tbody>\n",
       "</table>\n",
       "<p>111 rows × 12 columns</p>\n",
       "</div>"
      ],
      "text/plain": [
       "     state1_fo  state2_fo  state3_fo  state4_fo  state5_fo  state6_fo  \\\n",
       "0     0.157778   0.088889   0.104444   0.066667   0.135556   0.120000   \n",
       "1     0.091111   0.086667   0.080000   0.113333   0.133333   0.113333   \n",
       "2     0.093333   0.111111   0.037778   0.095556   0.104444   0.017778   \n",
       "3     0.102222   0.160000   0.037778   0.097778   0.000000   0.113333   \n",
       "4     0.097778   0.042222   0.037778   0.117778   0.113333   0.102222   \n",
       "..         ...        ...        ...        ...        ...        ...   \n",
       "106   0.077778   0.131111   0.015556   0.120000   0.120000   0.060000   \n",
       "107   0.142222   0.060000   0.011111   0.148889   0.113333   0.008889   \n",
       "108   0.100000   0.066667   0.073333   0.135556   0.164444   0.144444   \n",
       "109   0.122222   0.008889   0.024444   0.097778   0.224444   0.077778   \n",
       "110   0.113333   0.048889   0.140000   0.024444   0.040000   0.144444   \n",
       "\n",
       "     state7_fo  state8_fo  state9_fo  state10_fo  chrono  time  \n",
       "0     0.075556   0.144444   0.068889    0.037778     1.0     0  \n",
       "1     0.082222   0.086667   0.117778    0.095556     1.0     0  \n",
       "2     0.057778   0.224444   0.135556    0.122222     1.0     0  \n",
       "3     0.102222   0.157778   0.097778    0.131111     1.0     0  \n",
       "4     0.071111   0.108889   0.173333    0.135556     1.0     0  \n",
       "..         ...        ...        ...         ...     ...   ...  \n",
       "106   0.046667   0.148889   0.142222    0.137778     0.0     2  \n",
       "107   0.040000   0.168889   0.131111    0.175556     0.0     2  \n",
       "108   0.084444   0.102222   0.073333    0.055556     0.0     2  \n",
       "109   0.077778   0.113333   0.128889    0.124444     0.0     2  \n",
       "110   0.120000   0.160000   0.071111    0.137778     0.0     2  \n",
       "\n",
       "[111 rows x 12 columns]"
      ]
     },
     "execution_count": 12,
     "metadata": {},
     "output_type": "execute_result"
    }
   ],
   "source": [
    "fo"
   ]
  },
  {
   "cell_type": "markdown",
   "id": "3652dffe-8d2b-46bf-a806-a967e1db7ec2",
   "metadata": {
    "id": "awhPI3S9rCj1",
    "tags": []
   },
   "source": [
    "# Group analysis  \n"
   ]
  },
  {
   "cell_type": "code",
   "execution_count": 13,
   "id": "78d91fcc-bd37-4ac3-b444-cf0ce1935143",
   "metadata": {
    "id": "tH_NNJW7DsFC"
   },
   "outputs": [],
   "source": [
    "import scipy\n",
    "from scipy import stats \n",
    "\n",
    "random_state = 42"
   ]
  },
  {
   "cell_type": "code",
   "execution_count": 14,
   "id": "9abaa00c-3d15-4e58-81df-593488f25175",
   "metadata": {
    "id": "-sFt5yNzFr6T"
   },
   "outputs": [],
   "source": [
    "#@title Warp the mean comparison function\n",
    "def norm_test(group_list, alpha=0.05):\n",
    "    total_norm=True\n",
    "    for group in group_list:\n",
    "        total_norm = total_norm & (stats.shapiro(group)[1]>=0.05)\n",
    "        if total_norm == False:\n",
    "            return total_norm\n",
    "    return total_norm\n",
    "\n",
    "def compare_mean(df1,df2, K_state):\n",
    "    mean = []\n",
    "    for state_index in range(K_state):\n",
    "        g1=df1.iloc[:, state_index]; g2 = df2.iloc[:, state_index]\n",
    "        norm = norm_test([g1,g2])\n",
    "        equal_var = True if stats.levene(g1,g2)[1]>0.05 else False\n",
    "        if norm:\n",
    "            mean_comp = stats.ttest_ind(g1, g2, equal_var=equal_var)\n",
    "        else: \n",
    "            mean_comp = stats.mannwhitneyu(g1, g2)\n",
    "        mean.append([norm, equal_var, mean_comp[0], mean_comp[1]])\n",
    "    return pd.DataFrame(mean,index=[f\"State {i+1}\" for i in range(K_state)],\n",
    "             columns=['normality', 'equal variance', 'stat', 'p value'])\n"
   ]
  },
  {
   "cell_type": "markdown",
   "id": "137f800d-2b05-4a86-a5e3-8ef0b5ac7d96",
   "metadata": {
    "id": "fh8gSt18NGUO"
   },
   "source": [
    "## Two-way Anova"
   ]
  },
  {
   "cell_type": "code",
   "execution_count": 15,
   "id": "c48e8591-2798-4b4d-924c-b973f881e994",
   "metadata": {},
   "outputs": [
    {
     "data": {
      "text/html": [
       "<div>\n",
       "<style scoped>\n",
       "    .dataframe tbody tr th:only-of-type {\n",
       "        vertical-align: middle;\n",
       "    }\n",
       "\n",
       "    .dataframe tbody tr th {\n",
       "        vertical-align: top;\n",
       "    }\n",
       "\n",
       "    .dataframe thead th {\n",
       "        text-align: right;\n",
       "    }\n",
       "</style>\n",
       "<table border=\"1\" class=\"dataframe\">\n",
       "  <thead>\n",
       "    <tr style=\"text-align: right;\">\n",
       "      <th></th>\n",
       "      <th>state1_fo</th>\n",
       "      <th>state2_fo</th>\n",
       "      <th>state3_fo</th>\n",
       "      <th>state4_fo</th>\n",
       "      <th>state5_fo</th>\n",
       "      <th>state6_fo</th>\n",
       "      <th>state7_fo</th>\n",
       "      <th>state8_fo</th>\n",
       "      <th>state9_fo</th>\n",
       "      <th>state10_fo</th>\n",
       "      <th>chrono</th>\n",
       "      <th>time</th>\n",
       "    </tr>\n",
       "  </thead>\n",
       "  <tbody>\n",
       "    <tr>\n",
       "      <th>0</th>\n",
       "      <td>0.157778</td>\n",
       "      <td>0.088889</td>\n",
       "      <td>0.104444</td>\n",
       "      <td>0.066667</td>\n",
       "      <td>0.135556</td>\n",
       "      <td>0.120000</td>\n",
       "      <td>0.075556</td>\n",
       "      <td>0.144444</td>\n",
       "      <td>0.068889</td>\n",
       "      <td>0.037778</td>\n",
       "      <td>1.0</td>\n",
       "      <td>0</td>\n",
       "    </tr>\n",
       "    <tr>\n",
       "      <th>1</th>\n",
       "      <td>0.091111</td>\n",
       "      <td>0.086667</td>\n",
       "      <td>0.080000</td>\n",
       "      <td>0.113333</td>\n",
       "      <td>0.133333</td>\n",
       "      <td>0.113333</td>\n",
       "      <td>0.082222</td>\n",
       "      <td>0.086667</td>\n",
       "      <td>0.117778</td>\n",
       "      <td>0.095556</td>\n",
       "      <td>1.0</td>\n",
       "      <td>0</td>\n",
       "    </tr>\n",
       "    <tr>\n",
       "      <th>2</th>\n",
       "      <td>0.093333</td>\n",
       "      <td>0.111111</td>\n",
       "      <td>0.037778</td>\n",
       "      <td>0.095556</td>\n",
       "      <td>0.104444</td>\n",
       "      <td>0.017778</td>\n",
       "      <td>0.057778</td>\n",
       "      <td>0.224444</td>\n",
       "      <td>0.135556</td>\n",
       "      <td>0.122222</td>\n",
       "      <td>1.0</td>\n",
       "      <td>0</td>\n",
       "    </tr>\n",
       "    <tr>\n",
       "      <th>3</th>\n",
       "      <td>0.102222</td>\n",
       "      <td>0.160000</td>\n",
       "      <td>0.037778</td>\n",
       "      <td>0.097778</td>\n",
       "      <td>0.000000</td>\n",
       "      <td>0.113333</td>\n",
       "      <td>0.102222</td>\n",
       "      <td>0.157778</td>\n",
       "      <td>0.097778</td>\n",
       "      <td>0.131111</td>\n",
       "      <td>1.0</td>\n",
       "      <td>0</td>\n",
       "    </tr>\n",
       "    <tr>\n",
       "      <th>4</th>\n",
       "      <td>0.097778</td>\n",
       "      <td>0.042222</td>\n",
       "      <td>0.037778</td>\n",
       "      <td>0.117778</td>\n",
       "      <td>0.113333</td>\n",
       "      <td>0.102222</td>\n",
       "      <td>0.071111</td>\n",
       "      <td>0.108889</td>\n",
       "      <td>0.173333</td>\n",
       "      <td>0.135556</td>\n",
       "      <td>1.0</td>\n",
       "      <td>0</td>\n",
       "    </tr>\n",
       "    <tr>\n",
       "      <th>...</th>\n",
       "      <td>...</td>\n",
       "      <td>...</td>\n",
       "      <td>...</td>\n",
       "      <td>...</td>\n",
       "      <td>...</td>\n",
       "      <td>...</td>\n",
       "      <td>...</td>\n",
       "      <td>...</td>\n",
       "      <td>...</td>\n",
       "      <td>...</td>\n",
       "      <td>...</td>\n",
       "      <td>...</td>\n",
       "    </tr>\n",
       "    <tr>\n",
       "      <th>106</th>\n",
       "      <td>0.077778</td>\n",
       "      <td>0.131111</td>\n",
       "      <td>0.015556</td>\n",
       "      <td>0.120000</td>\n",
       "      <td>0.120000</td>\n",
       "      <td>0.060000</td>\n",
       "      <td>0.046667</td>\n",
       "      <td>0.148889</td>\n",
       "      <td>0.142222</td>\n",
       "      <td>0.137778</td>\n",
       "      <td>0.0</td>\n",
       "      <td>2</td>\n",
       "    </tr>\n",
       "    <tr>\n",
       "      <th>107</th>\n",
       "      <td>0.142222</td>\n",
       "      <td>0.060000</td>\n",
       "      <td>0.011111</td>\n",
       "      <td>0.148889</td>\n",
       "      <td>0.113333</td>\n",
       "      <td>0.008889</td>\n",
       "      <td>0.040000</td>\n",
       "      <td>0.168889</td>\n",
       "      <td>0.131111</td>\n",
       "      <td>0.175556</td>\n",
       "      <td>0.0</td>\n",
       "      <td>2</td>\n",
       "    </tr>\n",
       "    <tr>\n",
       "      <th>108</th>\n",
       "      <td>0.100000</td>\n",
       "      <td>0.066667</td>\n",
       "      <td>0.073333</td>\n",
       "      <td>0.135556</td>\n",
       "      <td>0.164444</td>\n",
       "      <td>0.144444</td>\n",
       "      <td>0.084444</td>\n",
       "      <td>0.102222</td>\n",
       "      <td>0.073333</td>\n",
       "      <td>0.055556</td>\n",
       "      <td>0.0</td>\n",
       "      <td>2</td>\n",
       "    </tr>\n",
       "    <tr>\n",
       "      <th>109</th>\n",
       "      <td>0.122222</td>\n",
       "      <td>0.008889</td>\n",
       "      <td>0.024444</td>\n",
       "      <td>0.097778</td>\n",
       "      <td>0.224444</td>\n",
       "      <td>0.077778</td>\n",
       "      <td>0.077778</td>\n",
       "      <td>0.113333</td>\n",
       "      <td>0.128889</td>\n",
       "      <td>0.124444</td>\n",
       "      <td>0.0</td>\n",
       "      <td>2</td>\n",
       "    </tr>\n",
       "    <tr>\n",
       "      <th>110</th>\n",
       "      <td>0.113333</td>\n",
       "      <td>0.048889</td>\n",
       "      <td>0.140000</td>\n",
       "      <td>0.024444</td>\n",
       "      <td>0.040000</td>\n",
       "      <td>0.144444</td>\n",
       "      <td>0.120000</td>\n",
       "      <td>0.160000</td>\n",
       "      <td>0.071111</td>\n",
       "      <td>0.137778</td>\n",
       "      <td>0.0</td>\n",
       "      <td>2</td>\n",
       "    </tr>\n",
       "  </tbody>\n",
       "</table>\n",
       "<p>111 rows × 12 columns</p>\n",
       "</div>"
      ],
      "text/plain": [
       "     state1_fo  state2_fo  state3_fo  state4_fo  state5_fo  state6_fo  \\\n",
       "0     0.157778   0.088889   0.104444   0.066667   0.135556   0.120000   \n",
       "1     0.091111   0.086667   0.080000   0.113333   0.133333   0.113333   \n",
       "2     0.093333   0.111111   0.037778   0.095556   0.104444   0.017778   \n",
       "3     0.102222   0.160000   0.037778   0.097778   0.000000   0.113333   \n",
       "4     0.097778   0.042222   0.037778   0.117778   0.113333   0.102222   \n",
       "..         ...        ...        ...        ...        ...        ...   \n",
       "106   0.077778   0.131111   0.015556   0.120000   0.120000   0.060000   \n",
       "107   0.142222   0.060000   0.011111   0.148889   0.113333   0.008889   \n",
       "108   0.100000   0.066667   0.073333   0.135556   0.164444   0.144444   \n",
       "109   0.122222   0.008889   0.024444   0.097778   0.224444   0.077778   \n",
       "110   0.113333   0.048889   0.140000   0.024444   0.040000   0.144444   \n",
       "\n",
       "     state7_fo  state8_fo  state9_fo  state10_fo  chrono  time  \n",
       "0     0.075556   0.144444   0.068889    0.037778     1.0     0  \n",
       "1     0.082222   0.086667   0.117778    0.095556     1.0     0  \n",
       "2     0.057778   0.224444   0.135556    0.122222     1.0     0  \n",
       "3     0.102222   0.157778   0.097778    0.131111     1.0     0  \n",
       "4     0.071111   0.108889   0.173333    0.135556     1.0     0  \n",
       "..         ...        ...        ...         ...     ...   ...  \n",
       "106   0.046667   0.148889   0.142222    0.137778     0.0     2  \n",
       "107   0.040000   0.168889   0.131111    0.175556     0.0     2  \n",
       "108   0.084444   0.102222   0.073333    0.055556     0.0     2  \n",
       "109   0.077778   0.113333   0.128889    0.124444     0.0     2  \n",
       "110   0.120000   0.160000   0.071111    0.137778     0.0     2  \n",
       "\n",
       "[111 rows x 12 columns]"
      ]
     },
     "execution_count": 15,
     "metadata": {},
     "output_type": "execute_result"
    }
   ],
   "source": [
    "fo"
   ]
  },
  {
   "cell_type": "code",
   "execution_count": 16,
   "id": "b89a61e2-71ec-4ae6-9c03-464ce1ad8c31",
   "metadata": {
    "colab": {
     "base_uri": "https://localhost:8080/"
    },
    "executionInfo": {
     "elapsed": 573,
     "status": "ok",
     "timestamp": 1649858085086,
     "user": {
      "displayName": "Jianzhang Ni",
      "userId": "18109982546966884557"
     },
     "user_tz": -60
    },
    "id": "D1jSiHX6ru4h",
    "outputId": "a2c0c782-7da2-4dbc-96b9-09cdac3c2e97"
   },
   "outputs": [],
   "source": [
    "#@title warp twoway_anova\n",
    "# Ordinary Least Squares (OLS) model\n",
    "import statsmodels.api as sm\n",
    "from statsmodels.formula.api import ols\n",
    "def twoway_anova(fo, K_state, n_rep=1000):\n",
    "    anova_tables = [] ; Fvalue_table=pd.DataFrame()\n",
    "    state_list = [ f'state{i}' for i in range(1, K_state+1)]\n",
    "    for state in state_list:\n",
    "        model = ols(f\"{state}_fo ~ C(chrono)+ C(time)+ C(chrono)*C(time)\", data=fo).fit()\n",
    "        anova_table = sm.stats.anova_lm(model, typ=2)\n",
    "        anova_tables.append(anova_table)\n",
    "        Fvalue_table[f\"{state}_F\"] = anova_table.loc[:,'F']\n",
    "        Fvalue_table[f\"{state}_p\"] = anova_table.loc[:,'PR(>F)']\n",
    "    \n",
    "    return Fvalue_table, anova_tables "
   ]
  },
  {
   "cell_type": "code",
   "execution_count": 17,
   "id": "b33b3a8c-e87f-4917-abbd-19304193fdf1",
   "metadata": {
    "cellView": "form",
    "id": "AGi7JRDwNI6t"
   },
   "outputs": [],
   "source": [
    "#@title Warp boxplot function\n",
    "def twoway_boxplot(fo, K_state, subplotformat='33',figsize1=(15,8), title=\"\"):\n",
    "    subplot_num= K_state\n",
    "    state_list = [ f'state{i}' for i in range(1, K_state+1)]\n",
    "    plt.figure(figsize=figsize1)  \n",
    "    for i in range(len(state_list)):\n",
    "        state = state_list[i]\n",
    "        ax = plt.subplot(int(f'{subplotformat}{i+1}'))\n",
    "        plt.tight_layout()\n",
    "        sns.boxplot(x=\"time\", y=f\"{state}_fo\", hue=\"chrono\", data=fo, palette=\"Set3\") "
   ]
  },
  {
   "cell_type": "code",
   "execution_count": 18,
   "id": "b35fe4df-de0d-44a5-88bb-7fd5224cdcca",
   "metadata": {
    "colab": {
     "base_uri": "https://localhost:8080/",
     "height": 175
    },
    "executionInfo": {
     "elapsed": 7,
     "status": "ok",
     "timestamp": 1649415256774,
     "user": {
      "displayName": "Jianzhang Ni",
      "userId": "18109982546966884557"
     },
     "user_tz": -60
    },
    "id": "InMFUxtNnruO",
    "outputId": "1e7542bc-28b9-4a24-b9ff-0621b5e28758"
   },
   "outputs": [
    {
     "data": {
      "text/html": [
       "<div>\n",
       "<style scoped>\n",
       "    .dataframe tbody tr th:only-of-type {\n",
       "        vertical-align: middle;\n",
       "    }\n",
       "\n",
       "    .dataframe tbody tr th {\n",
       "        vertical-align: top;\n",
       "    }\n",
       "\n",
       "    .dataframe thead th {\n",
       "        text-align: right;\n",
       "    }\n",
       "</style>\n",
       "<table border=\"1\" class=\"dataframe\">\n",
       "  <thead>\n",
       "    <tr style=\"text-align: right;\">\n",
       "      <th></th>\n",
       "      <th>state1_F</th>\n",
       "      <th>state1_p</th>\n",
       "      <th>state2_F</th>\n",
       "      <th>state2_p</th>\n",
       "      <th>state3_F</th>\n",
       "      <th>state3_p</th>\n",
       "      <th>state4_F</th>\n",
       "      <th>state4_p</th>\n",
       "      <th>state5_F</th>\n",
       "      <th>state5_p</th>\n",
       "      <th>state6_F</th>\n",
       "      <th>state6_p</th>\n",
       "      <th>state7_F</th>\n",
       "      <th>state7_p</th>\n",
       "      <th>state8_F</th>\n",
       "      <th>state8_p</th>\n",
       "      <th>state9_F</th>\n",
       "      <th>state9_p</th>\n",
       "      <th>state10_F</th>\n",
       "      <th>state10_p</th>\n",
       "    </tr>\n",
       "  </thead>\n",
       "  <tbody>\n",
       "    <tr>\n",
       "      <th>C(chrono)</th>\n",
       "      <td>3.061016</td>\n",
       "      <td>0.083113</td>\n",
       "      <td>4.427316</td>\n",
       "      <td>0.037756</td>\n",
       "      <td>0.382188</td>\n",
       "      <td>0.537773</td>\n",
       "      <td>7.000021</td>\n",
       "      <td>0.009403</td>\n",
       "      <td>4.402716</td>\n",
       "      <td>0.038281</td>\n",
       "      <td>0.003072</td>\n",
       "      <td>0.955906</td>\n",
       "      <td>0.113148</td>\n",
       "      <td>0.737259</td>\n",
       "      <td>0.304141</td>\n",
       "      <td>0.582469</td>\n",
       "      <td>0.667876</td>\n",
       "      <td>0.415644</td>\n",
       "      <td>0.029179</td>\n",
       "      <td>0.864695</td>\n",
       "    </tr>\n",
       "    <tr>\n",
       "      <th>C(time)</th>\n",
       "      <td>2.160527</td>\n",
       "      <td>0.120362</td>\n",
       "      <td>1.244546</td>\n",
       "      <td>0.292286</td>\n",
       "      <td>0.015579</td>\n",
       "      <td>0.984544</td>\n",
       "      <td>2.231723</td>\n",
       "      <td>0.112411</td>\n",
       "      <td>0.115892</td>\n",
       "      <td>0.890685</td>\n",
       "      <td>0.077817</td>\n",
       "      <td>0.925187</td>\n",
       "      <td>0.809304</td>\n",
       "      <td>0.447925</td>\n",
       "      <td>1.228338</td>\n",
       "      <td>0.296951</td>\n",
       "      <td>0.059296</td>\n",
       "      <td>0.942459</td>\n",
       "      <td>0.019354</td>\n",
       "      <td>0.980836</td>\n",
       "    </tr>\n",
       "    <tr>\n",
       "      <th>C(chrono):C(time)</th>\n",
       "      <td>1.143989</td>\n",
       "      <td>0.322483</td>\n",
       "      <td>0.030022</td>\n",
       "      <td>0.970433</td>\n",
       "      <td>0.880478</td>\n",
       "      <td>0.417623</td>\n",
       "      <td>0.341392</td>\n",
       "      <td>0.711566</td>\n",
       "      <td>0.914531</td>\n",
       "      <td>0.403872</td>\n",
       "      <td>0.926805</td>\n",
       "      <td>0.399030</td>\n",
       "      <td>0.405563</td>\n",
       "      <td>0.667641</td>\n",
       "      <td>0.739542</td>\n",
       "      <td>0.479802</td>\n",
       "      <td>0.061393</td>\n",
       "      <td>0.940488</td>\n",
       "      <td>1.480711</td>\n",
       "      <td>0.232187</td>\n",
       "    </tr>\n",
       "    <tr>\n",
       "      <th>Residual</th>\n",
       "      <td>NaN</td>\n",
       "      <td>NaN</td>\n",
       "      <td>NaN</td>\n",
       "      <td>NaN</td>\n",
       "      <td>NaN</td>\n",
       "      <td>NaN</td>\n",
       "      <td>NaN</td>\n",
       "      <td>NaN</td>\n",
       "      <td>NaN</td>\n",
       "      <td>NaN</td>\n",
       "      <td>NaN</td>\n",
       "      <td>NaN</td>\n",
       "      <td>NaN</td>\n",
       "      <td>NaN</td>\n",
       "      <td>NaN</td>\n",
       "      <td>NaN</td>\n",
       "      <td>NaN</td>\n",
       "      <td>NaN</td>\n",
       "      <td>NaN</td>\n",
       "      <td>NaN</td>\n",
       "    </tr>\n",
       "  </tbody>\n",
       "</table>\n",
       "</div>"
      ],
      "text/plain": [
       "                   state1_F  state1_p  state2_F  state2_p  state3_F  state3_p  \\\n",
       "C(chrono)          3.061016  0.083113  4.427316  0.037756  0.382188  0.537773   \n",
       "C(time)            2.160527  0.120362  1.244546  0.292286  0.015579  0.984544   \n",
       "C(chrono):C(time)  1.143989  0.322483  0.030022  0.970433  0.880478  0.417623   \n",
       "Residual                NaN       NaN       NaN       NaN       NaN       NaN   \n",
       "\n",
       "                   state4_F  state4_p  state5_F  state5_p  state6_F  state6_p  \\\n",
       "C(chrono)          7.000021  0.009403  4.402716  0.038281  0.003072  0.955906   \n",
       "C(time)            2.231723  0.112411  0.115892  0.890685  0.077817  0.925187   \n",
       "C(chrono):C(time)  0.341392  0.711566  0.914531  0.403872  0.926805  0.399030   \n",
       "Residual                NaN       NaN       NaN       NaN       NaN       NaN   \n",
       "\n",
       "                   state7_F  state7_p  state8_F  state8_p  state9_F  state9_p  \\\n",
       "C(chrono)          0.113148  0.737259  0.304141  0.582469  0.667876  0.415644   \n",
       "C(time)            0.809304  0.447925  1.228338  0.296951  0.059296  0.942459   \n",
       "C(chrono):C(time)  0.405563  0.667641  0.739542  0.479802  0.061393  0.940488   \n",
       "Residual                NaN       NaN       NaN       NaN       NaN       NaN   \n",
       "\n",
       "                   state10_F  state10_p  \n",
       "C(chrono)           0.029179   0.864695  \n",
       "C(time)             0.019354   0.980836  \n",
       "C(chrono):C(time)   1.480711   0.232187  \n",
       "Residual                 NaN        NaN  "
      ]
     },
     "execution_count": 18,
     "metadata": {},
     "output_type": "execute_result"
    }
   ],
   "source": [
    "# Ordinary Least Squares (OLS) model\n",
    "# model = ols(f\"{state} ~ C(chronotype)+ C(time)+ C(chronotype)*C(time)\", data=fo).fit()\n",
    "\n",
    "Fvalue_table, anova_tables = twoway_anova(fo,K_state)\n",
    "Fvalue_table"
   ]
  },
  {
   "cell_type": "code",
   "execution_count": 19,
   "id": "a7654796-e131-4800-a3df-70fc382a92eb",
   "metadata": {
    "colab": {
     "base_uri": "https://localhost:8080/",
     "height": 581
    },
    "executionInfo": {
     "elapsed": 1976,
     "status": "ok",
     "timestamp": 1649415258745,
     "user": {
      "displayName": "Jianzhang Ni",
      "userId": "18109982546966884557"
     },
     "user_tz": -60
    },
    "id": "R9i8Fm2Rn95Q",
    "outputId": "12fe22e1-603b-4465-f372-5bce33948a23"
   },
   "outputs": [
    {
     "ename": "ValueError",
     "evalue": "Single argument to subplot must be a three-digit integer, not 3310",
     "output_type": "error",
     "traceback": [
      "\u001b[0;31m---------------------------------------------------------------------------\u001b[0m",
      "\u001b[0;31mValueError\u001b[0m                                Traceback (most recent call last)",
      "Input \u001b[0;32mIn [19]\u001b[0m, in \u001b[0;36m<cell line: 1>\u001b[0;34m()\u001b[0m\n\u001b[0;32m----> 1\u001b[0m \u001b[43mtwoway_boxplot\u001b[49m\u001b[43m(\u001b[49m\u001b[43mfo\u001b[49m\u001b[43m,\u001b[49m\u001b[43m \u001b[49m\u001b[43mK_state\u001b[49m\u001b[43m)\u001b[49m\n",
      "Input \u001b[0;32mIn [17]\u001b[0m, in \u001b[0;36mtwoway_boxplot\u001b[0;34m(fo, K_state, subplotformat, figsize1, title)\u001b[0m\n\u001b[1;32m      6\u001b[0m \u001b[38;5;28;01mfor\u001b[39;00m i \u001b[38;5;129;01min\u001b[39;00m \u001b[38;5;28mrange\u001b[39m(\u001b[38;5;28mlen\u001b[39m(state_list)):\n\u001b[1;32m      7\u001b[0m     state \u001b[38;5;241m=\u001b[39m state_list[i]\n\u001b[0;32m----> 8\u001b[0m     ax \u001b[38;5;241m=\u001b[39m \u001b[43mplt\u001b[49m\u001b[38;5;241;43m.\u001b[39;49m\u001b[43msubplot\u001b[49m\u001b[43m(\u001b[49m\u001b[38;5;28;43mint\u001b[39;49m\u001b[43m(\u001b[49m\u001b[38;5;124;43mf\u001b[39;49m\u001b[38;5;124;43m'\u001b[39;49m\u001b[38;5;132;43;01m{\u001b[39;49;00m\u001b[43msubplotformat\u001b[49m\u001b[38;5;132;43;01m}\u001b[39;49;00m\u001b[38;5;132;43;01m{\u001b[39;49;00m\u001b[43mi\u001b[49m\u001b[38;5;241;43m+\u001b[39;49m\u001b[38;5;241;43m1\u001b[39;49m\u001b[38;5;132;43;01m}\u001b[39;49;00m\u001b[38;5;124;43m'\u001b[39;49m\u001b[43m)\u001b[49m\u001b[43m)\u001b[49m\n\u001b[1;32m      9\u001b[0m     plt\u001b[38;5;241m.\u001b[39mtight_layout()\n\u001b[1;32m     10\u001b[0m     sns\u001b[38;5;241m.\u001b[39mboxplot(x\u001b[38;5;241m=\u001b[39m\u001b[38;5;124m\"\u001b[39m\u001b[38;5;124mtime\u001b[39m\u001b[38;5;124m\"\u001b[39m, y\u001b[38;5;241m=\u001b[39m\u001b[38;5;124mf\u001b[39m\u001b[38;5;124m\"\u001b[39m\u001b[38;5;132;01m{\u001b[39;00mstate\u001b[38;5;132;01m}\u001b[39;00m\u001b[38;5;124m_fo\u001b[39m\u001b[38;5;124m\"\u001b[39m, hue\u001b[38;5;241m=\u001b[39m\u001b[38;5;124m\"\u001b[39m\u001b[38;5;124mchrono\u001b[39m\u001b[38;5;124m\"\u001b[39m, data\u001b[38;5;241m=\u001b[39mfo, palette\u001b[38;5;241m=\u001b[39m\u001b[38;5;124m\"\u001b[39m\u001b[38;5;124mSet3\u001b[39m\u001b[38;5;124m\"\u001b[39m)\n",
      "File \u001b[0;32m~/anaconda3/envs/automl/lib/python3.8/site-packages/matplotlib/pyplot.py:1289\u001b[0m, in \u001b[0;36msubplot\u001b[0;34m(*args, **kwargs)\u001b[0m\n\u001b[1;32m   1286\u001b[0m fig \u001b[38;5;241m=\u001b[39m gcf()\n\u001b[1;32m   1288\u001b[0m \u001b[38;5;66;03m# First, search for an existing subplot with a matching spec.\u001b[39;00m\n\u001b[0;32m-> 1289\u001b[0m key \u001b[38;5;241m=\u001b[39m \u001b[43mSubplotSpec\u001b[49m\u001b[38;5;241;43m.\u001b[39;49m\u001b[43m_from_subplot_args\u001b[49m\u001b[43m(\u001b[49m\u001b[43mfig\u001b[49m\u001b[43m,\u001b[49m\u001b[43m \u001b[49m\u001b[43margs\u001b[49m\u001b[43m)\u001b[49m\n\u001b[1;32m   1291\u001b[0m \u001b[38;5;28;01mfor\u001b[39;00m ax \u001b[38;5;129;01min\u001b[39;00m fig\u001b[38;5;241m.\u001b[39maxes:\n\u001b[1;32m   1292\u001b[0m     \u001b[38;5;66;03m# if we found an axes at the position sort out if we can re-use it\u001b[39;00m\n\u001b[1;32m   1293\u001b[0m     \u001b[38;5;28;01mif\u001b[39;00m \u001b[38;5;28mhasattr\u001b[39m(ax, \u001b[38;5;124m'\u001b[39m\u001b[38;5;124mget_subplotspec\u001b[39m\u001b[38;5;124m'\u001b[39m) \u001b[38;5;129;01mand\u001b[39;00m ax\u001b[38;5;241m.\u001b[39mget_subplotspec() \u001b[38;5;241m==\u001b[39m key:\n\u001b[1;32m   1294\u001b[0m         \u001b[38;5;66;03m# if the user passed no kwargs, re-use\u001b[39;00m\n",
      "File \u001b[0;32m~/anaconda3/envs/automl/lib/python3.8/site-packages/matplotlib/gridspec.py:588\u001b[0m, in \u001b[0;36mSubplotSpec._from_subplot_args\u001b[0;34m(figure, args)\u001b[0m\n\u001b[1;32m    586\u001b[0m         rows, cols, num \u001b[38;5;241m=\u001b[39m \u001b[38;5;28mmap\u001b[39m(\u001b[38;5;28mint\u001b[39m, \u001b[38;5;28mstr\u001b[39m(arg))\n\u001b[1;32m    587\u001b[0m     \u001b[38;5;28;01mexcept\u001b[39;00m \u001b[38;5;167;01mValueError\u001b[39;00m:\n\u001b[0;32m--> 588\u001b[0m         \u001b[38;5;28;01mraise\u001b[39;00m \u001b[38;5;167;01mValueError\u001b[39;00m(\n\u001b[1;32m    589\u001b[0m             \u001b[38;5;124mf\u001b[39m\u001b[38;5;124m\"\u001b[39m\u001b[38;5;124mSingle argument to subplot must be a three-digit \u001b[39m\u001b[38;5;124m\"\u001b[39m\n\u001b[1;32m    590\u001b[0m             \u001b[38;5;124mf\u001b[39m\u001b[38;5;124m\"\u001b[39m\u001b[38;5;124minteger, not \u001b[39m\u001b[38;5;132;01m{\u001b[39;00marg\u001b[38;5;132;01m!r}\u001b[39;00m\u001b[38;5;124m\"\u001b[39m) \u001b[38;5;28;01mfrom\u001b[39;00m \u001b[38;5;28mNone\u001b[39m\n\u001b[1;32m    591\u001b[0m \u001b[38;5;28;01melif\u001b[39;00m \u001b[38;5;28mlen\u001b[39m(args) \u001b[38;5;241m==\u001b[39m \u001b[38;5;241m3\u001b[39m:\n\u001b[1;32m    592\u001b[0m     rows, cols, num \u001b[38;5;241m=\u001b[39m args\n",
      "\u001b[0;31mValueError\u001b[0m: Single argument to subplot must be a three-digit integer, not 3310"
     ]
    },
    {
     "data": {
      "image/png": "[encoded data removed]",
      "text/plain": [
       "<Figure size 1080x576 with 9 Axes>"
      ]
     },
     "metadata": {
      "needs_background": "light"
     },
     "output_type": "display_data"
    }
   ],
   "source": [
    "twoway_boxplot(fo, K_state)"
   ]
  },
  {
   "cell_type": "markdown",
   "id": "6c382cc5-3946-4713-9541-3bce1fcd9d2f",
   "metadata": {
    "id": "7kFYLZljMC9K"
   },
   "source": [
    "## Chronotype"
   ]
  },
  {
   "cell_type": "code",
   "execution_count": null,
   "id": "23726d08-a4bb-4557-954d-f78143eea522",
   "metadata": {
    "id": "rvc8mI64MHCS"
   },
   "outputs": [],
   "source": [
    "ECP = fo[fo['chronotype']==1]; LCP = fo[fo['chronotype']==0] "
   ]
  },
  {
   "cell_type": "code",
   "execution_count": null,
   "id": "f3dda097-595a-46de-97e9-8cfd787a3e05",
   "metadata": {
    "colab": {
     "base_uri": "https://localhost:8080/",
     "height": 206
    },
    "executionInfo": {
     "elapsed": 22,
     "status": "ok",
     "timestamp": 1649415258747,
     "user": {
      "displayName": "Jianzhang Ni",
      "userId": "18109982546966884557"
     },
     "user_tz": -60
    },
    "id": "qAaWwue6AbmW",
    "outputId": "720e57e8-ca6b-476f-8d3f-bf242a00727e"
   },
   "outputs": [],
   "source": [
    "compare_mean(ECP,LCP, K_state)"
   ]
  },
  {
   "cell_type": "code",
   "execution_count": null,
   "id": "72408c33-1b69-4039-8d21-cf9975cf1ff2",
   "metadata": {
    "colab": {
     "base_uri": "https://localhost:8080/",
     "height": 394
    },
    "executionInfo": {
     "elapsed": 728,
     "status": "ok",
     "timestamp": 1649415276836,
     "user": {
      "displayName": "Jianzhang Ni",
      "userId": "18109982546966884557"
     },
     "user_tz": -60
    },
    "id": "peM4kt3lk1PD",
    "outputId": "491b7058-3814-4127-ef88-0fa548981323"
   },
   "outputs": [],
   "source": [
    "plt.figure(figsize=(8,6))\n",
    "ax = sns.boxplot(x='chronotype', y='State1', data=fo, color='#99c2a2')\n",
    "ax = sns.swarmplot(x='chronotype', y='State1', data=fo, color='#7d0013')\n",
    "\n",
    "plt.show()"
   ]
  },
  {
   "cell_type": "markdown",
   "id": "64e87688-c14e-43b9-938d-58addf51507b",
   "metadata": {
    "id": "wyKdzWuvMC0n"
   },
   "source": [
    "## Time of the day"
   ]
  },
  {
   "cell_type": "code",
   "execution_count": null,
   "id": "5b1948e6-98d5-4969-9d18-83fb7b4422f2",
   "metadata": {
    "cellView": "form",
    "id": "RvXyutZjl2Zt"
   },
   "outputs": [],
   "source": [
    "#@title warp oneway_anova\n",
    "def oneway_anova(fo,K_state):\n",
    "    li = []\n",
    "    state_list = [ f'state{i}_fo' for i in range(1, K_state+1)]\n",
    "    for state in state_list:\n",
    "        m=fo[fo['time']==0][state]\n",
    "        a=fo[fo['time']==1][state]\n",
    "        e=fo[fo['time']==2][state]\n",
    "        li.append(stats.f_oneway(m,a,e))\n",
    "    return pd.DataFrame(li, index=state_list, columns=['F value', 'p value'])"
   ]
  },
  {
   "cell_type": "code",
   "execution_count": null,
   "id": "28c0620a-1500-496b-96df-f5e99dc1b7b0",
   "metadata": {
    "colab": {
     "base_uri": "https://localhost:8080/",
     "height": 206
    },
    "executionInfo": {
     "elapsed": 4,
     "status": "ok",
     "timestamp": 1649415278870,
     "user": {
      "displayName": "Jianzhang Ni",
      "userId": "18109982546966884557"
     },
     "user_tz": -60
    },
    "id": "pJfbV6NBtiYC",
    "outputId": "5985b7f9-62b7-408c-c616-f38a8552c915"
   },
   "outputs": [],
   "source": [
    "oneway_anova(fo, K_state)"
   ]
  },
  {
   "cell_type": "code",
   "execution_count": null,
   "id": "ebf0fa9e-06ae-45b1-ad36-ad7d70297725",
   "metadata": {
    "id": "g4hTfIeJgADd"
   },
   "outputs": [],
   "source": [
    "M = ECP = fo[fo['time']==0]; A = fo[fo['time']==1]; E = fo[fo['time']==2] "
   ]
  },
  {
   "cell_type": "code",
   "execution_count": null,
   "id": "59a30aeb-6d13-4548-9361-6aaa7057a549",
   "metadata": {
    "colab": {
     "base_uri": "https://localhost:8080/",
     "height": 206
    },
    "executionInfo": {
     "elapsed": 4,
     "status": "ok",
     "timestamp": 1649415279752,
     "user": {
      "displayName": "Jianzhang Ni",
      "userId": "18109982546966884557"
     },
     "user_tz": -60
    },
    "id": "eSO6YMpcOaNf",
    "outputId": "3b31fe3b-3e7e-4379-c30e-ead5f528e851"
   },
   "outputs": [],
   "source": [
    "compare_mean(M,A, K_state)"
   ]
  },
  {
   "cell_type": "code",
   "execution_count": null,
   "id": "6cc4a344-9474-42b7-a384-59c2c843b22d",
   "metadata": {
    "colab": {
     "base_uri": "https://localhost:8080/",
     "height": 206
    },
    "executionInfo": {
     "elapsed": 425,
     "status": "ok",
     "timestamp": 1649415281075,
     "user": {
      "displayName": "Jianzhang Ni",
      "userId": "18109982546966884557"
     },
     "user_tz": -60
    },
    "id": "EHhLhcLWOnu6",
    "outputId": "e28e9967-7ea4-4a49-f5b8-69bef9c8f68d"
   },
   "outputs": [],
   "source": [
    "compare_mean(A, E, K_state)"
   ]
  },
  {
   "cell_type": "code",
   "execution_count": null,
   "id": "37096a42-93cb-4b73-928c-e799d89ea0e3",
   "metadata": {
    "colab": {
     "base_uri": "https://localhost:8080/",
     "height": 206
    },
    "executionInfo": {
     "elapsed": 10,
     "status": "ok",
     "timestamp": 1649415281076,
     "user": {
      "displayName": "Jianzhang Ni",
      "userId": "18109982546966884557"
     },
     "user_tz": -60
    },
    "id": "Nr1pmxGBOojB",
    "outputId": "6347e0ca-2e4a-463b-bbdf-1abe73d1d652"
   },
   "outputs": [],
   "source": [
    "compare_mean(M,E, K_state)"
   ]
  },
  {
   "cell_type": "code",
   "execution_count": null,
   "id": "cf9b28e1-1920-482f-bf65-6bfe4f4eed16",
   "metadata": {},
   "outputs": [],
   "source": [
    "get_number_of_visit(lifetime)"
   ]
  }
 ],
 "metadata": {
  "kernelspec": {
   "display_name": "Python 3 (ipykernel)",
   "language": "python",
   "name": "python3"
  },
  "language_info": {
   "codemirror_mode": {
    "name": "ipython",
    "version": 3
   },
   "file_extension": ".py",
   "mimetype": "text/x-python",
   "name": "python",
   "nbconvert_exporter": "python",
   "pygments_lexer": "ipython3",
   "version": "3.8.13"
  },
  "widgets": {
   "application/vnd.jupyter.widget-state+json": {
    "state": {},
    "version_major": 2,
    "version_minor": 0
   }
  }
 },
 "nbformat": 4,
 "nbformat_minor": 5
}
