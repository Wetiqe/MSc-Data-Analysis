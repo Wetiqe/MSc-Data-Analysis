{
 "cells": [
  {
   "cell_type": "markdown",
   "id": "1b9364fe-3f7a-4a6a-af61-f7dd51501d2a",
   "metadata": {
    "colab": {
     "base_uri": "https://localhost:8080/"
    },
    "executionInfo": {
     "elapsed": 27271,
     "status": "ok",
     "timestamp": 1652789142189,
     "user": {
      "displayName": "Jianzhang Ni",
      "userId": "18109982546966884557"
     },
     "user_tz": -60
    },
    "id": "46bnj0T6pKS9",
    "outputId": "d1b9d2f9-1146-4faf-c1a3-895e55caf552"
   },
   "source": [
    "!pip install scikit-network seaborn  --quiet"
   ]
  },
  {
   "cell_type": "markdown",
   "id": "549839f8-87ff-44e1-84bd-3f5d7510c960",
   "metadata": {
    "id": "549839f8-87ff-44e1-84bd-3f5d7510c960"
   },
   "source": [
    "# Model Evaluation"
   ]
  },
  {
   "cell_type": "code",
   "execution_count": 20,
   "id": "-iBg_1g_3ri4",
   "metadata": {
    "executionInfo": {
     "elapsed": 462,
     "status": "ok",
     "timestamp": 1652789142642,
     "user": {
      "displayName": "Jianzhang Ni",
      "userId": "18109982546966884557"
     },
     "user_tz": -60
    },
    "id": "-iBg_1g_3ri4"
   },
   "outputs": [],
   "source": [
    "from scipy.io import loadmat\n",
    "import numpy as np\n",
    "import seaborn as sns\n",
    "import pandas as pd\n",
    "from matplotlib import pyplot as plt\n",
    "from collection import *\n",
    "from global_variables import * "
   ]
  },
  {
   "cell_type": "markdown",
   "id": "a2ea84e1-b1de-459e-af36-5858bc97f2c4",
   "metadata": {
    "id": "a2ea84e1-b1de-459e-af36-5858bc97f2c4"
   },
   "source": [
    "### Select K \n",
    "``` matlab\n",
    "value = getGammaSimilarity(gamma{i}, gamma{j})\n",
    "\n",
    "simi_matrix(i,j)=value; simi_matrix(j,i)=value\n",
    "```"
   ]
  },
  {
   "cell_type": "code",
   "execution_count": 3,
   "id": "345cea1a-e37e-4730-83f6-93a42aa2da39",
   "metadata": {
    "colab": {
     "base_uri": "https://localhost:8080/",
     "height": 112
    },
    "executionInfo": {
     "elapsed": 13557,
     "status": "ok",
     "timestamp": 1652789158829,
     "user": {
      "displayName": "Jianzhang Ni",
      "userId": "18109982546966884557"
     },
     "user_tz": -60
    },
    "id": "345cea1a-e37e-4730-83f6-93a42aa2da39",
    "outputId": "bbcc846f-c276-400c-ea4b-0d25548bba08"
   },
   "outputs": [],
   "source": [
    "mean_simi_df = mean_simi_mat(range(1, K_max), base)\n"
   ]
  },
  {
   "cell_type": "code",
   "execution_count": 4,
   "id": "EJXV_bQw0ggF",
   "metadata": {
    "colab": {
     "base_uri": "https://localhost:8080/",
     "height": 368
    },
    "executionInfo": {
     "elapsed": 17,
     "status": "ok",
     "timestamp": 1652789158831,
     "user": {
      "displayName": "Jianzhang Ni",
      "userId": "18109982546966884557"
     },
     "user_tz": -60
    },
    "id": "EJXV_bQw0ggF",
    "outputId": "3326d488-a1c6-423e-c9c2-6a9188e79e03"
   },
   "outputs": [
    {
     "data": {
      "text/plain": [
       "Text(0, 0.5, 'Mean Similarity')"
      ]
     },
     "execution_count": 4,
     "metadata": {},
     "output_type": "execute_result"
    },
    {
     "data": {
      "image/png": "[encoded data removed]",
      "text/plain": [
       "<Figure size 1080x360 with 1 Axes>"
      ]
     },
     "metadata": {
      "needs_background": "light"
     },
     "output_type": "display_data"
    }
   ],
   "source": [
    "plt.figure(figsize=(15,5))\n",
    "plt.title(\"Mean state similarity\")\n",
    "sns.barplot(x='State', y='Mean_simi', data=mean_simi_df)\n",
    "plt.xlabel('Number of States')\n",
    "plt.ylabel('Mean Similarity')"
   ]
  },
  {
   "cell_type": "code",
   "execution_count": 59,
   "id": "qH4kPwzV-OBZ",
   "metadata": {
    "executionInfo": {
     "elapsed": 455,
     "status": "ok",
     "timestamp": 1652789168647,
     "user": {
      "displayName": "Jianzhang Ni",
      "userId": "18109982546966884557"
     },
     "user_tz": -60
    },
    "id": "qH4kPwzV-OBZ"
   },
   "outputs": [],
   "source": [
    "K_state = 6 # select K"
   ]
  },
  {
   "cell_type": "markdown",
   "id": "e501644f-c914-480a-b33d-33403c631f7f",
   "metadata": {
    "id": "e501644f-c914-480a-b33d-33403c631f7f"
   },
   "source": [
    "## Select Reptition"
   ]
  },
  {
   "cell_type": "code",
   "execution_count": 60,
   "id": "-Yn1rpiK9bbu",
   "metadata": {
    "executionInfo": {
     "elapsed": 3,
     "status": "ok",
     "timestamp": 1652789169200,
     "user": {
      "displayName": "Jianzhang Ni",
      "userId": "18109982546966884557"
     },
     "user_tz": -60
    },
    "id": "-Yn1rpiK9bbu"
   },
   "outputs": [],
   "source": [
    "state_simimat=load_simimat(K_state, base)"
   ]
  },
  {
   "cell_type": "code",
   "execution_count": 61,
   "id": "e097f317-f94a-4fee-b071-b27dd05a885e",
   "metadata": {
    "colab": {
     "base_uri": "https://localhost:8080/",
     "height": 287
    },
    "executionInfo": {
     "elapsed": 9,
     "status": "ok",
     "timestamp": 1652789170214,
     "user": {
      "displayName": "Jianzhang Ni",
      "userId": "18109982546966884557"
     },
     "user_tz": -60
    },
    "id": "e097f317-f94a-4fee-b071-b27dd05a885e",
    "outputId": "fd18a1e2-db8f-40a1-e371-8ef3517f651e"
   },
   "outputs": [
    {
     "data": {
      "text/plain": [
       "<AxesSubplot:>"
      ]
     },
     "execution_count": 61,
     "metadata": {},
     "output_type": "execute_result"
    },
    {
     "data": {
      "image/png": "[encoded data removed]",
      "text/plain": [
       "<Figure size 432x288 with 2 Axes>"
      ]
     },
     "metadata": {
      "needs_background": "light"
     },
     "output_type": "display_data"
    }
   ],
   "source": [
    "sns.heatmap(pd.DataFrame(state_simimat, index=range(1,6), columns=range(1,6)), cmap='Reds', vmin=0.5)"
   ]
  },
  {
   "cell_type": "code",
   "execution_count": 62,
   "id": "GMFgtEI6BGfV",
   "metadata": {
    "colab": {
     "base_uri": "https://localhost:8080/",
     "height": 299
    },
    "executionInfo": {
     "elapsed": 451,
     "status": "ok",
     "timestamp": 1652789171054,
     "user": {
      "displayName": "Jianzhang Ni",
      "userId": "18109982546966884557"
     },
     "user_tz": -60
    },
    "id": "GMFgtEI6BGfV",
    "outputId": "6a1033e4-c325-4bfe-cd09-159c5b1bee58"
   },
   "outputs": [
    {
     "data": {
      "text/plain": [
       "Text(0.5, 1.0, 'Mean Similarity for Each Reptition')"
      ]
     },
     "execution_count": 62,
     "metadata": {},
     "output_type": "execute_result"
    },
    {
     "data": {
      "image/png": "[encoded data removed]",
      "text/plain": [
       "<Figure size 432x288 with 1 Axes>"
      ]
     },
     "metadata": {
      "needs_background": "light"
     },
     "output_type": "display_data"
    }
   ],
   "source": [
    "pd.DataFrame((state_simimat.sum(axis=1)-1)/4, index=range(1,6), columns=['mean similarity']).plot()\n",
    "plt.title(\"Mean Similarity for Each Reptition\")"
   ]
  },
  {
   "cell_type": "code",
   "execution_count": 63,
   "id": "7e6ecdd0-44f1-47fa-b56a-3b33c92e22c1",
   "metadata": {},
   "outputs": [],
   "source": [
    "\n",
    "maxfo_array = np.array([]); switch_array = maxfo_array.copy()\n",
    "rep_index= np.repeat([i for i in range(1, total_reps+1)],sub_num)\n",
    "\n",
    "for r in range(total_reps):\n",
    "    hmminfo_file = base+f'hmminfo/hmminfo_k{K_state}_rep_{r+1}.mat'\n",
    "    info_array=loadmat(hmminfo_file)[hmminfo_source]\n",
    "    sr, mf = parse_chronnectome(info_array, model_selection=True)\n",
    "    switch_array = np.concatenate((switch_array, sr))\n",
    "    maxfo_array = np.concatenate((maxfo_array, mf))\n",
    "    \n",
    "switching_rate_df = pd.DataFrame(np.array([rep_index, switch_array]).T, columns=['rep_num', 'Switching Rates']) \n",
    "maxfo_df = pd.DataFrame(np.array([rep_index, maxfo_array]).T, columns=['rep_num', 'Max FO']) "
   ]
  },
  {
   "cell_type": "code",
   "execution_count": 64,
   "id": "ad9fae57-25ff-453b-a5dc-119c2347d069",
   "metadata": {},
   "outputs": [
    {
     "data": {
      "text/plain": [
       "<AxesSubplot:xlabel='rep_num', ylabel='Switching Rates'>"
      ]
     },
     "execution_count": 64,
     "metadata": {},
     "output_type": "execute_result"
    },
    {
     "data": {
      "image/png": "[encoded data removed]",
      "text/plain": [
       "<Figure size 432x288 with 1 Axes>"
      ]
     },
     "metadata": {
      "needs_background": "light"
     },
     "output_type": "display_data"
    }
   ],
   "source": [
    "sns.boxplot(x='rep_num', y='Switching Rates', data=switching_rate_df)\n"
   ]
  },
  {
   "cell_type": "code",
   "execution_count": 65,
   "id": "25d686d5-ac49-4f03-bee9-3d39b7c5ac81",
   "metadata": {},
   "outputs": [
    {
     "data": {
      "text/plain": [
       "<AxesSubplot:xlabel='rep_num', ylabel='Max FO'>"
      ]
     },
     "execution_count": 65,
     "metadata": {},
     "output_type": "execute_result"
    },
    {
     "data": {
      "image/png": "[encoded data removed]",
      "text/plain": [
       "<Figure size 432x288 with 1 Axes>"
      ]
     },
     "metadata": {
      "needs_background": "light"
     },
     "output_type": "display_data"
    }
   ],
   "source": [
    "sns.boxplot(x='rep_num', y='Max FO', data=maxfo_df)"
   ]
  },
  {
   "cell_type": "code",
   "execution_count": null,
   "id": "9dc62955-3ed6-4d5f-a4cd-ef863833d984",
   "metadata": {},
   "outputs": [],
   "source": []
  },
  {
   "cell_type": "code",
   "execution_count": 66,
   "id": "MTDOepwc4lAS",
   "metadata": {
    "colab": {
     "base_uri": "https://localhost:8080/",
     "height": 36
    },
    "executionInfo": {
     "elapsed": 6,
     "status": "ok",
     "timestamp": 1652789172065,
     "user": {
      "displayName": "Jianzhang Ni",
      "userId": "18109982546966884557"
     },
     "user_tz": -60
    },
    "id": "MTDOepwc4lAS",
    "outputId": "36e19fe1-90d6-414f-84a4-7bcffdf462b8"
   },
   "outputs": [
    {
     "data": {
      "text/plain": [
       "'/home/jzni/dissertation/analysis/output/hmminfo/hmminfo_k6_rep_1.mat'"
      ]
     },
     "execution_count": 66,
     "metadata": {},
     "output_type": "execute_result"
    }
   ],
   "source": [
    "rep_num = 1\n",
    "hmm_file = base+f'chronotype_k{K_state}_rep_{rep_num}.mat'\n",
    "hmminfo_file = base+f'hmminfo/hmminfo_k{K_state}_rep_{rep_num}.mat'\n",
    "hmminfo_file"
   ]
  },
  {
   "cell_type": "markdown",
   "id": "4d02428b-6e13-442d-9b5a-86b67a74d69e",
   "metadata": {},
   "source": [
    "# Further Analysis"
   ]
  },
  {
   "cell_type": "code",
   "execution_count": 67,
   "id": "71454215-4004-47fd-98ac-8ca609e54cfe",
   "metadata": {
    "executionInfo": {
     "elapsed": 4439,
     "status": "ok",
     "timestamp": 1652789177039,
     "user": {
      "displayName": "Jianzhang Ni",
      "userId": "18109982546966884557"
     },
     "user_tz": -60
    },
    "id": "71454215-4004-47fd-98ac-8ca609e54cfe"
   },
   "outputs": [],
   "source": [
    "hmm = loadmat(hmm_file)\n",
    "hmm_info = loadmat(hmminfo_file)\n"
   ]
  },
  {
   "cell_type": "code",
   "execution_count": 68,
   "id": "a4ce288f-feb1-4a61-a9ec-14ab49ed93ac",
   "metadata": {},
   "outputs": [],
   "source": [
    "# Parse HMM info\n",
    "fo_corr = hmm_info['fo_matrix']\n",
    "ordered_p = hmm_info['ordered_p']\n",
    "state_order = hmm_info['ord'] # the order of state for fo_corr and ordered_p\n",
    "## hmms = hmm_info['hmms']  # contains the subject specific hmm\n",
    "# Parse chronnectome info\n",
    "## info based on veterbi path \n",
    "raw_fo, lifetime, intervals = parse_chronnectome(hmm_info[hmminfo_source], model_selection=False)\n"
   ]
  },
  {
   "cell_type": "code",
   "execution_count": 69,
   "id": "J3eiDEscZFdu",
   "metadata": {
    "colab": {
     "base_uri": "https://localhost:8080/",
     "height": 287
    },
    "executionInfo": {
     "elapsed": 766,
     "status": "ok",
     "timestamp": 1652789177798,
     "user": {
      "displayName": "Jianzhang Ni",
      "userId": "18109982546966884557"
     },
     "user_tz": -60
    },
    "id": "J3eiDEscZFdu",
    "outputId": "0ae42953-7b8d-4274-ecfa-04ca53617ecf"
   },
   "outputs": [
    {
     "data": {
      "text/plain": [
       "<AxesSubplot:>"
      ]
     },
     "execution_count": 69,
     "metadata": {},
     "output_type": "execute_result"
    },
    {
     "data": {
      "image/png": "[encoded data removed]",
      "text/plain": [
       "<Figure size 432x288 with 2 Axes>"
      ]
     },
     "metadata": {
      "needs_background": "light"
     },
     "output_type": "display_data"
    }
   ],
   "source": [
    "sns.heatmap(fo_corr, cmap=\"Reds\", vmax=0.4)"
   ]
  },
  {
   "cell_type": "code",
   "execution_count": 70,
   "id": "S3mCbQs6fvel",
   "metadata": {
    "colab": {
     "base_uri": "https://localhost:8080/",
     "height": 287
    },
    "executionInfo": {
     "elapsed": 10,
     "status": "ok",
     "timestamp": 1652789177799,
     "user": {
      "displayName": "Jianzhang Ni",
      "userId": "18109982546966884557"
     },
     "user_tz": -60
    },
    "id": "S3mCbQs6fvel",
    "outputId": "e918950c-f111-4d05-8a78-98bf9eebe95d"
   },
   "outputs": [
    {
     "data": {
      "text/plain": [
       "<AxesSubplot:>"
      ]
     },
     "execution_count": 70,
     "metadata": {},
     "output_type": "execute_result"
    },
    {
     "data": {
      "image/png": "[encoded data removed]",
      "text/plain": [
       "<Figure size 432x288 with 2 Axes>"
      ]
     },
     "metadata": {
      "needs_background": "light"
     },
     "output_type": "display_data"
    }
   ],
   "source": [
    "sns.heatmap(ordered_p, cmap=\"Reds\", vmax=0.4)"
   ]
  },
  {
   "cell_type": "code",
   "execution_count": 71,
   "id": "a_GRSIjOIWlY",
   "metadata": {
    "executionInfo": {
     "elapsed": 721,
     "status": "ok",
     "timestamp": 1652789401457,
     "user": {
      "displayName": "Jianzhang Ni",
      "userId": "18109982546966884557"
     },
     "user_tz": -60
    },
    "id": "a_GRSIjOIWlY"
   },
   "outputs": [],
   "source": [
    "from IPython.display import SVG\n",
    "import numpy as np\n",
    "import networkx as nx\n",
    "from sknetwork.data import karate_club, painters, movie_actor\n",
    "from sknetwork.clustering import Louvain, modularity, bimodularity\n",
    "from sknetwork.linalg import normalize\n",
    "from sknetwork.utils import bipartite2undirected, membership_matrix\n",
    "from sknetwork.visualization import svg_graph, svg_digraph, svg_bigraph"
   ]
  },
  {
   "cell_type": "code",
   "execution_count": 72,
   "id": "yW8DoZIELgcl",
   "metadata": {
    "executionInfo": {
     "elapsed": 2,
     "status": "ok",
     "timestamp": 1652789401864,
     "user": {
      "displayName": "Jianzhang Ni",
      "userId": "18109982546966884557"
     },
     "user_tz": -60
    },
    "id": "yW8DoZIELgcl"
   },
   "outputs": [],
   "source": [
    "G = nx.DiGraph()  # or DiGraph, MultiGraph, MultiDiGraph, etc\n",
    "for node in range(ordered_p.shape[0]):\n",
    "    for other_node in range(ordered_p.shape[0]):\n",
    "        if node == other_node:\n",
    "            continue\n",
    "        G.add_weighted_edges_from([(node, other_node, ordered_p[node,other_node])])"
   ]
  },
  {
   "cell_type": "code",
   "execution_count": 73,
   "id": "mieshWlPWlvC",
   "metadata": {
    "colab": {
     "base_uri": "https://localhost:8080/",
     "height": 361
    },
    "executionInfo": {
     "elapsed": 419,
     "status": "ok",
     "timestamp": 1652789405556,
     "user": {
      "displayName": "Jianzhang Ni",
      "userId": "18109982546966884557"
     },
     "user_tz": -60
    },
    "id": "mieshWlPWlvC",
    "outputId": "17ee30c8-95ac-4430-c653-7641b70131a0"
   },
   "outputs": [
    {
     "data": {
      "image/svg+xml": [
       "<svg height=\"340\" width=\"512.0\" xmlns=\"http://www.w3.org/2000/svg\">\n",
       "<defs><marker id=\"arrow-gray\" markerHeight=\"10\" markerWidth=\"10\" orient=\"auto\" refX=\"9\" refY=\"3\">\n",
       "<path d=\"M0,0 L0,6 L9,3 z\" fill=\"gray\"/></marker></defs>\n",
       "<path d=\"M 330 20 260 196\" marker-end=\"url(#arrow-gray)\" stroke=\"gray\" stroke-width=\"2.87506510683898\"/>\n",
       "<path d=\"M 20 172 414 199\" marker-end=\"url(#arrow-gray)\" stroke=\"gray\" stroke-width=\"1.161204217856719\"/>\n",
       "<path d=\"M 20 172 252 202\" marker-end=\"url(#arrow-gray)\" stroke=\"gray\" stroke-width=\"2.62872455334575\"/>\n",
       "<path d=\"M 20 172 324 23\" marker-end=\"url(#arrow-gray)\" stroke=\"gray\" stroke-width=\"0.567807033693481\"/>\n",
       "<path d=\"M 132 27 24 167\" marker-end=\"url(#arrow-gray)\" stroke=\"gray\" stroke-width=\"1.4684408320922833\"/>\n",
       "<path d=\"M 132 27 171 314\" marker-end=\"url(#arrow-gray)\" stroke=\"gray\" stroke-width=\"2.4557510246022316\"/>\n",
       "<path d=\"M 132 27 414 196\" marker-end=\"url(#arrow-gray)\" stroke=\"gray\" stroke-width=\"1.2836450501461263\"/>\n",
       "<path d=\"M 132 27 254 197\" marker-end=\"url(#arrow-gray)\" stroke=\"gray\" stroke-width=\"2.9066770245632214\"/>\n",
       "<path d=\"M 132 27 324 20\" marker-end=\"url(#arrow-gray)\" stroke=\"gray\" stroke-width=\"2.130271939069747\"/>\n",
       "<path d=\"M 171 320 25 176\" marker-end=\"url(#arrow-gray)\" stroke=\"gray\" stroke-width=\"1.5297871396905154\"/>\n",
       "<path d=\"M 171 320 132 33\" marker-end=\"url(#arrow-gray)\" stroke=\"gray\" stroke-width=\"0.8728145733713996\"/>\n",
       "<path d=\"M 171 320 414 202\" marker-end=\"url(#arrow-gray)\" stroke=\"gray\" stroke-width=\"0.7318902456840942\"/>\n",
       "<path d=\"M 171 320 254 207\" marker-end=\"url(#arrow-gray)\" stroke=\"gray\" stroke-width=\"5.0\"/>\n",
       "<path d=\"M 171 320 327 26\" marker-end=\"url(#arrow-gray)\" stroke=\"gray\" stroke-width=\"2.1102939117275987\"/>\n",
       "<path d=\"M 420 199 26 172\" marker-end=\"url(#arrow-gray)\" stroke=\"gray\" stroke-width=\"0.8325317226862705\"/>\n",
       "<path d=\"M 420 199 138 30\" marker-end=\"url(#arrow-gray)\" stroke=\"gray\" stroke-width=\"1.3301632686101317\"/>\n",
       "<path d=\"M 420 199 177 317\" marker-end=\"url(#arrow-gray)\" stroke=\"gray\" stroke-width=\"1.429702450579168\"/>\n",
       "<path d=\"M 420 199 264 202\" marker-end=\"url(#arrow-gray)\" stroke=\"gray\" stroke-width=\"4.826434274663735\"/>\n",
       "<path d=\"M 420 199 333 26\" marker-end=\"url(#arrow-gray)\" stroke=\"gray\" stroke-width=\"1.8259541539343036\"/>\n",
       "<path d=\"M 258 202 26 172\" marker-end=\"url(#arrow-gray)\" stroke=\"gray\" stroke-width=\"0.5\"/>\n",
       "<path d=\"M 258 202 136 32\" marker-end=\"url(#arrow-gray)\" stroke=\"gray\" stroke-width=\"0.9177807093170032\"/>\n",
       "<path d=\"M 258 202 175 315\" marker-end=\"url(#arrow-gray)\" stroke=\"gray\" stroke-width=\"3.8519809010955943\"/>\n",
       "<path d=\"M 258 202 414 199\" marker-end=\"url(#arrow-gray)\" stroke=\"gray\" stroke-width=\"3.166565413598536\"/>\n",
       "<path d=\"M 258 202 328 26\" marker-end=\"url(#arrow-gray)\" stroke=\"gray\" stroke-width=\"1.8084588464624716\"/>\n",
       "<path d=\"M 330 20 26 169\" marker-end=\"url(#arrow-gray)\" stroke=\"gray\" stroke-width=\"0.7863231421995207\"/>\n",
       "<path d=\"M 330 20 138 27\" marker-end=\"url(#arrow-gray)\" stroke=\"gray\" stroke-width=\"3.255306114799512\"/>\n",
       "<path d=\"M 330 20 174 314\" marker-end=\"url(#arrow-gray)\" stroke=\"gray\" stroke-width=\"0.8438065829514543\"/>\n",
       "<path d=\"M 330 20 417 193\" marker-end=\"url(#arrow-gray)\" stroke=\"gray\" stroke-width=\"2.4842849236841387\"/>\n",
       "<path d=\"M 20 172 166 316\" marker-end=\"url(#arrow-gray)\" stroke=\"gray\" stroke-width=\"1.6775548545407786\"/>\n",
       "<path d=\"M 20 172 128 32\" marker-end=\"url(#arrow-gray)\" stroke=\"gray\" stroke-width=\"4.209495211036881\"/>\n",
       "<circle cx=\"330\" cy=\"20\" r=\"7.0\" style=\"fill:blue;stroke:black;stroke-width:1.0\"/>\n",
       "<circle cx=\"258\" cy=\"202\" r=\"7.0\" style=\"fill:blue;stroke:black;stroke-width:1.0\"/>\n",
       "<circle cx=\"420\" cy=\"199\" r=\"7.0\" style=\"fill:blue;stroke:black;stroke-width:1.0\"/>\n",
       "<circle cx=\"171\" cy=\"320\" r=\"7.0\" style=\"fill:blue;stroke:black;stroke-width:1.0\"/>\n",
       "<circle cx=\"132\" cy=\"27\" r=\"7.0\" style=\"fill:blue;stroke:black;stroke-width:1.0\"/>\n",
       "<circle cx=\"20\" cy=\"172\" r=\"7.0\" style=\"fill:blue;stroke:black;stroke-width:1.0\"/>\n",
       "<text font-size=\"12\" text-anchor=\"start\" x=\"347\" y=\"20\">State1</text><text font-size=\"12\" text-anchor=\"start\" x=\"275\" y=\"202\">State2</text><text font-size=\"12\" text-anchor=\"start\" x=\"437\" y=\"199\">State3</text><text font-size=\"12\" text-anchor=\"start\" x=\"188\" y=\"320\">State4</text><text font-size=\"12\" text-anchor=\"start\" x=\"149\" y=\"27\">State5</text><text font-size=\"12\" text-anchor=\"start\" x=\"37\" y=\"172\">State6</text></svg>"
      ],
      "text/plain": [
       "<IPython.core.display.SVG object>"
      ]
     },
     "execution_count": 73,
     "metadata": {},
     "output_type": "execute_result"
    }
   ],
   "source": [
    "A= nx.to_scipy_sparse_matrix(G)\n",
    "louvain = Louvain()\n",
    "labels = louvain.fit_transform(A)\n",
    "names = [f\"State{i+1}\" for i in range(K_state) ]\n",
    "image = svg_digraph(A,names=names, labels=labels)\n",
    "SVG(image)"
   ]
  },
  {
   "cell_type": "code",
   "execution_count": 74,
   "id": "TE0Jsq0Laiu0",
   "metadata": {
    "colab": {
     "base_uri": "https://localhost:8080/"
    },
    "executionInfo": {
     "elapsed": 3,
     "status": "ok",
     "timestamp": 1650549584358,
     "user": {
      "displayName": "Jianzhang Ni",
      "userId": "18109982546966884557"
     },
     "user_tz": -60
    },
    "id": "TE0Jsq0Laiu0",
    "outputId": "e2ccfa6c-ba1b-4177-f095-977a74352cc1"
   },
   "outputs": [
    {
     "data": {
      "text/plain": [
       "<6x1 sparse matrix of type '<class 'numpy.float64'>'\n",
       "\twith 6 stored elements in Compressed Sparse Row format>"
      ]
     },
     "execution_count": 74,
     "metadata": {},
     "output_type": "execute_result"
    }
   ],
   "source": [
    "louvain.membership_"
   ]
  },
  {
   "cell_type": "code",
   "execution_count": 75,
   "id": "PuuSyAe0Zvqt",
   "metadata": {
    "colab": {
     "base_uri": "https://localhost:8080/",
     "height": 361
    },
    "executionInfo": {
     "elapsed": 546,
     "status": "ok",
     "timestamp": 1652789447990,
     "user": {
      "displayName": "Jianzhang Ni",
      "userId": "18109982546966884557"
     },
     "user_tz": -60
    },
    "id": "PuuSyAe0Zvqt",
    "outputId": "f70faa5e-4746-4be2-da61-d4582e279d4f"
   },
   "outputs": [
    {
     "data": {
      "image/svg+xml": [
       "<svg height=\"340\" width=\"440\" xmlns=\"http://www.w3.org/2000/svg\">\n",
       "<path d=\"M 270 320 245 150\" stroke=\"black\" stroke-width=\"10.791948796302247\"/>\n",
       "<path d=\"M 20 93 277 20\" stroke=\"black\" stroke-width=\"3.3652182773791157\"/>\n",
       "<path d=\"M 20 93 245 150\" stroke=\"black\" stroke-width=\"9.72447306449825\"/>\n",
       "<path d=\"M 20 93 270 320\" stroke=\"black\" stroke-width=\"0.7938304793384174\"/>\n",
       "<path d=\"M 59 263 20 93\" stroke=\"black\" stroke-width=\"4.696576939066561\"/>\n",
       "<path d=\"M 59 263 420 187\" stroke=\"black\" stroke-width=\"8.97492110660967\"/>\n",
       "<path d=\"M 59 263 277 20\" stroke=\"black\" stroke-width=\"3.8957952172998804\"/>\n",
       "<path d=\"M 59 263 245 150\" stroke=\"black\" stroke-width=\"10.928933773107293\"/>\n",
       "<path d=\"M 59 263 270 320\" stroke=\"black\" stroke-width=\"7.564511735968901\"/>\n",
       "<path d=\"M 420 187 20 93\" stroke=\"black\" stroke-width=\"4.9624109386589\"/>\n",
       "<path d=\"M 420 187 59 263\" stroke=\"black\" stroke-width=\"2.1155298179427313\"/>\n",
       "<path d=\"M 420 187 277 20\" stroke=\"black\" stroke-width=\"1.5048577312977418\"/>\n",
       "<path d=\"M 420 187 245 150\" stroke=\"black\" stroke-width=\"20.0\"/>\n",
       "<path d=\"M 420 187 270 320\" stroke=\"black\" stroke-width=\"7.477940284152928\"/>\n",
       "<path d=\"M 277 20 20 93\" stroke=\"black\" stroke-width=\"1.940970798307172\"/>\n",
       "<path d=\"M 277 20 59 263\" stroke=\"black\" stroke-width=\"4.097374163977237\"/>\n",
       "<path d=\"M 277 20 420 187\" stroke=\"black\" stroke-width=\"4.528710619176395\"/>\n",
       "<path d=\"M 277 20 245 150\" stroke=\"black\" stroke-width=\"19.247881856876184\"/>\n",
       "<path d=\"M 277 20 270 320\" stroke=\"black\" stroke-width=\"6.245801333715315\"/>\n",
       "<path d=\"M 245 150 20 93\" stroke=\"black\" stroke-width=\"0.5\"/>\n",
       "<path d=\"M 245 150 59 263\" stroke=\"black\" stroke-width=\"2.3103830737070137\"/>\n",
       "<path d=\"M 245 150 420 187\" stroke=\"black\" stroke-width=\"15.025250571414244\"/>\n",
       "<path d=\"M 245 150 277 20\" stroke=\"black\" stroke-width=\"12.055116792260323\"/>\n",
       "<path d=\"M 245 150 270 320\" stroke=\"black\" stroke-width=\"6.16998833467071\"/>\n",
       "<path d=\"M 270 320 20 93\" stroke=\"black\" stroke-width=\"1.740733616197923\"/>\n",
       "<path d=\"M 270 320 59 263\" stroke=\"black\" stroke-width=\"12.439659830797886\"/>\n",
       "<path d=\"M 270 320 420 187\" stroke=\"black\" stroke-width=\"1.9898285261229682\"/>\n",
       "<path d=\"M 270 320 277 20\" stroke=\"black\" stroke-width=\"9.098568002631268\"/>\n",
       "<path d=\"M 20 93 420 187\" stroke=\"black\" stroke-width=\"5.602737703010041\"/>\n",
       "<path d=\"M 20 93 59 263\" stroke=\"black\" stroke-width=\"16.57447924782648\"/>\n",
       "<circle cx=\"270\" cy=\"320\" r=\"7.0\" style=\"fill:rgb(219, 220, 222);stroke:black;stroke-width:1.0\"/>\n",
       "<circle cx=\"245\" cy=\"150\" r=\"7.0\" style=\"fill:rgb(219, 220, 222);stroke:black;stroke-width:1.0\"/>\n",
       "<circle cx=\"277\" cy=\"20\" r=\"7.0\" style=\"fill:rgb(219, 220, 222);stroke:black;stroke-width:1.0\"/>\n",
       "<circle cx=\"420\" cy=\"187\" r=\"7.0\" style=\"fill:rgb(219, 220, 222);stroke:black;stroke-width:1.0\"/>\n",
       "<circle cx=\"59\" cy=\"263\" r=\"7.0\" style=\"fill:rgb(219, 220, 222);stroke:black;stroke-width:1.0\"/>\n",
       "<circle cx=\"20\" cy=\"93\" r=\"7.0\" style=\"fill:rgb(219, 220, 222);stroke:black;stroke-width:1.0\"/>\n",
       "</svg>"
      ],
      "text/plain": [
       "<IPython.core.display.SVG object>"
      ]
     },
     "execution_count": 75,
     "metadata": {},
     "output_type": "execute_result"
    }
   ],
   "source": [
    "scores = louvain.membership_.toarray().ravel()\n",
    "image = svg_graph(A, scores=scores)\n",
    "SVG(image)"
   ]
  },
  {
   "cell_type": "code",
   "execution_count": 76,
   "id": "bI9nhsXgOmU7",
   "metadata": {
    "colab": {
     "base_uri": "https://localhost:8080/",
     "height": 244
    },
    "executionInfo": {
     "elapsed": 413,
     "status": "error",
     "timestamp": 1652789467505,
     "user": {
      "displayName": "Jianzhang Ni",
      "userId": "18109982546966884557"
     },
     "user_tz": -60
    },
    "id": "bI9nhsXgOmU7",
    "outputId": "c9acd733-7158-49eb-bf36-4920af50f2aa"
   },
   "outputs": [
    {
     "ename": "AttributeError",
     "evalue": "'DiGraph' object has no attribute 'items'",
     "output_type": "error",
     "traceback": [
      "\u001b[0;31m---------------------------------------------------------------------------\u001b[0m",
      "\u001b[0;31mAttributeError\u001b[0m                            Traceback (most recent call last)",
      "\u001b[0;32m/tmp/ipykernel_158698/4220079764.py\u001b[0m in \u001b[0;36m<module>\u001b[0;34m\u001b[0m\n\u001b[1;32m      7\u001b[0m }\n\u001b[1;32m      8\u001b[0m \u001b[0;34m\u001b[0m\u001b[0m\n\u001b[0;32m----> 9\u001b[0;31m \u001b[0mnode_cmap\u001b[0m \u001b[0;34m=\u001b[0m \u001b[0;34m[\u001b[0m\u001b[0mcmap\u001b[0m\u001b[0;34m[\u001b[0m\u001b[0mv\u001b[0m\u001b[0;34m]\u001b[0m \u001b[0;32mfor\u001b[0m \u001b[0m_\u001b[0m\u001b[0;34m,\u001b[0m\u001b[0mv\u001b[0m \u001b[0;32min\u001b[0m \u001b[0mG\u001b[0m\u001b[0;34m.\u001b[0m\u001b[0mitems\u001b[0m\u001b[0;34m(\u001b[0m\u001b[0;34m)\u001b[0m\u001b[0;34m]\u001b[0m\u001b[0;34m\u001b[0m\u001b[0;34m\u001b[0m\u001b[0m\n\u001b[0m\u001b[1;32m     10\u001b[0m \u001b[0;34m\u001b[0m\u001b[0m\n\u001b[1;32m     11\u001b[0m \u001b[0mpos\u001b[0m \u001b[0;34m=\u001b[0m \u001b[0mnx\u001b[0m\u001b[0;34m.\u001b[0m\u001b[0mspring_layout\u001b[0m\u001b[0;34m(\u001b[0m\u001b[0mG\u001b[0m\u001b[0;34m)\u001b[0m\u001b[0;34m\u001b[0m\u001b[0;34m\u001b[0m\u001b[0m\n",
      "\u001b[0;31mAttributeError\u001b[0m: 'DiGraph' object has no attribute 'items'"
     ]
    }
   ],
   "source": [
    "cmap = {\n",
    "    0 : 'maroon',\n",
    "    1 : 'teal',\n",
    "    2 : 'black', \n",
    "    3 : 'orange',\n",
    "    4 : 'green',\n",
    "}\n",
    "\n",
    "node_cmap = [cmap[v] for _,v in G.items()]\n",
    "\n",
    "pos = nx.spring_layout(G)\n",
    "nx.draw(G, pos, node_size = 75, alpha = 0.8, node_color=node_cmap)\n",
    "plt.show(G)"
   ]
  },
  {
   "cell_type": "code",
   "execution_count": null,
   "id": "h9QZJ3PgIRkI",
   "metadata": {
    "id": "h9QZJ3PgIRkI"
   },
   "outputs": [],
   "source": [
    "import random\n",
    "import networkx as nx\n",
    "import numpy as np\n",
    "import matplotlib.pyplot as plt\n"
   ]
  },
  {
   "cell_type": "code",
   "execution_count": null,
   "id": "m-llqULNOrTV",
   "metadata": {
    "id": "m-llqULNOrTV"
   },
   "outputs": [],
   "source": [
    "graph = painters(metadata=True)\n",
    "adjacency = graph.adjacency\n",
    "names = graph.names\n",
    "position = graph.position\n",
    "# clustering\n",
    "louvain = Louvain()\n",
    "labels = louvain.fit_transform(adjacency)\n",
    "labels_unique, counts = np.unique(labels, return_counts=True)\n",
    "print(labels_unique, counts)\n",
    "[0 1 2] [5 5 4]\n",
    "image = svg_digraph(adjacency, position, names=names, labels=labels)\n",
    "SVG(image)\n"
   ]
  },
  {
   "cell_type": "code",
   "execution_count": null,
   "id": "3hXT7mQRVJ1u",
   "metadata": {
    "id": "3hXT7mQRVJ1u"
   },
   "outputs": [],
   "source": []
  },
  {
   "cell_type": "code",
   "execution_count": null,
   "id": "N0OMANHCWf4Y",
   "metadata": {
    "colab": {
     "base_uri": "https://localhost:8080/"
    },
    "executionInfo": {
     "elapsed": 291,
     "status": "ok",
     "timestamp": 1650548754221,
     "user": {
      "displayName": "Jianzhang Ni",
      "userId": "18109982546966884557"
     },
     "user_tz": -60
    },
    "id": "N0OMANHCWf4Y",
    "outputId": "30711191-47ed-4caa-c144-0224c8bf1af7"
   },
   "outputs": [],
   "source": [
    "A"
   ]
  },
  {
   "cell_type": "code",
   "execution_count": null,
   "id": "zNou9fwLW0za",
   "metadata": {
    "colab": {
     "base_uri": "https://localhost:8080/"
    },
    "executionInfo": {
     "elapsed": 197,
     "status": "ok",
     "timestamp": 1650548654923,
     "user": {
      "displayName": "Jianzhang Ni",
      "userId": "18109982546966884557"
     },
     "user_tz": -60
    },
    "id": "zNou9fwLW0za",
    "outputId": "3a10b397-f54d-4474-c314-fb11e0c00041"
   },
   "outputs": [],
   "source": [
    "labels"
   ]
  },
  {
   "cell_type": "code",
   "execution_count": null,
   "id": "zQ3qjVNJXcAk",
   "metadata": {
    "id": "zQ3qjVNJXcAk"
   },
   "outputs": [],
   "source": []
  }
 ],
 "metadata": {
  "colab": {
   "collapsed_sections": [],
   "name": "model_selection.ipynb",
   "provenance": []
  },
  "kernelspec": {
   "display_name": "Python 3 (ipykernel)",
   "language": "python",
   "name": "python3"
  },
  "language_info": {
   "codemirror_mode": {
    "name": "ipython",
    "version": 3
   },
   "file_extension": ".py",
   "mimetype": "text/x-python",
   "name": "python",
   "nbconvert_exporter": "python",
   "pygments_lexer": "ipython3",
   "version": "3.7.13"
  },
  "widgets": {
   "application/vnd.jupyter.widget-state+json": {
    "state": {},
    "version_major": 2,
    "version_minor": 0
   }
  }
 },
 "nbformat": 4,
 "nbformat_minor": 5
}
