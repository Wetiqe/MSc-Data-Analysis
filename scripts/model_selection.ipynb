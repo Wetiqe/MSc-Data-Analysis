{
 "cells": [
  {
   "cell_type": "markdown",
   "id": "549839f8-87ff-44e1-84bd-3f5d7510c960",
   "metadata": {
    "id": "549839f8-87ff-44e1-84bd-3f5d7510c960"
   },
   "source": [
    "# Model Selection"
   ]
  },
  {
   "cell_type": "code",
   "execution_count": 1,
   "id": "-iBg_1g_3ri4",
   "metadata": {
    "executionInfo": {
     "elapsed": 462,
     "status": "ok",
     "timestamp": 1652789142642,
     "user": {
      "displayName": "Jianzhang Ni",
      "userId": "18109982546966884557"
     },
     "user_tz": -60
    },
    "id": "-iBg_1g_3ri4"
   },
   "outputs": [],
   "source": [
    "from scipy.io import loadmat\n",
    "import numpy as np\n",
    "import seaborn as sns\n",
    "import pandas as pd\n",
    "from matplotlib import pyplot as plt\n",
    "\n",
    "# Self-defined functions\n",
    "from warpped.collection import load_simimat, mean_simi, mean_simi_mat\n",
    "from warpped.collection import parse_chronnectome\n",
    "from warpped.collection import replace_global\n",
    "from warpped.global_variables import hmminfo_source, base, behav_dir\n",
    "from warpped.global_variables import sub_num, total_reps, K_max\n",
    "from warpped.figures import fig_set\n"
   ]
  },
  {
   "cell_type": "code",
   "execution_count": 2,
   "id": "e49554dc-f73d-47dd-9d45-587158ead6d8",
   "metadata": {},
   "outputs": [],
   "source": [
    "# Global settings\n",
    "sns.set_style(\"white\")\n",
    "pd.set_option('display.max_columns',1000)\n",
    "pd.set_option('display.max_row',300)"
   ]
  },
  {
   "cell_type": "markdown",
   "id": "a2ea84e1-b1de-459e-af36-5858bc97f2c4",
   "metadata": {
    "id": "a2ea84e1-b1de-459e-af36-5858bc97f2c4"
   },
   "source": [
    "## Select K \n",
    "``` matlab\n",
    "value = getGammaSimilarity(gamma{i}, gamma{j})\n",
    "\n",
    "simi_matrix(i,j)=value; simi_matrix(j,i)=value\n",
    "```"
   ]
  },
  {
   "cell_type": "code",
   "execution_count": 3,
   "id": "345cea1a-e37e-4730-83f6-93a42aa2da39",
   "metadata": {
    "colab": {
     "base_uri": "https://localhost:8080/",
     "height": 112
    },
    "executionInfo": {
     "elapsed": 13557,
     "status": "ok",
     "timestamp": 1652789158829,
     "user": {
      "displayName": "Jianzhang Ni",
      "userId": "18109982546966884557"
     },
     "user_tz": -60
    },
    "id": "345cea1a-e37e-4730-83f6-93a42aa2da39",
    "outputId": "bbcc846f-c276-400c-ea4b-0d25548bba08"
   },
   "outputs": [],
   "source": [
    "mean_simi_df = mean_simi_mat(range(1, K_max), base)"
   ]
  },
  {
   "cell_type": "code",
   "execution_count": 4,
   "id": "EJXV_bQw0ggF",
   "metadata": {
    "colab": {
     "base_uri": "https://localhost:8080/",
     "height": 368
    },
    "executionInfo": {
     "elapsed": 17,
     "status": "ok",
     "timestamp": 1652789158831,
     "user": {
      "displayName": "Jianzhang Ni",
      "userId": "18109982546966884557"
     },
     "user_tz": -60
    },
    "id": "EJXV_bQw0ggF",
    "outputId": "3326d488-a1c6-423e-c9c2-6a9188e79e03"
   },
   "outputs": [
    {
     "data": {
      "text/plain": [
       "Text(108.125, 0.5, 'Mean Similarity')"
      ]
     },
     "execution_count": 4,
     "metadata": {},
     "output_type": "execute_result"
    },
    {
     "data": {
      "image/png": "[encoded data removed]",
      "text/plain": [
       "<Figure size 1080x360 with 1 Axes>"
      ]
     },
     "metadata": {
      "needs_background": "light"
     },
     "output_type": "display_data"
    }
   ],
   "source": [
    "plt.figure(figsize=(15,5))\n",
    "fig_set()\n",
    "plt.title(\"Mean state similarity\")\n",
    "sns.barplot(x='State', y='Mean_simi', data=mean_simi_df, color=\"gray\")\n",
    "plt.xlabel('Number of States')\n",
    "plt.ylabel('Mean Similarity')"
   ]
  },
  {
   "cell_type": "code",
   "execution_count": 5,
   "id": "qH4kPwzV-OBZ",
   "metadata": {
    "executionInfo": {
     "elapsed": 455,
     "status": "ok",
     "timestamp": 1652789168647,
     "user": {
      "displayName": "Jianzhang Ni",
      "userId": "18109982546966884557"
     },
     "user_tz": -60
    },
    "id": "qH4kPwzV-OBZ"
   },
   "outputs": [],
   "source": [
    "K_state = 10 # select K\n",
    "replace_global(\"K_state\", K_state)"
   ]
  },
  {
   "cell_type": "markdown",
   "id": "e501644f-c914-480a-b33d-33403c631f7f",
   "metadata": {
    "id": "e501644f-c914-480a-b33d-33403c631f7f"
   },
   "source": [
    "## Select Reptition"
   ]
  },
  {
   "cell_type": "code",
   "execution_count": 6,
   "id": "-Yn1rpiK9bbu",
   "metadata": {
    "executionInfo": {
     "elapsed": 3,
     "status": "ok",
     "timestamp": 1652789169200,
     "user": {
      "displayName": "Jianzhang Ni",
      "userId": "18109982546966884557"
     },
     "user_tz": -60
    },
    "id": "-Yn1rpiK9bbu"
   },
   "outputs": [],
   "source": [
    "state_simimat=load_simimat(K_state, base)"
   ]
  },
  {
   "cell_type": "code",
   "execution_count": 7,
   "id": "e097f317-f94a-4fee-b071-b27dd05a885e",
   "metadata": {
    "colab": {
     "base_uri": "https://localhost:8080/",
     "height": 287
    },
    "executionInfo": {
     "elapsed": 9,
     "status": "ok",
     "timestamp": 1652789170214,
     "user": {
      "displayName": "Jianzhang Ni",
      "userId": "18109982546966884557"
     },
     "user_tz": -60
    },
    "id": "e097f317-f94a-4fee-b071-b27dd05a885e",
    "outputId": "fd18a1e2-db8f-40a1-e371-8ef3517f651e"
   },
   "outputs": [
    {
     "data": {
      "text/plain": [
       "<AxesSubplot:>"
      ]
     },
     "execution_count": 7,
     "metadata": {},
     "output_type": "execute_result"
    },
    {
     "data": {
      "image/png": "[encoded data removed]",
      "text/plain": [
       "<Figure size 432x288 with 2 Axes>"
      ]
     },
     "metadata": {
      "needs_background": "light"
     },
     "output_type": "display_data"
    }
   ],
   "source": [
    "sns.heatmap(pd.DataFrame(state_simimat, index=range(1,6), columns=range(1,6)), cmap='Reds', vmin=0.5)"
   ]
  },
  {
   "cell_type": "code",
   "execution_count": 8,
   "id": "GMFgtEI6BGfV",
   "metadata": {
    "colab": {
     "base_uri": "https://localhost:8080/",
     "height": 299
    },
    "executionInfo": {
     "elapsed": 451,
     "status": "ok",
     "timestamp": 1652789171054,
     "user": {
      "displayName": "Jianzhang Ni",
      "userId": "18109982546966884557"
     },
     "user_tz": -60
    },
    "id": "GMFgtEI6BGfV",
    "outputId": "6a1033e4-c325-4bfe-cd09-159c5b1bee58"
   },
   "outputs": [
    {
     "data": {
      "text/plain": [
       "Text(0.5, 1.0, 'Mean Similarity for Each Reptition')"
      ]
     },
     "execution_count": 8,
     "metadata": {},
     "output_type": "execute_result"
    },
    {
     "data": {
      "image/png": "[encoded data removed]",
      "text/plain": [
       "<Figure size 432x288 with 1 Axes>"
      ]
     },
     "metadata": {
      "needs_background": "light"
     },
     "output_type": "display_data"
    }
   ],
   "source": [
    "pd.DataFrame((state_simimat.sum(axis=1)-1)/4, index=range(1,6), columns=['mean similarity']).plot()\n",
    "fig_set()\n",
    "plt.title(\"Mean Similarity for Each Reptition\")"
   ]
  },
  {
   "cell_type": "code",
   "execution_count": 9,
   "id": "7e6ecdd0-44f1-47fa-b56a-3b33c92e22c1",
   "metadata": {},
   "outputs": [],
   "source": [
    "\n",
    "maxfo_array = np.array([]); switch_array = maxfo_array.copy()\n",
    "rep_index= np.repeat([i for i in range(1, total_reps+1)],sub_num)\n",
    "\n",
    "for r in range(total_reps):\n",
    "    hmminfo_file = base+f'hmminfo/hmminfo_k{K_state}_rep_{r+1}.mat'\n",
    "    info_array=loadmat(hmminfo_file)[hmminfo_source]\n",
    "    sr, mf = parse_chronnectome(info_array, model_selection=True)\n",
    "    switch_array = np.concatenate((switch_array, sr))\n",
    "    maxfo_array = np.concatenate((maxfo_array, mf))\n",
    "    \n",
    "switching_rate_df = pd.DataFrame(np.array([rep_index, switch_array]).T, columns=['rep_num', 'Switching Rates']) \n",
    "maxfo_df = pd.DataFrame(np.array([rep_index, maxfo_array]).T, columns=['rep_num', 'Max FO']) "
   ]
  },
  {
   "cell_type": "code",
   "execution_count": 10,
   "id": "ad9fae57-25ff-453b-a5dc-119c2347d069",
   "metadata": {},
   "outputs": [
    {
     "data": {
      "image/png": "[encoded data removed]",
      "text/plain": [
       "<Figure size 432x288 with 1 Axes>"
      ]
     },
     "metadata": {
      "needs_background": "light"
     },
     "output_type": "display_data"
    }
   ],
   "source": [
    "sns.boxplot(x='rep_num', y='Switching Rates', data=switching_rate_df)\n",
    "fig_set()"
   ]
  },
  {
   "cell_type": "code",
   "execution_count": 11,
   "id": "25d686d5-ac49-4f03-bee9-3d39b7c5ac81",
   "metadata": {},
   "outputs": [
    {
     "data": {
      "image/png": "[encoded data removed]",
      "text/plain": [
       "<Figure size 432x288 with 1 Axes>"
      ]
     },
     "metadata": {
      "needs_background": "light"
     },
     "output_type": "display_data"
    }
   ],
   "source": [
    "sns.boxplot(x='rep_num', y='Max FO', data=maxfo_df)\n",
    "fig_set()"
   ]
  },
  {
   "cell_type": "code",
   "execution_count": 12,
   "id": "MTDOepwc4lAS",
   "metadata": {
    "colab": {
     "base_uri": "https://localhost:8080/",
     "height": 36
    },
    "executionInfo": {
     "elapsed": 6,
     "status": "ok",
     "timestamp": 1652789172065,
     "user": {
      "displayName": "Jianzhang Ni",
      "userId": "18109982546966884557"
     },
     "user_tz": -60
    },
    "id": "MTDOepwc4lAS",
    "outputId": "36e19fe1-90d6-414f-84a4-7bcffdf462b8"
   },
   "outputs": [
    {
     "data": {
      "text/plain": [
       "'/home/jzni/dissertation/analysis/output/hmminfo/hmminfo_k10_rep_2.mat'"
      ]
     },
     "execution_count": 12,
     "metadata": {},
     "output_type": "execute_result"
    }
   ],
   "source": [
    "rep_num = 2\n",
    "replace_global(\"rep_num\", rep_num)\n",
    "hmm_file = base+f'chronotype_k{K_state}_rep_{rep_num}.mat'\n",
    "hmminfo_file = base+f'hmminfo/hmminfo_k{K_state}_rep_{rep_num}.mat'\n",
    "hmminfo_file"
   ]
  },
  {
   "cell_type": "code",
   "execution_count": null,
   "id": "350cc327-b0ae-4d4b-95dd-ec91485d4567",
   "metadata": {},
   "outputs": [],
   "source": []
  }
 ],
 "metadata": {
  "colab": {
   "collapsed_sections": [],
   "name": "model_selection.ipynb",
   "provenance": []
  },
  "kernelspec": {
   "display_name": "Python 3 (ipykernel)",
   "language": "python",
   "name": "python3"
  },
  "language_info": {
   "codemirror_mode": {
    "name": "ipython",
    "version": 3
   },
   "file_extension": ".py",
   "mimetype": "text/x-python",
   "name": "python",
   "nbconvert_exporter": "python",
   "pygments_lexer": "ipython3",
   "version": "3.8.13"
  },
  "widgets": {
   "application/vnd.jupyter.widget-state+json": {
    "state": {},
    "version_major": 2,
    "version_minor": 0
   }
  }
 },
 "nbformat": 4,
 "nbformat_minor": 5
}
